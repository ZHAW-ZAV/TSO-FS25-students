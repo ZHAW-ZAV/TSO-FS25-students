{
 "cells": [
  {
   "cell_type": "markdown",
   "metadata": {},
   "source": [
    "<a target=\"_blank\" href=\"https://colab.research.google.com/github/ZHAW-ZAV/TSO-FS25/blob/main/02_python_viz/02_11_exercise_co2.ipynb\">\n",
    "  <img src=\"https://colab.research.google.com/assets/colab-badge.svg\" alt=\"Open In Colab\"/>\n",
    "</a>"
   ]
  },
  {
   "cell_type": "code",
   "execution_count": null,
   "metadata": {},
   "outputs": [],
   "source": [
    "import sys\n",
    "import os\n",
    "\n",
    "IN_COLAB = \"google.colab\" in sys.modules\n",
    "\n",
    "file_id_co2 = \"1-FxcOXUXMrXZzDzeLgarKoQfa2QN_sXO\"\n",
    "file_id_capitals = \"1U9IbkK9cT94bJlJ1Ie1VLfqWFv5HOZBM\"\n",
    "\n",
    "if IN_COLAB:\n",
    "    path_to_co2 = \"/content/data/co2_emmissions_by_state.csv\"\n",
    "    os.makedirs(os.path.dirname(path_to_co2), exist_ok=True)\n",
    "    !gdown \"https://drive.google.com/uc?id={file_id_co2}\" -O \"{path_to_co2}\"\n",
    "\n",
    "    path_to_capitals = \"/content/data/capitals.csv\"\n",
    "    os.makedirs(os.path.dirname(path_to_capitals), exist_ok=True)\n",
    "    !gdown \"https://drive.google.com/uc?id={file_id_capitals}\" -O \"{path_to_capitals}\"\n",
    "\n",
    "    # Unfortunately, Colab does not come with the Kaleido library installed.\n",
    "    !pip install -q kaleido\n",
    "\n",
    "else:\n",
    "    import gdown\n",
    "\n",
    "    url = f\"https://drive.google.com/uc?id={file_id_co2}\"\n",
    "    path_to_co2 = \"data/co2_emmissions_by_state.csv\"\n",
    "    os.makedirs(os.path.dirname(path_to_co2), exist_ok=True)\n",
    "    gdown.download(url, path_to_co2, quiet=False)\n",
    "\n",
    "    url = f\"https://drive.google.com/uc?id={file_id_capitals}\"\n",
    "    path_to_capitals = \"data/capitals.csv\"\n",
    "    os.makedirs(os.path.dirname(path_to_capitals), exist_ok=True)\n",
    "    gdown.download(url, path_to_capitals, quiet=False)\n"
   ]
  },
  {
   "cell_type": "markdown",
   "metadata": {},
   "source": [
    "The code above loads the data, don't modify.\n",
    "\n",
    "---------------\n",
    "\n",
    "***Notebook starts here***"
   ]
  },
  {
   "cell_type": "markdown",
   "metadata": {},
   "source": [
    "# Analyzing CO2 emissions\n",
    "\n",
    "This exercise uses the same dataset as in the previous week. The description of the dataset is repeated below for convenience.\n",
    "\n",
    "In this exercise, we will analyze the CO2 emissions of different countries. The data is provided in the file `co2_emmissions_by_state.csv`, starting from the year 2010. The data contains the following columns:\n",
    "- `YEAR`: Year of the data\n",
    "- `MONTH`: Month of the data, from 1 to 12\n",
    "- `STATE_NAME`: Name of the country\n",
    "- `STATE_CODE`: Two letter code of the country\n",
    "- `CO2_QTY_TONNES`: CO2 emissions in metric tons\n",
    "- `TF`: Number of flights\n",
    "\n",
    "This dataset is provided by EUROCONTROL and publicly available [here](https://ansperformance.eu/data/) and the description [here](https://ansperformance.eu/reference/dataset/emissions/).\n",
    "\n",
    "The data contains the calculated emissions from all IFR flights departing from a EUROCONTROL member state. For instance, the total CO2 emissions for the full trajectory of a flight from Brussels to New York would be included in the results for Belgium. A flight from New York to Brussels would however NOT be included in the results for Belgium.\n",
    "\n",
    "## Tasks\n",
    "This exercise is guided and you will be asked to implement the visualizations step by step. You are free to use Plotly Express and/or Graph Objects. The tasks are:\n",
    "1. Load the data and prepare the data for visualization\n",
    "2. Overview of the CO2 emissions\n",
    "3. Analyze the CO2 emissions of the countries"
   ]
  },
  {
   "cell_type": "code",
   "execution_count": null,
   "metadata": {},
   "outputs": [],
   "source": [
    "from plotly import graph_objects as go\n",
    "from plotly import express as px\n",
    "import pandas as pd"
   ]
  },
  {
   "cell_type": "markdown",
   "metadata": {},
   "source": [
    "## Line plots, bar plots, and pie charts"
   ]
  },
  {
   "cell_type": "code",
   "execution_count": null,
   "metadata": {},
   "outputs": [],
   "source": [
    "# Load the data\n",
    "co2 = pd.read_csv(path_to_co2)"
   ]
  },
  {
   "cell_type": "code",
   "execution_count": null,
   "metadata": {},
   "outputs": [],
   "source": [
    "# Let's start with an overview of the total CO2 emissions per year.\n",
    "# For this, we first need to aggregate the data by year.\n",
    "#\n",
    "# Use the groupby method to group the data by year and sum the emissions.\n",
    "\n",
    "co2_by_year = co2.groupby(\"YEAR\")[\"CO2_QTY_TONNES\"].sum().reset_index()\n",
    "co2_by_year.head()"
   ]
  },
  {
   "cell_type": "code",
   "execution_count": null,
   "metadata": {},
   "outputs": [],
   "source": [
    "# Now we can create a visualization CO2 emissions per year.\n",
    "# Create a line chart for the data. Make sure to include a title and label the axes.\n",
    "\n",
    "# with PX\n",
    "fig = px.line(co2_by_year, x=\"YEAR\", y=\"CO2_QTY_TONNES\", markers=True)\n",
    "fig.update_layout(title=\"CO2 emissions per year\")\n",
    "fig.update_xaxes(title=\"Year\")\n",
    "fig.update_yaxes(title=\"CO2 emissions (tonnes)\")\n",
    "fig.show()\n",
    "\n",
    "# with GO\n",
    "fig = go.Figure()\n",
    "fig.add_trace(go.Scatter(x=co2_by_year[\"YEAR\"], y=co2_by_year[\"CO2_QTY_TONNES\"]))\n",
    "fig.update_layout(title=\"CO2 emissions per year\")\n",
    "fig.update_xaxes(title=\"Year\")\n",
    "fig.update_yaxes(title=\"CO2 emissions (tonnes)\")\n",
    "fig.show()"
   ]
  },
  {
   "cell_type": "code",
   "execution_count": null,
   "metadata": {},
   "outputs": [],
   "source": [
    "# We would like to visualize the CO2 emissions per year for each state.\n",
    "# For this, we need to group the data by year and state.\n",
    "\n",
    "co2_by_year_state = (\n",
    "    co2.groupby([\"YEAR\", \"STATE_NAME\"])[\"CO2_QTY_TONNES\"].sum().reset_index()\n",
    ")\n",
    "co2_by_year_state.head()"
   ]
  },
  {
   "cell_type": "code",
   "execution_count": null,
   "metadata": {},
   "outputs": [],
   "source": [
    "# Now we can create a visualization of the CO2 emissions per year for each state.\n",
    "# Create a stacked bar chart for the data. Make sure to include a title and label the axes.\n",
    "\n",
    "# with PX\n",
    "fig = px.bar(co2_by_year_state, x=\"YEAR\", y=\"CO2_QTY_TONNES\", color=\"STATE_NAME\")\n",
    "fig.update_layout(title=\"CO2 emissions per year by state\")\n",
    "fig.update_xaxes(title=\"Year\")\n",
    "fig.update_yaxes(title=\"CO2 emissions (tonnes)\")\n",
    "fig.show()\n",
    "\n",
    "# with GO\n",
    "fig = go.Figure()\n",
    "state_names = co2_by_year_state[\"STATE_NAME\"].unique()\n",
    "for state in state_names:\n",
    "    data = co2_by_year_state.query(\"STATE_NAME == @state\")\n",
    "    fig.add_trace(go.Bar(x=data[\"YEAR\"], y=data[\"CO2_QTY_TONNES\"], name=state))\n",
    "fig.update_layout(title=\"CO2 emissions per year by state\", barmode=\"stack\")\n",
    "fig.update_xaxes(title=\"Year\")\n",
    "fig.update_yaxes(title=\"CO2 emissions (tonnes)\")\n",
    "fig.show()"
   ]
  },
  {
   "cell_type": "code",
   "execution_count": null,
   "metadata": {},
   "outputs": [],
   "source": [
    "# Next, we create a pie chart to show the distribution of CO2 emissions by state for all years.\n",
    "# As before, group the data first, this time by state and sum the emissions.\n",
    "\n",
    "co2_by_state = co2.groupby(\"STATE_NAME\")[\"CO2_QTY_TONNES\"].sum().reset_index()\n",
    "co2_by_state.head()"
   ]
  },
  {
   "cell_type": "code",
   "execution_count": null,
   "metadata": {},
   "outputs": [],
   "source": [
    "# Now we can create a visualization of the distribution of CO2 emissions by state.\n",
    "# Create a pie chart for the data. Make sure to include a title.\n",
    "#\n",
    "# Hints:\n",
    "# - Use the online documentation to find the correct arguments for the pie chart.\n",
    "# - If you want to suppress the value labels on the pie chart (the value in %), add the following line:\n",
    "#   fig.update_traces(textinfo=\"none\")\n",
    "\n",
    "# with PX\n",
    "fig = px.pie(co2_by_state, names=\"STATE_NAME\", values=\"CO2_QTY_TONNES\")\n",
    "fig.update_layout(title=\"CO2 emissions by state\")\n",
    "fig.update_traces(textinfo=\"none\")\n",
    "fig.show()\n",
    "\n",
    "# with GO\n",
    "fig = go.Figure()\n",
    "fig.add_trace(\n",
    "    go.Pie(labels=co2_by_state[\"STATE_NAME\"], values=co2_by_state[\"CO2_QTY_TONNES\"])\n",
    ")\n",
    "fig.update_layout(title=\"CO2 emissions by state\")\n",
    "fig.update_traces(textinfo=\"none\")\n",
    "fig.show()"
   ]
  },
  {
   "cell_type": "markdown",
   "metadata": {},
   "source": [
    "## Plotting on a map\n",
    "\n",
    "Now we want to do a fancy plot on a map. The size of the marker should be proportional to the CO2 emissions of the country."
   ]
  },
  {
   "cell_type": "code",
   "execution_count": null,
   "metadata": {},
   "outputs": [],
   "source": [
    "# Read the CSV file containing the coordinates of the capital cities.\n",
    "# We need to do a bit of preprocessing to make the country names compatible with the CO2 data.\n",
    "capitals = pd.read_csv(path_to_capitals)\n",
    "\n",
    "capitals[\"CountryName\"] = capitals[\"CountryName\"].replace(\"Turkey\", \"TÜRKIYE\")\n",
    "capitals[\"CountryName\"] = capitals[\"CountryName\"].str.upper()\n",
    "capitals.head()"
   ]
  },
  {
   "cell_type": "code",
   "execution_count": null,
   "metadata": {},
   "outputs": [],
   "source": [
    "# Merge the CO2 data with the capital cities data.\n",
    "# To make our lives easier, we will use the already aggregated CO2 data by state.\n",
    "# The key for the merge is the state name. In the CO2 data, the state name is in the column \"STATE_NAME\", and\n",
    "# in the capital cities data, it is in the column \"CountryName\".\n",
    "\n",
    "co2_with_cap = co2_by_state.merge(\n",
    "    capitals, left_on=\"STATE_NAME\", right_on=\"CountryName\", how=\"left\"\n",
    ")\n",
    "co2_with_cap.head()"
   ]
  },
  {
   "cell_type": "code",
   "execution_count": null,
   "metadata": {},
   "outputs": [],
   "source": [
    "# Let's visualize the CO2 emissions on a map.\n",
    "# Create a plot with round markers. The marker size should be proportional to the CO2 emissions.\n",
    "# Make sure to include a title and adjust the center and zoom level of the map so that all markers are visible.\n",
    "#\n",
    "# Hints:\n",
    "# - You can use either Plotly Express or Plotly Graph Objects, but it's quite a bit easier with Plotly Express.\n",
    "# - Use the CapitalLatitude and CapitalLongitude columns for the location.\n",
    "# - You can modify the marker size in Plotly Express with the size_max argument. Play around with the value to find\n",
    "#   size that looks good to you.\n",
    "\n",
    "\n",
    "# with PX\n",
    "fig = px.scatter_map(\n",
    "    co2_with_cap,\n",
    "    lat=\"CapitalLatitude\",\n",
    "    lon=\"CapitalLongitude\",\n",
    "    size=\"CO2_QTY_TONNES\",\n",
    "    hover_name=\"STATE_NAME\",\n",
    "    size_max=40,\n",
    ")\n",
    "fig.update_layout(\n",
    "    title=\"CO2 emissions by state\",\n",
    "    height=800,\n",
    "    width=800,\n",
    "    map=dict(\n",
    "        center=dict(\n",
    "            lat=co2_with_cap[\"CapitalLatitude\"].mean(),\n",
    "            lon=co2_with_cap[\"CapitalLongitude\"].mean(),\n",
    "        ),\n",
    "        zoom=2.5,\n",
    "    ),\n",
    ")\n",
    "fig.show()\n",
    "\n",
    "# ADVANCED\n",
    "# with GO\n",
    "\n",
    "# This is a bit tricky because go.Scattermapbox expects the size in pixels, but we have the size in tonnes.\n",
    "# We need to compute the size in pixels based on the size in tonnes first.\n",
    "\n",
    "# we will use the following formula to compute the size in pixels:\n",
    "# size in pixels = (size in tonnes / max size in tonnes) * max size in pixels\n",
    "max_size = co2_with_cap[\"CO2_QTY_TONNES\"].max()\n",
    "max_size_pixels = 60\n",
    "co2_with_cap[\"size\"] = (co2_with_cap[\"CO2_QTY_TONNES\"] / max_size) * max_size_pixels\n",
    "\n",
    "fig = go.Figure()\n",
    "fig.add_trace(\n",
    "    go.Scattermap(\n",
    "        lat=co2_with_cap[\"CapitalLatitude\"],\n",
    "        lon=co2_with_cap[\"CapitalLongitude\"],\n",
    "        mode=\"markers\",\n",
    "        marker_size=co2_with_cap[\"size\"],\n",
    "        text=co2_with_cap[\"STATE_NAME\"],\n",
    "    )\n",
    ")\n",
    "fig.update_layout(\n",
    "    title=\"CO2 emissions by state\",\n",
    "    height=800,\n",
    "    width=800,\n",
    "    map=dict(\n",
    "        center=dict(\n",
    "            lat=co2_with_cap[\"CapitalLatitude\"].mean(),\n",
    "            lon=co2_with_cap[\"CapitalLongitude\"].mean(),\n",
    "        ),\n",
    "        zoom=2.5,\n",
    "    ),\n",
    ")\n",
    "fig.show()"
   ]
  },
  {
   "cell_type": "markdown",
   "metadata": {},
   "source": [
    "## Export\n",
    "Since the figure above is so pretty, we want to export it."
   ]
  },
  {
   "cell_type": "code",
   "execution_count": null,
   "metadata": {},
   "outputs": [],
   "source": [
    "# Export the previous figure.\n",
    "# - Export to a PNG file. Open the file in an image viewer to verify that the export was successful.\n",
    "# - Export to a HTML file. Open the file in a browser to verify that the export was successful.\n",
    "\n",
    "fig.write_image(\"co2_per_country.png\")\n",
    "fig.write_html(\"co2_per_country.html\")"
   ]
  }
 ],
 "metadata": {
  "kernelspec": {
   "display_name": "tso-fs25",
   "language": "python",
   "name": "python3"
  },
  "language_info": {
   "codemirror_mode": {
    "name": "ipython",
    "version": 3
   },
   "file_extension": ".py",
   "mimetype": "text/x-python",
   "name": "python",
   "nbconvert_exporter": "python",
   "pygments_lexer": "ipython3",
   "version": "3.12.8"
  }
 },
 "nbformat": 4,
 "nbformat_minor": 2
}
