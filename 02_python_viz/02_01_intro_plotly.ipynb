{
 "cells": [
  {
   "cell_type": "markdown",
   "metadata": {},
   "source": [
    "<a target=\"_blank\" href=\"https://colab.research.google.com/github/ZHAW-ZAV/TSO-FS25-students/blob/main/02_python_viz/02_01_intro_plotly.ipynb\">\n",
    "  <img src=\"https://colab.research.google.com/assets/colab-badge.svg\" alt=\"Open In Colab\"/>\n",
    "</a>"
   ]
  },
  {
   "cell_type": "code",
   "execution_count": null,
   "metadata": {},
   "outputs": [],
   "source": [
    "import sys\n",
    "import os\n",
    "\n",
    "IN_COLAB = \"google.colab\" in sys.modules\n",
    "\n",
    "file_id_co2 = \"1-FxcOXUXMrXZzDzeLgarKoQfa2QN_sXO\"\n",
    "file_id_trajs = \"1CRNprh5oSxZntkmEJbCMTN3Htf5cPb4u\"\n",
    "\n",
    "if IN_COLAB:\n",
    "    path_to_co2 = \"/content/data/co2_emmissions_by_state.csv\"\n",
    "    os.makedirs(os.path.dirname(path_to_co2), exist_ok=True)\n",
    "    !gdown \"https://drive.google.com/uc?id={file_id_co2}\" -O \"{path_to_co2}\"\n",
    "\n",
    "    path_to_trajs = \"/content/data/plotly_trajs.csv\"\n",
    "    os.makedirs(os.path.dirname(path_to_trajs), exist_ok=True)\n",
    "    !gdown \"https://drive.google.com/uc?id={file_id_trajs}\" -O \"{path_to_trajs}\"\n",
    "\n",
    "    # Unfortunately, Colab does not come with the Kaleido library installed.\n",
    "    !pip install -q kaleido\n",
    "else:\n",
    "    import gdown\n",
    "\n",
    "    url = f\"https://drive.google.com/uc?id={file_id_co2}\"\n",
    "    path_to_co2 = \"data/co2_emmissions_by_state.csv\"\n",
    "    os.makedirs(os.path.dirname(path_to_co2), exist_ok=True)\n",
    "    gdown.download(url, path_to_co2, quiet=False)\n",
    "\n",
    "    url = f\"https://drive.google.com/uc?id={file_id_trajs}\"\n",
    "    path_to_trajs = \"data/plotly_trajs.csv\"\n",
    "    os.makedirs(os.path.dirname(path_to_trajs), exist_ok=True)\n",
    "    gdown.download(url, path_to_trajs, quiet=False)\n"
   ]
  },
  {
   "cell_type": "markdown",
   "metadata": {},
   "source": [
    "The code above loads the data, don't modify.\n",
    "\n",
    "---------------\n",
    "\n",
    "***Notebook starts here***"
   ]
  },
  {
   "cell_type": "code",
   "execution_count": 39,
   "metadata": {},
   "outputs": [],
   "source": [
    "from plotly import graph_objects as go\n",
    "from plotly import express as px\n",
    "import pandas as pd"
   ]
  },
  {
   "cell_type": "markdown",
   "metadata": {},
   "source": [
    "## First steps with Plotly, scatter plots"
   ]
  },
  {
   "cell_type": "code",
   "execution_count": null,
   "metadata": {},
   "outputs": [],
   "source": [
    "# We will use the iris dataset for this example\n",
    "df = px.data.iris()\n",
    "df"
   ]
  },
  {
   "cell_type": "code",
   "execution_count": null,
   "metadata": {},
   "outputs": [],
   "source": [
    "fig = px.scatter(df, x=\"sepal_width\", y=\"sepal_length\", color=\"petal_length\")\n",
    "fig.show()"
   ]
  },
  {
   "cell_type": "code",
   "execution_count": null,
   "metadata": {},
   "outputs": [],
   "source": [
    "df = px.data.iris()\n",
    "fig = go.Figure()\n",
    "fig.add_trace(\n",
    "    go.Scatter(\n",
    "        x=df[\"sepal_width\"],\n",
    "        y=df[\"sepal_length\"],\n",
    "        marker_color=df[\"petal_length\"],\n",
    "        mode=\"markers\",\n",
    "        marker=dict(showscale=True),\n",
    "    )\n",
    ")\n",
    "fig.show()\n"
   ]
  },
  {
   "cell_type": "code",
   "execution_count": null,
   "metadata": {},
   "outputs": [],
   "source": [
    "# let's make this plot a bit more interesting\n",
    "fig = go.Figure()\n",
    "fig.add_trace(\n",
    "    go.Scatter(\n",
    "        x=df[\"sepal_width\"],\n",
    "        y=df[\"sepal_length\"],\n",
    "        marker_color=df[\"petal_length\"],\n",
    "        mode=\"markers\",\n",
    "        marker=dict(showscale=True, colorbar=dict(title=\"Petal Length\")),\n",
    "    )\n",
    ")\n",
    "fig.update_layout(\n",
    "    height=500,\n",
    "    width=700,\n",
    "    title=\"Iris dataset\",\n",
    "    xaxis_title=\"Sepal Width\",\n",
    "    yaxis_title=\"Sepal Length\",\n",
    "    xaxis=dict(showgrid=False),\n",
    "    yaxis=dict(showgrid=False),\n",
    ")\n",
    "fig.show()"
   ]
  },
  {
   "cell_type": "code",
   "execution_count": null,
   "metadata": {},
   "outputs": [],
   "source": [
    "# what happens if we have the color with a categorical variable?\n",
    "fig = px.scatter(df, x=\"sepal_width\", y=\"sepal_length\", color=\"species\")\n",
    "fig.show()"
   ]
  },
  {
   "cell_type": "code",
   "execution_count": null,
   "metadata": {},
   "outputs": [],
   "source": [
    "fig = go.Figure()\n",
    "species = df[\"species\"].unique()\n",
    "for s in species:\n",
    "    df_to_plot = df.query(\"species == @s\")\n",
    "    fig.add_trace(\n",
    "        go.Scatter(\n",
    "            x=df_to_plot[\"sepal_width\"],\n",
    "            y=df_to_plot[\"sepal_length\"],\n",
    "            mode=\"markers\",\n",
    "            name=s,\n",
    "        )\n",
    "    )\n",
    "\n",
    "fig.update_layout(\n",
    "    title=\"Iris dataset\",\n",
    "    xaxis_title=\"Sepal Width\",\n",
    "    yaxis_title=\"Sepal Length\",\n",
    "    legend=dict(title=\"Species\"),\n",
    ")\n",
    "fig.show()"
   ]
  },
  {
   "cell_type": "markdown",
   "metadata": {},
   "source": [
    "## Some more plots with the CO2 data"
   ]
  },
  {
   "cell_type": "code",
   "execution_count": null,
   "metadata": {},
   "outputs": [],
   "source": [
    "df = pd.read_csv(path_to_co2)\n",
    "df"
   ]
  },
  {
   "cell_type": "code",
   "execution_count": 47,
   "metadata": {},
   "outputs": [],
   "source": [
    "# since we have too many states, let's filter the data to only keep 4 states\n",
    "to_keep = [\"SWITZERLAND\", \"GERMANY\", \"ITALY\", \"FRANCE\"]\n",
    "df = df.query(\"STATE_NAME in @to_keep\")"
   ]
  },
  {
   "cell_type": "code",
   "execution_count": 48,
   "metadata": {},
   "outputs": [],
   "source": [
    "# we want to plot the CO2 emissions by year and state\n",
    "# for that, we need to sum the CO2 emissions by year and state first\n",
    "df = df.groupby([\"YEAR\", \"STATE_NAME\"])[\"CO2_QTY_TONNES\"].sum().reset_index()"
   ]
  },
  {
   "cell_type": "code",
   "execution_count": null,
   "metadata": {},
   "outputs": [],
   "source": [
    "# let's do a bar plot\n",
    "# the bars can be either grouped (barmode='group') or stacked (barmode='stack')\n",
    "fig = px.bar(df, x=\"YEAR\", y=\"CO2_QTY_TONNES\", color=\"STATE_NAME\", barmode=\"stack\")\n",
    "fig.show()"
   ]
  },
  {
   "cell_type": "code",
   "execution_count": null,
   "metadata": {},
   "outputs": [],
   "source": [
    "fig = go.Figure()\n",
    "states = df[\"STATE_NAME\"].unique()\n",
    "for s in states:\n",
    "    df_to_plot = df.query(\"STATE_NAME == @s\")\n",
    "    fig.add_trace(go.Bar(x=df_to_plot[\"YEAR\"], y=df_to_plot[\"CO2_QTY_TONNES\"], name=s))\n",
    "fig.update_layout(\n",
    "    title=\"CO2 emissions by state\",\n",
    "    xaxis_title=\"Year\",\n",
    "    yaxis_title=\"CO2 emissions (tonnes)\",\n",
    "    legend=dict(title=\"State\"),\n",
    "    barmode=\"stack\",\n",
    ")\n",
    "fig.show()"
   ]
  },
  {
   "cell_type": "code",
   "execution_count": null,
   "metadata": {},
   "outputs": [],
   "source": [
    "# let's have a look at a flight trajectory\n",
    "df = pd.read_csv(path_to_trajs).query(\"flight_id == 'EDW24_20180111'\")\n",
    "df"
   ]
  },
  {
   "cell_type": "code",
   "execution_count": null,
   "metadata": {},
   "outputs": [],
   "source": [
    "fig = px.scatter_map(df, lat=\"latitude\", lon=\"longitude\", color=\"altitude\")\n",
    "fig.update_layout(\n",
    "    height=600,\n",
    "    width=800,\n",
    "    map=dict(\n",
    "        center=dict(lat=df[\"latitude\"].mean(), lon=df[\"longitude\"].mean()), zoom=4.5\n",
    "    ),\n",
    ")\n",
    "fig.show()"
   ]
  },
  {
   "cell_type": "code",
   "execution_count": null,
   "metadata": {},
   "outputs": [],
   "source": [
    "fig = go.Figure()\n",
    "fig.add_trace(\n",
    "    go.Scattermap(\n",
    "        lat=df[\"latitude\"],\n",
    "        lon=df[\"longitude\"],\n",
    "        marker=dict(size=10, color=df[\"altitude\"], showscale=True),\n",
    "    )\n",
    ")\n",
    "fig.update_layout(\n",
    "    height=600,\n",
    "    width=800,\n",
    "    map=dict(\n",
    "        center=dict(lat=df[\"latitude\"].mean(), lon=df[\"longitude\"].mean()), zoom=4.5\n",
    "    ),\n",
    ")\n",
    "fig.show()"
   ]
  },
  {
   "cell_type": "markdown",
   "metadata": {},
   "source": [
    "## Subplots"
   ]
  },
  {
   "cell_type": "code",
   "execution_count": null,
   "metadata": {},
   "outputs": [],
   "source": [
    "from plotly.subplots import make_subplots\n",
    "\n",
    "fig = make_subplots(rows=2, cols=1)\n",
    "\n",
    "fig.add_trace(\n",
    "    go.Scatter(\n",
    "        x=df[\"timestamp\"], y=df[\"altitude\"], mode=\"lines+markers\", name=\"baro altitude\"\n",
    "    ),\n",
    "    row=1,\n",
    "    col=1,\n",
    ")\n",
    "fig.add_trace(\n",
    "    go.Scatter(\n",
    "        x=df[\"timestamp\"], y=df[\"groundspeed\"], mode=\"lines+markers\", name=\"groundspeed\"\n",
    "    ),\n",
    "    row=2,\n",
    "    col=1,\n",
    ")\n",
    "fig.update_layout(height=600, width=800, title_text=\"Flight trajectory\")\n",
    "fig.show()"
   ]
  },
  {
   "cell_type": "markdown",
   "metadata": {},
   "source": [
    "## Export"
   ]
  },
  {
   "cell_type": "code",
   "execution_count": 56,
   "metadata": {},
   "outputs": [],
   "source": [
    "fig.write_image(\"my_image.png\")\n",
    "fig.write_image(\"my_image.pdf\")\n",
    "fig.write_html(\"my_image.html\")"
   ]
  },
  {
   "cell_type": "code",
   "execution_count": null,
   "metadata": {},
   "outputs": [],
   "source": []
  }
 ],
 "metadata": {
  "kernelspec": {
   "display_name": "tso-fs25",
   "language": "python",
   "name": "python3"
  },
  "language_info": {
   "codemirror_mode": {
    "name": "ipython",
    "version": 3
   },
   "file_extension": ".py",
   "mimetype": "text/x-python",
   "name": "python",
   "nbconvert_exporter": "python",
   "pygments_lexer": "ipython3",
   "version": "3.12.8"
  }
 },
 "nbformat": 4,
 "nbformat_minor": 2
}
