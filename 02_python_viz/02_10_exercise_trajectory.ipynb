{
 "cells": [
  {
   "cell_type": "markdown",
   "metadata": {},
   "source": [
    "<a target=\"_blank\" href=\"https://colab.research.google.com/github/ZHAW-ZAV/TSO-FS25/blob/main/02_python_viz/02_10_exercise_trajectory.ipynb\">\n",
    "  <img src=\"https://colab.research.google.com/assets/colab-badge.svg\" alt=\"Open In Colab\"/>\n",
    "</a>"
   ]
  },
  {
   "cell_type": "code",
   "execution_count": null,
   "metadata": {},
   "outputs": [],
   "source": [
    "import sys\n",
    "import os\n",
    "\n",
    "IN_COLAB = \"google.colab\" in sys.modules\n",
    "\n",
    "file_id_trajs = \"1CRNprh5oSxZntkmEJbCMTN3Htf5cPb4u\"\n",
    "\n",
    "if IN_COLAB:\n",
    "    path_to_trajs = \"/content/data/plotly_trajs.csv\"\n",
    "    os.makedirs(os.path.dirname(path_to_trajs), exist_ok=True)\n",
    "    !gdown \"https://drive.google.com/uc?id={file_id_trajs}\" -O \"{path_to_trajs}\"\n",
    "else:\n",
    "    import gdown\n",
    "\n",
    "    url = f\"https://drive.google.com/uc?id={file_id_trajs}\"\n",
    "    path_to_trajs = \"data/plotly_trajs.csv\"\n",
    "    os.makedirs(os.path.dirname(path_to_trajs), exist_ok=True)\n",
    "    gdown.download(url, path_to_trajs, quiet=False)\n"
   ]
  },
  {
   "cell_type": "markdown",
   "metadata": {},
   "source": [
    "The code above loads the data, don't modify.\n",
    "\n",
    "---------------\n",
    "\n",
    "***Notebook starts here***"
   ]
  },
  {
   "cell_type": "markdown",
   "metadata": {},
   "source": [
    "# Analyzing flight trajectories with Plotly\n",
    "\n",
    "In this exercise, we will analyze two flight trajectories with an emergency. The two flights are:\n",
    "- Edelweiss flight from Zürich to Cancun on 2018-01-11. The flight experienced an issue with the engine.\n",
    "- Republic Airways flight from Philadelphia to Savannah on 2019-07-19. The flight experienced issues with the cabin pressure.\n",
    "\n",
    "The data contains the following columns:\n",
    "- `timestamp`: the timestamp of the data point\n",
    "- `altitude`: barometric altitude in in feet\n",
    "- `callsign`: the callsign of the flight\n",
    "- `flight_id`: the unique identifier of the flight\n",
    "- `groundspeed`: the ground speed in knots\n",
    "- `icao24`: the 24-bit ICAO address of the transponder in hex string representation\n",
    "- `latitude`: the latitude in decimal degrees\n",
    "- `longitude`: the longitude in decimal degrees\n",
    "- `squawk`: the squawk code\n",
    "- `vertical_rate`: the vertical rate in feet per minute\n",
    "- `registration`: the registration of the aircraft\n",
    "- `typecode`: the ICAO type code of the aircraft\n",
    "- `origin`: the origin of the flight\n",
    "- `landing`: the landing airport of the flight\n",
    "- `destination`: the planned destination of the flight\n",
    "\n",
    "This dataset is part of Xavier Olive's awesome `traffic` library, which is available on [GitHub](https://github.com/xoolive/traffic).\n",
    "\n",
    "## Tasks\n",
    "This exercise is guided and you will be asked to implement the visualizations step by step. You are free to use Plotly Express and/or Graph Objects. The tasks are:\n",
    "1. Visualize the Edelweiss flight trajectory\n",
    "2. Visualize the Republic Airways flight trajectory"
   ]
  },
  {
   "cell_type": "code",
   "execution_count": null,
   "metadata": {},
   "outputs": [],
   "source": [
    "from plotly import graph_objects as go\n",
    "from plotly import express as px\n",
    "import pandas as pd"
   ]
  },
  {
   "cell_type": "code",
   "execution_count": null,
   "metadata": {},
   "outputs": [],
   "source": [
    "# Load the data\n",
    "trajs = pd.read_csv(path_to_trajs)"
   ]
  },
  {
   "cell_type": "code",
   "execution_count": null,
   "metadata": {},
   "outputs": [],
   "source": [
    "# Before we get started, separate the two trajectories into separate dataframes\n",
    "# Create a dataframe for the Edelweiss flight and save it in the variable \"edw\" and create a\n",
    "# dataframe for the Republic Airways flight and save it in the variable \"rpa\"\n",
    "\n"
   ]
  },
  {
   "cell_type": "markdown",
   "metadata": {},
   "source": [
    "## Edelweiss flight"
   ]
  },
  {
   "cell_type": "code",
   "execution_count": null,
   "metadata": {},
   "outputs": [],
   "source": [
    "# Start by plotting the flight on a map\n",
    "# Plot the Edelweiss flight on a map and use the color of the line to represent the altitude\n",
    "\n"
   ]
  },
  {
   "cell_type": "code",
   "execution_count": null,
   "metadata": {},
   "outputs": [],
   "source": [
    "# Create the same plot as above, but color the line by the squawk code\n",
    "\n"
   ]
  },
  {
   "cell_type": "code",
   "execution_count": null,
   "metadata": {},
   "outputs": [],
   "source": [
    "# Let's plot the flight time history\n",
    "# Create a figure with three subplots above each other:\n",
    "# 1. Altitude vs. Time\n",
    "# 2. Groundspeed vs. Time\n",
    "# 3. Squawk vs. Time\n",
    "#\n",
    "# Don't forget to label the axes and give the plot a title\n",
    "\n"
   ]
  },
  {
   "cell_type": "markdown",
   "metadata": {},
   "source": [
    "## Republic Airways flight"
   ]
  },
  {
   "cell_type": "code",
   "execution_count": null,
   "metadata": {},
   "outputs": [],
   "source": [
    "# Let's do the same plots as for the Edelweiss flight, but this time in a single figure for the Republic Airways flight.\n",
    "# Create a subplot with two rows and two column:\n",
    "# - Top left: The trajectory on a map\n",
    "# - Top right: Altitude vs. Time\n",
    "# - Bottom left: Squawk vs. Time\n",
    "# - Bottom right: Groundspeed vs. Time\n",
    "\n",
    "# Use the following figure for the plots\n",
    "fig = make_subplots(\n",
    "    rows=2,\n",
    "    cols=2,\n",
    "    start_cell=\"top-left\",\n",
    "    specs=[[{\"type\": \"map\"}, {\"type\": \"xy\"}], [{\"type\": \"xy\"}, {\"type\": \"xy\"}]],\n",
    ")\n"
   ]
  }
 ],
 "metadata": {
  "kernelspec": {
   "display_name": "tso-fs25",
   "language": "python",
   "name": "python3"
  },
  "language_info": {
   "codemirror_mode": {
    "name": "ipython",
    "version": 3
   },
   "file_extension": ".py",
   "mimetype": "text/x-python",
   "name": "python",
   "nbconvert_exporter": "python",
   "pygments_lexer": "ipython3",
   "version": "3.12.8"
  }
 },
 "nbformat": 4,
 "nbformat_minor": 2
}
