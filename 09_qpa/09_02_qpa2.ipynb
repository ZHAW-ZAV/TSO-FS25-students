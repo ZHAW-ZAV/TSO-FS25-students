{
 "cells": [
  {
   "cell_type": "markdown",
   "metadata": {},
   "source": [
    "<a target=\"_blank\" href=\"https://colab.research.google.com/github/ZHAW-ZAV/TSO-FS25-students/blob/main/09_qpa/09_02_qpa2.ipynb\">\n",
    "  <img src=\"https://colab.research.google.com/assets/colab-badge.svg\" alt=\"Open In Colab\"/>\n",
    "</a>"
   ]
  },
  {
   "cell_type": "code",
   "execution_count": 1,
   "metadata": {},
   "outputs": [],
   "source": [
    "import random\n",
    "import numpy as np\n",
    "import pandas as pd\n",
    "import plotly.express as px\n",
    "import plotly.graph_objects as go\n",
    "from tqdm import tqdm\n",
    "import itertools\n",
    "import sys\n",
    "\n",
    "IN_COLAB = \"google.colab\" in sys.modules\n",
    "if IN_COLAB:\n",
    "    from google.colab import drive\n",
    "\n",
    "    # Download the TSO environment\n",
    "    drive.mount(\"/content/drive\")\n",
    "    shared_file = \"1fuyEnXBRBZJ1O2ijOLx4ms-L4si430RJ\"\n",
    "    !gdown \"https://drive.google.com/uc?id={shared_file}\" -O tso-env.zip\n",
    "\n",
    "    !unzip tso-env.zip -d /content | tqdm > /dev/null\n",
    "\n",
    "    !source /content/tso-env/bin/activate\n",
    "\n",
    "    sys.path.append(\"/content/tso-env/lib/python3.11/site-packages/\")\n"
   ]
  },
  {
   "cell_type": "code",
   "execution_count": 3,
   "metadata": {},
   "outputs": [],
   "source": [
    "import simpy"
   ]
  },
  {
   "cell_type": "markdown",
   "metadata": {},
   "source": [
    "The code above loads the data, do not modify.\n",
    "\n",
    "***\n",
    "\n",
    "# TSO Semester Week 10: Quantitative Process Analysis\n",
    "\n",
    "This exercise deals with the topic of quantitative process analysis using the example of a security check in a fictitious airport terminal. Use the DES simulation model of an M/M/c queueing system provided below for this exercise.\n",
    "\n",
    "This exercise focusses on the following topics:\n",
    "* PART 1: You will deal with the topics transient vs. steady state of a DES simulation model. You will also compare the steady-state results with those of an analytical queuing model (which you are familiar with from the INFRA-AD module).\n",
    "* PART 2: You will analyse the influence of initial conditions on the results of a DES simulation model (especially on the transition between the transient and the steady state).\n",
    "* PART 3: You carry out a $2^k$ factorial analysis.\n",
    "\n",
    "Note that this exercise is based on the chapters *Analyzing Outputs of DES Simulations* and *Experimental Design* of the **TSO Quantitative Process Analysis Script**.\n",
    "\n",
    "***\n",
    "## PART 1: Transient vs. Steady-State\n",
    "Below you will find the software code for a DES simulation of an M/M/c queueing system. The DES model is parameterised via the global variables in the *Parametrisation of Simulation Model* block. The simulation results for the delays experienced by the passengers (i.e. waiting times in the queue) can be found in the dataframe `df_delays`. The resulting queue lengths can be found in the dataframe `df_queue_lengths`.\n",
    "\n",
    "Use the DES simulation model of an M/M/c queueing system provided below with the specified parameters for the following tasks:\n",
    "1. Create a plot showing the delay experienced by the passengers vs. the passenger index. Plot the average delay, the 10th, 25th, 75th, and 90th percentile.\n",
    "2. Based on the plot created from Task 1, determine the transient phase (warm-up) and the steady-state phase.\n",
    "3. Compare the average delay in the steady-state with the results of an analytical model for an M/M/c queueing system. Information on the analytical model of an M/M/c system can be found in the INFRA-AD documents (e.g., see video [*Queueing System Models*](https://zhaw.mediaspace.cast.switch.ch/media/t/0_4x5ixao3/7740?))."
   ]
  },
  {
   "cell_type": "code",
   "execution_count": 2,
   "metadata": {},
   "outputs": [
    {
     "name": "stderr",
     "output_type": "stream",
     "text": [
      "Running Simulations: 100%|██████████| 2000/2000 [00:23<00:00, 86.71run/s]\n"
     ]
    }
   ],
   "source": [
    "# Simulation parameters\n",
    "C = 2                   # Number of Servers\n",
    "ARRIVAL_RATE = 1        # Lambda: Average number of arrivals per time unit\n",
    "SERVICE_RATE = 0.55555  # Mu: Average number of services per server per time unit\n",
    "SIM_TIME = 3000         # Total simulation time\n",
    "NUM_RUNS = 2000         # Number of independent simulation runs\n",
    "CUSTOMER_INTERVAL = 20  # Record delays for every 20th customer\n",
    "\n",
    "\n",
    "# Function to generate interarrival times\n",
    "def generate_interarrival_time(arrival_rate):\n",
    "    \"\"\"Generate interarrival time based on exponential distribution.\"\"\"\n",
    "    return random.expovariate(arrival_rate)\n",
    "\n",
    "# Function to generate service times\n",
    "def generate_service_time(mean_service_rate):\n",
    "    \"\"\"Generate service time based on exponential distribution.\"\"\"\n",
    "    return random.expovariate(mean_service_rate)\n",
    "\n",
    "# Simulation function\n",
    "def simulate_one_run(customer_interval):\n",
    "    \"\"\"Simulate a single M/M/c run and record delays & queue lengths for every `customer_interval` customer.\"\"\"\n",
    "    delays = {}\n",
    "    queue_lengths = {}\n",
    "\n",
    "    def customer(env, name, server, service_rate):\n",
    "        \"\"\"A customer process arriving and waiting for service.\"\"\"\n",
    "        arrival_time = env.now\n",
    "\n",
    "        # Log queue length at arrival\n",
    "        queue_length_at_arrival = len(server.queue)\n",
    "\n",
    "        with server.request() as request:\n",
    "            yield request  # Wait for the server\n",
    "            wait_time = env.now - arrival_time  # Time spent in queue\n",
    "            \n",
    "            if name % customer_interval == 0:  # Record for every `customer_interval` customer\n",
    "                delays[name] = wait_time\n",
    "                queue_lengths[name] = queue_length_at_arrival\n",
    "            \n",
    "            service_time = generate_service_time(service_rate)\n",
    "            yield env.timeout(service_time)  # Simulate service\n",
    "\n",
    "    def arrival_process(env, server, arrival_rate, service_rate):\n",
    "        \"\"\"Process generating customers according to a Poisson arrival process.\"\"\"\n",
    "        customer_id = 0\n",
    "        while True:\n",
    "            interarrival_time = generate_interarrival_time(arrival_rate)\n",
    "            yield env.timeout(interarrival_time)\n",
    "            customer_id += 1\n",
    "            env.process(customer(env, customer_id, server, service_rate))\n",
    "\n",
    "    # Create the simulation environment\n",
    "    env = simpy.Environment()\n",
    "    server = simpy.Resource(env, capacity=C)\n",
    "    env.process(arrival_process(env, server, ARRIVAL_RATE, SERVICE_RATE))\n",
    "    env.run(until=SIM_TIME)\n",
    "\n",
    "    return delays, queue_lengths\n",
    "\n",
    "# Run the simulation NUM_RUNS times and collect data\n",
    "all_delays = {i: [] for i in range(CUSTOMER_INTERVAL, SIM_TIME, CUSTOMER_INTERVAL)}\n",
    "all_queue_lengths = {i: [] for i in range(CUSTOMER_INTERVAL, SIM_TIME, CUSTOMER_INTERVAL)}\n",
    "\n",
    "for run in tqdm(range(NUM_RUNS), desc=\"Running Simulations\", unit=\"run\"):\n",
    "    delays, queue_lengths = simulate_one_run(CUSTOMER_INTERVAL)\n",
    "\n",
    "    for customer, delay in delays.items():\n",
    "        if customer in all_delays:\n",
    "            all_delays[customer].append(delay)\n",
    "    \n",
    "    for customer, queue_length in queue_lengths.items():\n",
    "        if customer in all_queue_lengths:\n",
    "            all_queue_lengths[customer].append(queue_length)\n",
    "\n",
    "# Convert results to DataFrames for analysis\n",
    "df_delays = pd.DataFrame.from_dict(all_delays, orient=\"index\").T\n",
    "df_queue_lengths = pd.DataFrame.from_dict(all_queue_lengths, orient=\"index\").T\n"
   ]
  },
  {
   "cell_type": "code",
   "execution_count": 4,
   "metadata": {},
   "outputs": [],
   "source": [
    "# PART 1, Task 1: Plot the delay distribution"
   ]
  },
  {
   "cell_type": "code",
   "execution_count": 5,
   "metadata": {},
   "outputs": [],
   "source": [
    "# Part 1, Task 2: Warm-up & Steady-State Conditions"
   ]
  },
  {
   "cell_type": "code",
   "execution_count": 6,
   "metadata": {},
   "outputs": [],
   "source": [
    "# Part 1, Task 3: Comparison with Analytical Queueing System Model"
   ]
  },
  {
   "cell_type": "markdown",
   "metadata": {},
   "source": [
    "***\n",
    "## PART 2: Examine Influence of Initial Conditions\n",
    "\n",
    "Below you will find the software code for a DES simulation of an M/M/c queueing system. The DES model is parameterised via the global variables in the *Parametrisation of Simulation Model* block. In PART 2 of this exercise we investigate the influence of initial conditions on the transient phase of a DES simulation model. To this end, we analyse how the number of passengers being present in the queue of the queueing system at simulation time $t=0$ (see parameter `INITIAL_ENTITIES`) affects the transient phase .\n",
    "\n",
    "The simulation results are saved in dictionary `results`. For each value in the `INITIAL_ENTITIES` list, which acts as the key of `results`, a dataframe `df_delays` is saved for the delays experienced by the passengers (i.e., waiting times in the queue) and a dataframe `df_queue_lengths` for the resulting queue lengths. For example, if you want to read the results for `INITIAL_ENTITIES = 20`, you can do this as follows `df_delays, df_queue_length = results[20]`.\n",
    "\n",
    "### Tasks:\n",
    "1. plot a diagram in which the delays experienced by the passengers are plotted for all analysed values of `INITIAL_ENTITIES` as a function of the passenger index."
   ]
  },
  {
   "cell_type": "code",
   "execution_count": 16,
   "metadata": {},
   "outputs": [
    {
     "name": "stderr",
     "output_type": "stream",
     "text": [
      "Simulating for Initial Queue = 0: 100%|██████████| 2000/2000 [00:22<00:00, 87.03run/s]\n",
      "Simulating for Initial Queue = 10: 100%|██████████| 2000/2000 [00:23<00:00, 85.03run/s]\n",
      "Simulating for Initial Queue = 20: 100%|██████████| 2000/2000 [00:23<00:00, 83.99run/s]\n",
      "Simulating for Initial Queue = 30: 100%|██████████| 2000/2000 [00:23<00:00, 84.98run/s]\n",
      "Simulating for Initial Queue = 40: 100%|██████████| 2000/2000 [00:23<00:00, 84.36run/s]\n",
      "Simulating for Initial Queue = 50: 100%|██████████| 2000/2000 [00:23<00:00, 83.74run/s]\n"
     ]
    }
   ],
   "source": [
    "# Parametrization of Simulation Model\n",
    "C = 2                                                   # Number of Servers\n",
    "ARRIVAL_RATE = 1                                        # Lambda: Average number of arrivals per time unit\n",
    "SERVICE_RATE = 0.55555                                  # Mu: Average number of services per server per time unit\n",
    "SIM_TIME = 3000                                         # Total simulation time\n",
    "NUM_RUNS = 2000                                         # Number of independent simulation runs\n",
    "CUSTOMER_INTERVAL = 20                                  # Record delays for every 20th customer\n",
    "INITIAL_ENTITIES = [0, 10, 20, 30, 40, 50]   # Different initial queue lengths\n",
    "\n",
    "# Function to generate interarrival times\n",
    "def generate_interarrival_time(arrival_rate):\n",
    "    \"\"\"Generate interarrival time based on exponential distribution.\"\"\"\n",
    "    return random.expovariate(arrival_rate)\n",
    "\n",
    "# Function to generate service times\n",
    "def generate_service_time(mean_service_rate):\n",
    "    \"\"\"Generate service time based on exponential distribution.\"\"\"\n",
    "    return random.expovariate(mean_service_rate)\n",
    "\n",
    "# Simulation function\n",
    "def simulate_one_run(initial_queue, customer_interval):\n",
    "    \"\"\"Simulate a single M/M/c run with an initial queue.\"\"\"\n",
    "    delays = {}\n",
    "    queue_lengths = {}\n",
    "\n",
    "    def initial_queue_process(env, server, initial_queue, service_rate):\n",
    "        \"\"\"Populate the system with `initial_queue` customers at the start.\"\"\"\n",
    "        for i in range(initial_queue):\n",
    "            env.process(customer(env, f\"Initial-{i}\", server, service_rate))\n",
    "            yield env.timeout(0)  # Ensure proper scheduling\n",
    "\n",
    "    def customer(env, name, server, service_rate):\n",
    "        \"\"\"A customer process arriving and waiting for service.\"\"\"\n",
    "        arrival_time = env.now\n",
    "        queue_length_at_arrival = len(server.queue)  # Log queue length\n",
    "\n",
    "        with server.request() as request:\n",
    "            yield request  # Wait for the server\n",
    "            wait_time = env.now - arrival_time  # Time spent in queue\n",
    "            \n",
    "            if isinstance(name, int) and name % customer_interval == 0:  # Record every `customer_interval` customer\n",
    "                delays[name] = wait_time\n",
    "                queue_lengths[name] = queue_length_at_arrival\n",
    "            \n",
    "            service_time = generate_service_time(service_rate)\n",
    "            yield env.timeout(service_time)  # Simulate service\n",
    "\n",
    "    def arrival_process(env, server, arrival_rate, service_rate):\n",
    "        \"\"\"Process generating customers according to a Poisson arrival process.\"\"\"\n",
    "        customer_id = 0\n",
    "        while True:\n",
    "            interarrival_time = generate_interarrival_time(arrival_rate)\n",
    "            yield env.timeout(interarrival_time)\n",
    "            customer_id += 1\n",
    "            env.process(customer(env, customer_id, server, service_rate))\n",
    "\n",
    "    # Create the simulation environment\n",
    "    env = simpy.Environment()\n",
    "    server = simpy.Resource(env, capacity=C)\n",
    "\n",
    "    # Populate initial queue\n",
    "    env.process(initial_queue_process(env, server, initial_queue, SERVICE_RATE))\n",
    "    \n",
    "    # Start arrival process\n",
    "    env.process(arrival_process(env, server, ARRIVAL_RATE, SERVICE_RATE))\n",
    "    env.run(until=SIM_TIME)\n",
    "\n",
    "    return delays, queue_lengths\n",
    "\n",
    "# Run the simulation for different initial queue conditions\n",
    "results = {}\n",
    "for initial_queue in INITIAL_ENTITIES:\n",
    "    all_delays = {i: [] for i in range(CUSTOMER_INTERVAL, SIM_TIME, CUSTOMER_INTERVAL)}\n",
    "    all_queue_lengths = {i: [] for i in range(CUSTOMER_INTERVAL, SIM_TIME, CUSTOMER_INTERVAL)}\n",
    "\n",
    "    # Run simulations with tqdm progress bar\n",
    "    for _ in tqdm(range(NUM_RUNS), desc=f\"Simulating for Initial Queue = {initial_queue}\", unit=\"run\"):\n",
    "        delays, queue_lengths = simulate_one_run(initial_queue, CUSTOMER_INTERVAL)\n",
    "\n",
    "        for customer, delay in delays.items():\n",
    "            if customer in all_delays:\n",
    "                all_delays[customer].append(delay)\n",
    "\n",
    "        for customer, queue_length in queue_lengths.items():\n",
    "            if customer in all_queue_lengths:\n",
    "                all_queue_lengths[customer].append(queue_length)\n",
    "\n",
    "    results[initial_queue] = (all_delays, all_queue_lengths)\n",
    "\n",
    "# Convert results to DataFrames for each initial queue condition\n",
    "converted_results = {}  # Create a new dictionary to store the converted DataFrames\n",
    "\n",
    "for initial_queue, (delays, queue_lengths) in results.items():\n",
    "    df_delays = pd.DataFrame.from_dict(delays, orient=\"index\").T\n",
    "    df_queue_lengths = pd.DataFrame.from_dict(queue_lengths, orient=\"index\").T\n",
    "    converted_results[initial_queue] = (df_delays, df_queue_lengths)\n",
    "\n",
    "# If you want to overwrite the original dictionary with the converted DataFrames\n",
    "results = converted_results"
   ]
  },
  {
   "cell_type": "code",
   "execution_count": 7,
   "metadata": {},
   "outputs": [],
   "source": [
    "# PART 2, TASK 1: Plotting the results"
   ]
  },
  {
   "cell_type": "markdown",
   "metadata": {},
   "source": [
    "***\n",
    "## PART 3: $2^k$-Factorial Design & Analysis\n",
    "\n",
    "Carry out a $2^k$ factorial analysis. Use the DES model of an M/M/c queueing system below. We analyse the influence of two **factors**, namely (i) number of servers `SERVERS` and (ii) average service rate of a server `SERVICE_RATES` on the **response** average delay in steady-state conditions. For this purpose, we have defined both factors as vectors, the first element of which describes a low (-) state and the second element the high (+) state. The simulation model below then performs `NUM_RUNS` for all combinations of the two analysed factors and saves the results in dictionary `results`.\n",
    "\n",
    "### Tasks:\n",
    "1. Calculate the responses $R_1, R_2, R_3$ and $R_4$ (i.e. the average delays in steady-state conditions) for all combinations of the factors.\n",
    "2. Calculate effect size $e_1$ and $e_2$ of the two factors. Interpret the results.\n",
    "3. Create a plot showing the delay experienced by passengers versus the Passenger Index for all combinations of the two factors."
   ]
  },
  {
   "cell_type": "code",
   "execution_count": 18,
   "metadata": {},
   "outputs": [
    {
     "name": "stderr",
     "output_type": "stream",
     "text": [
      "Simulating Servers=3, ServiceRate=0.5263: 100%|██████████| 5000/5000 [01:21<00:00, 61.24run/s]\n",
      "Simulating Servers=3, ServiceRate=0.6250: 100%|██████████| 5000/5000 [01:21<00:00, 61.38run/s]\n",
      "Simulating Servers=4, ServiceRate=0.5263: 100%|██████████| 5000/5000 [01:20<00:00, 62.07run/s]\n",
      "Simulating Servers=4, ServiceRate=0.6250: 100%|██████████| 5000/5000 [01:20<00:00, 62.17run/s]\n"
     ]
    }
   ],
   "source": [
    "# Simulation parameters\n",
    "ARRIVAL_RATE = 1.4          # Arrival Rate [passengers per unit time]\n",
    "SIM_TIME = 3000             # Total simulation time\n",
    "NUM_RUNS = 5000             # Number of independent simulation runs\n",
    "CUSTOMER_INTERVAL = 20      # Record delays for every 20th customer\n",
    "\n",
    "# Factor levels\n",
    "SERVERS = [3, 4]                      # Factor 1: Number of servers\n",
    "SERVICE_RATES = [1/1.9, 1/1.6]      # Factor 2: Service rate per server (1/service time)\n",
    "\n",
    "# Function to generate interarrival times\n",
    "def generate_interarrival_time(arrival_rate):\n",
    "    \"\"\"Generate interarrival time based on exponential distribution.\"\"\"\n",
    "    return random.expovariate(arrival_rate)\n",
    "\n",
    "# Function to generate service times\n",
    "def generate_service_time(mean_service_rate):\n",
    "    \"\"\"Generate service time based on exponential distribution.\"\"\"\n",
    "    return random.expovariate(mean_service_rate)\n",
    "\n",
    "# Simulation function\n",
    "def simulate_one_run(c, service_rate, customer_interval):\n",
    "    \"\"\"Simulate a single M/M/c run with given `c` servers and `service_rate`.\"\"\"\n",
    "    delays = {}\n",
    "    queue_lengths = {}\n",
    "\n",
    "    def customer(env, name, server, service_rate):\n",
    "        \"\"\"A customer process arriving and waiting for service.\"\"\"\n",
    "        arrival_time = env.now\n",
    "        queue_length_at_arrival = len(server.queue)  # Log queue length\n",
    "\n",
    "        with server.request() as request:\n",
    "            yield request  # Wait for the server\n",
    "            wait_time = env.now - arrival_time  # Time spent in queue\n",
    "            \n",
    "            if name % customer_interval == 0:  # Record for every `customer_interval` customer\n",
    "                delays[name] = wait_time\n",
    "                queue_lengths[name] = queue_length_at_arrival\n",
    "            \n",
    "            service_time = generate_service_time(service_rate)\n",
    "            yield env.timeout(service_time)  # Simulate service\n",
    "\n",
    "    def arrival_process(env, server, arrival_rate, service_rate):\n",
    "        \"\"\"Process generating customers according to a Poisson arrival process.\"\"\"\n",
    "        customer_id = 0\n",
    "        while True:\n",
    "            interarrival_time = generate_interarrival_time(arrival_rate)\n",
    "            yield env.timeout(interarrival_time)\n",
    "            customer_id += 1\n",
    "            env.process(customer(env, customer_id, server, service_rate))\n",
    "\n",
    "    # Create the simulation environment\n",
    "    env = simpy.Environment()\n",
    "    server = simpy.Resource(env, capacity=c)\n",
    "    env.process(arrival_process(env, server, ARRIVAL_RATE, service_rate))\n",
    "    env.run(until=SIM_TIME)\n",
    "\n",
    "    return delays, queue_lengths\n",
    "\n",
    "# Dictionary to store results for all (SERVERS × SERVICE_RATES) combinations\n",
    "results = {}\n",
    "\n",
    "# Run the simulation for all combinations of SERVERS & SERVICE_RATES\n",
    "for c, service_rate in itertools.product(SERVERS, SERVICE_RATES):\n",
    "    key = f\"Servers={c}, ServiceRate={service_rate:.4f}\"  # Unique key for each setting\n",
    "\n",
    "    all_delays = {i: [] for i in range(CUSTOMER_INTERVAL, SIM_TIME, CUSTOMER_INTERVAL)}\n",
    "    all_queue_lengths = {i: [] for i in range(CUSTOMER_INTERVAL, SIM_TIME, CUSTOMER_INTERVAL)}\n",
    "\n",
    "    # Run simulations with tqdm progress bar\n",
    "    for _ in tqdm(range(NUM_RUNS), desc=f\"Simulating {key}\", unit=\"run\"):\n",
    "        delays, queue_lengths = simulate_one_run(c, service_rate, CUSTOMER_INTERVAL)\n",
    "\n",
    "        for customer, delay in delays.items():\n",
    "            if customer in all_delays:\n",
    "                all_delays[customer].append(delay)\n",
    "\n",
    "        for customer, queue_length in queue_lengths.items():\n",
    "            if customer in all_queue_lengths:\n",
    "                all_queue_lengths[customer].append(queue_length)\n",
    "\n",
    "    # Store results in dictionary\n",
    "    results[key] = (\n",
    "        pd.DataFrame.from_dict(all_delays, orient=\"index\").T,  # Delay DataFrame\n",
    "        pd.DataFrame.from_dict(all_queue_lengths, orient=\"index\").T  # Queue Length DataFrame\n",
    "    )"
   ]
  },
  {
   "cell_type": "code",
   "execution_count": 9,
   "metadata": {},
   "outputs": [],
   "source": [
    "# PART 3, TASK 1: Extracting Responses R1, R2, R3, and R4\n"
   ]
  },
  {
   "cell_type": "code",
   "execution_count": 8,
   "metadata": {},
   "outputs": [],
   "source": [
    "# PART 3, TASK 2: Calculate Effect Sizes e1 and e2\n",
    "\n"
   ]
  },
  {
   "cell_type": "code",
   "execution_count": null,
   "metadata": {},
   "outputs": [
    {
     "data": {
      "application/vnd.plotly.v1+json": {
       "config": {
        "plotlyServerURL": "https://plot.ly"
       },
       "data": [
        {
         "line": {
          "color": "red",
          "width": 3
         },
         "mode": "lines",
         "name": "Service Rate: -, Servers: -",
         "type": "scatter",
         "x": {
          "bdata": "FAAoADwAUABkAHgAjACgALQAyADcAPAABAEYASwBQAFUAWgBfAGQAaQBuAHMAeAB9AEIAhwCMAJEAlgCbAKAApQCqAK8AtAC5AL4AgwDIAM0A0gDXANwA4QDmAOsA8AD1APoA/wDEAQkBDgETARgBHQEiAScBLAExATYBOwEAAUUBSgFPAVQBWQFeAWMBaAFtAXIBdwF8AUEBhgGLAZABlQGaAZ8BpAGpAa4BswG4Ab0BggHHAcwB0QHWAdsB4AHlAeoB7wH0AfkB/gHDAggCDQISAhcCHAIhAiYCKwIwAjUCOgI/AgQCSQJOAlMCWAJdAmICZwJsAnECdgJ7AkAChQKKAo8ClAKZAp4CowKoAq0CsgK3ArwCgQLGAssC0ALVAtoC3wLkAukCw==",
          "dtype": "i2"
         },
         "y": {
          "bdata": "WPBZ4MR+9z+dfNYJn1ECQNBB4GR58QVARjQEyyj6B0Ak46vpS9IJQPK03LiaYwxA/uF0aU5SDUB+LNKet3YOQMIedHU6Kw9AF2c+4JoJEECUC174C/oPQPu+CSu8HxBAMkcfyVFFEEA14JEhoGkQQInOfCLwWhBAZwOC2vqbEEBt/WXkM9cQQIZXJ01O0RBAapQjJ8sfEUCmsdhoA/IQQEB1G0fkyBBAQBRFDKfMEEAp6C2IHtMQQLa5ZqWIyhBAAd0+Xh7OEEAIql4xoOoQQIC5bXP3GRFAlwQHvp/4EEDDbKIr6kYRQLsizq8BYxFAqBOeZ3XnEED9rh05YzcRQBMfRM9DXhFA4AZnujw+EUB0jkaQTjARQGFu66FiNxFAPStVlKdNEUCRnBubSl4RQOeVcEtjmhFAm6pJ6U14EUAtvnpEj3sRQEjg9vlYshFAiPfBcHV5EUDTVlfHhbkRQA7JFm31jxFAdwiKDOB3EUCHw8CPq8kRQD4d01sGlBFALHSdkvfNEUACBg6otgwSQK/lKkM4CBJAp9err+gAEkBU2MzuUkASQLpvz75LcBJARBXMRePpEUDrWRtxROARQChukmfR4xFAw/31BQjnEUALyDpTK8sRQAqf8CAaxhFAfEttynf9EUBw009WeMwRQCY8GNz+tBFAF58kiJqqEUBz0S/8rqcRQEjGVMvR6xFABZmM623WEUAran2SvBISQAvCRY5wwxFA9V3rxpYEEkDQB6HrL/MRQJXjJWrpyxFAmF8J56cqEkBkvnbY0lcSQLWo/zCoVBJA/+2y0tE/EkDDN5FqBXMSQBkBkg9MpRJA4w1XjO4pEkDHRVtnJPcRQH6H1d1k7RFA3d+Ql1U1EkBTiuOe/xYSQLqI2hH81RFAJKOwZMr7EUD8Mz3We5cRQES7ds+usxFA0AOytqHJEUCTNb9GIMgRQLHw0nTAxhFAIAEK9d+2EUD76mPjufkRQHpXw/cjEBJA7aEtHCUIEkAbb9ZGMfARQKgNLOKGFxJAccdBXs8JEkBsDC8Luv8RQMag4sSrjRJArsYnLW19EkD4a9RuyiMSQFuq70XOTRJA++bnAbgDEkD7ikIDYhUSQHyXGdpz5xFAjf+RGB8lEkA1L9BqgA0SQK+bQEEmAxJAC8rOwEqcEUC2MIrXGNARQPsr3vQbpBFAP5cTJzf/EUAY2xOM6/ARQGjucoI7thFAWIxvf0u8EUCYgwIDMb0RQG816Ol9IBJA7qp22MghEkBH+yB02CUSQFN1uOwDUhJA7rgv4lQ6EkAkL3KuGTkSQGw737f0FhJA4VwCiPkPEkCwcklvehcSQJTuCbuC3xFAg+LtrZ68EUBJq5Nk8gUSQKXPk+w7ChJAsct/IgnOEUChui2GlLcRQCvGyyeoPRJAbLb2qyFIEkDqOcZPE3kSQMY6ybxCixJAet2H2jRLEkBUoxdNRjQSQLzPgQOPDRJAG/n0F5zgEUAWQe6+JsMRQLo7Yl70uRFAnz+UuTPsEUA6ua2uFegRQJ5RJzKxARJAMG9bsxjWEUCQZKB2f/MRQKHME8oeqhFAb0ikK2uLEUAGoW9+LYQRQA==",
          "dtype": "f8"
         }
        },
        {
         "line": {
          "color": "black",
          "dash": "dash",
          "width": 1
         },
         "mode": "lines",
         "showlegend": false,
         "type": "scatter",
         "x": [
          0,
          3000
         ],
         "y": [
          4.498012111686375,
          4.498012111686375
         ]
        },
        {
         "line": {
          "color": "blue",
          "width": 3
         },
         "mode": "lines",
         "name": "Service Rate: +, Servers: -",
         "type": "scatter",
         "x": {
          "bdata": "FAAoADwAUABkAHgAjACgALQAyADcAPAABAEYASwBQAFUAWgBfAGQAaQBuAHMAeAB9AEIAhwCMAJEAlgCbAKAApQCqAK8AtAC5AL4AgwDIAM0A0gDXANwA4QDmAOsA8AD1APoA/wDEAQkBDgETARgBHQEiAScBLAExATYBOwEAAUUBSgFPAVQBWQFeAWMBaAFtAXIBdwF8AUEBhgGLAZABlQGaAZ8BpAGpAa4BswG4Ab0BggHHAcwB0QHWAdsB4AHlAeoB7wH0AfkB/gHDAggCDQISAhcCHAIhAiYCKwIwAjUCOgI/AgQCSQJOAlMCWAJdAmICZwJsAnECdgJ7AkAChQKKAo8ClAKZAp4CowKoAq0CsgK3ArwCgQLGAssC0ALVAtoC3wLkAukCw==",
          "dtype": "i2"
         },
         "y": {
          "bdata": "47vCuxxi6T/Uf4dTuifxP7M5LM94OfE/ck2pnAOv8T84Y5/Bm87yP6iaoGllR/I/VFCkULGh8j9/iTSYPfTyP488TCUiFPM/gw2zzvqy8j/OejL6RYjyP+4AL7hYvfI/vosJwpSE8j90n/0B16TyP1tA2lyZevI/T8BxaAC58j8afov5Fi7yPycpFsxCOvI/KaPMfBV08j9ZUo5VdrDyP/nnOE1/P/M/9EOIBwDw8j+4/KCX6pHzP0LnLQvuqvM/kpuGaMvm8z8kqD4pL3jzPynHK8y2ufM/5vGxHsi68j9zKcbX7uDzP6ok+xl0QPM/NOLocD018z8YSt17LcHyP0dHgXV+QPM/NxFzZ4NY8z+E6FALQofyP5R7301XKPM/QBByj2cU8z9vkqESuFbzPz844esw+fI/mcQWKlxe8z8gHChKCHnyPwVrUGMKPfM/yhZ8zryo8j+WzgCvA3nyP9HWg0G6r/I/bd8FkqGF8j/NgNkVu8nxP81jZcf6ofI/nj/As/fI8j9xlAh07mXzP7P9sd7TkPM/e3qDTBcs8z/5NnsovQPzPwMl0RPN//I/9FNnJnGA8j9IvfrVXLjyPyS4aW/nLfM/gsPXU4rV8j+IKVWnFc/yP22P6QgUBPM/lVqG7H4f8z+JuFX2fLbyP9EU01eJcPM/5hzcaWX98j+xuGgLaFbzPw87aLEWS/M/ytFuumhx8z95IanwQEnzPySaSqUMCPM/7pY+NCXM8j+oOSwsfpnyP25xMqEcx/I/1C/z/GfC8j8nEG9aDR/zP/DhG7/UpPI/So1QDLVQ8j/n81ddaKXyP6kzH9f8//I/OYjOnvoP8z/kkLXvBDHzP3QUdcCpWPI/cB/tRPOf8j/+g03UVnbyP2aneK994fI/tje1zxDK8j9vqivfqaPyPyM6EqsLAfI/1FCI+gJ68j/nsRqHyo/yP5joywSW/fI/5NLsNVgZ8z9MSHZqXgHzP20lOpapxvI/oCToTdJp8j+JLfQakifyP4BsfScLZ/I/XSxdQWnO8j+iNengtjrzP8tVDWTVr/I/X9trsUdh8z/QFdZ7jVLyP4yTaudVKPI/p5LdLkJG8j/S196416LyPxGKptV2R/I/3vko0kTK8j+jppE1/v/yP5DYWcDfbfI/tMmF0AaK8z9XBJ8+Z27zP/yYU4094fI/xYRMsnS98j/zbMYIlY3yP1XHXN7+EPI/OpKz5n0K8z/oB+iiSs7yP6T2ofDVkvI/NUzISXhG8z82NhbsbZ3zP9euGUjBHPM/jk9Q/qpV8j/glF6YqrTyPwQoZXgDmvI/PK0//eSW8j8phEFRyZfyP5AUk3tOvvI/61vJdh0h8z+R+Zm0t//yP3On5ZExL/M/x6lqVv4p8z8K4u5hZUn0P+1pUeqOQPM/dEaUyRHa8j83ZlLnlG3yPwQaNkd27vI/fBUCD4968z8dif0Ox+/yP4kK11quvfI/Q5fXQKtP8j+6e+dXc9ryP/jPEKY6evI/gAybTJPN8j+9idVqtBzzP7GXI05y1/I/2FU1uusZ8z8AyXM9uArzPwl/O+leBPM/NA1o2kMJ8z95rnlPZ4rzPw==",
          "dtype": "f8"
         }
        },
        {
         "line": {
          "color": "black",
          "dash": "dash",
          "width": 1
         },
         "mode": "lines",
         "showlegend": false,
         "type": "scatter",
         "x": [
          0,
          3000
         ],
         "y": [
          1.1791167395003521,
          1.1791167395003521
         ]
        },
        {
         "line": {
          "color": "green",
          "width": 3
         },
         "mode": "lines",
         "name": "Service Rate: -, Servers: +",
         "type": "scatter",
         "x": {
          "bdata": "FAAoADwAUABkAHgAjACgALQAyADcAPAABAEYASwBQAFUAWgBfAGQAaQBuAHMAeAB9AEIAhwCMAJEAlgCbAKAApQCqAK8AtAC5AL4AgwDIAM0A0gDXANwA4QDmAOsA8AD1APoA/wDEAQkBDgETARgBHQEiAScBLAExATYBOwEAAUUBSgFPAVQBWQFeAWMBaAFtAXIBdwF8AUEBhgGLAZABlQGaAZ8BpAGpAa4BswG4Ab0BggHHAcwB0QHWAdsB4AHlAeoB7wH0AfkB/gHDAggCDQISAhcCHAIhAiYCKwIwAjUCOgI/AgQCSQJOAlMCWAJdAmICZwJsAnECdgJ7AkAChQKKAo8ClAKZAp4CowKoAq0CsgK3ArwCgQLGAssC0ALVAtoC3wLkAukCw==",
          "dtype": "i2"
         },
         "y": {
          "bdata": "Q3m9Snok2D9dBnVJk3DfP79fL1g1DeE/dG7sIrJq4D+GuD68zNzgP8GGC3JMQOE/8RDGA8fA4D/VHr0wYAjhPyC58ams8eA/2j4V3mes4T+O7AcJ3sLgP5kHj7UYw+E/DHCnfIy44D9hMmjJ4Y3gPwvCAhmnSuE/NvujAIpe4T8HdaAAb8DhP8xxH0ViI+E/9cVyM0Vl4T87b94WyirhP+MxgDJjtuE/JY9ffcal4D/p+KIKRozgP/JyY9lt+uA/oerEDcDf4T9jnsvmDIXhPyBKdO8KheE/Eljc6mqR4T8nlPbJ+cbhP2SnxxUfouE/96n31qtl4T8XUE6rrufgP/eEacYQauA/7sIHf3Yo4T/R8SjAnfbfP8tntl3AiOA/be3x+mrx4D9a4QmQvDHgP7837ESsNOE/dr+kv2Ak4T/TiIUTrqDgP0gloTg+TeE/k0e/RXcb4T9vo6ayhnjhP1VSIaetqeA/R0gMtfdS4T/sJFsQXRLhP8pR6xS+T+E/In2WKUJA4T+glbRNSNDhP758UNn6J+E/G4F83+I64D+9hQqiNdrgP84ofMt3veA/7CXKubxn4T92v8bktZvhP2hvhidi4OA//GAm9VDV4D/1C0HLnyfhP42jsK0PwuA/KesoRFxA4T89VCaUZkbhP9OB6r/c8+A/IAeyAW0u4T/XPvaR9dHgP+AdSOIHOeE/OV7wa4dI4D/ctDbps9rgP2D1db7m4d8/PcnI6yyK4D98cuUl8K3hPzcEK2yRsuE/RbRkS5tx4j+o5tS9y6vgP3/dSGLy3uA/xDOwYYUZ4D/1bQj2fGHgP4gcKBbE9eA/B8cH0k7O4D8OCRZWm//hPxFGO3BUj+A/bzCp5Pi/4T+FF20HrXThPwO24UDuI+E/0GVqpBih4D/ww9tzzmHhP/LgSyxOWuE/wsmR/wVz4T9pmDVVMSXhP2P+xupaHOE/pXHJLVm/4D+ak7uTe1jhP71zpnvMkuA/nDavaS184D+ApEeKrTbhP5OSEPbbGeE/yVLfjr5z3z8i/cZtIbXgP3fxy5fX5+A/+3oTla414D/saQL1687gPwEZteQkL+E/zvJkEbk34T8E64u3yIXhP8oAkzq80eA/jQD1nIDP4T/uwPxESvbhP7Ipr64eluE/mIyOkzwk4T+XW5kpHK3gPxkY4ZLzoeA/bJ3hcYnl4D/eNbANC1LhP31ENPJEXeE/j195uRhG4T9NGUQtM+LgP7eP2UF+AOE/4/XQphbt4T99eDm91QnhPxuehoURj+A/9DdqSY0T4T8HMK9XJzHgP25fQPR+aeE/X4CwQUCq4D+g2k007/zgPxg7CJZq2eA/zKqGRge14D+YKLbM6bvgP2JOUjElQuE/syZjLL/C4D+h1oExTsXgP7hCkR6gBOE/0ckAExUp4T9g6YGJXZbgP+AEdvaMl+A/skqJPf/z4D8hY2fR8cngP5cqrWk0ROA/+dxNw0z84D9spSvCvWfhP84Ugd1vNOE/dDTf+IUM4T/2WjZjw5jgP/Qct7b1dOA/pc7TyyAA4T+B5vFJlu/gP2Bt3YH0yuA/m0D5fsJN4D99BBYCW1LhPw==",
          "dtype": "f8"
         }
        },
        {
         "line": {
          "color": "black",
          "dash": "dash",
          "width": 1
         },
         "mode": "lines",
         "showlegend": false,
         "type": "scatter",
         "x": [
          0,
          3000
         ],
         "y": [
          0.5306165291600602,
          0.5306165291600602
         ]
        },
        {
         "line": {
          "color": "magenta",
          "width": 3
         },
         "mode": "lines",
         "name": "Service Rate: +, Servers: +",
         "type": "scatter",
         "x": {
          "bdata": "FAAoADwAUABkAHgAjACgALQAyADcAPAABAEYASwBQAFUAWgBfAGQAaQBuAHMAeAB9AEIAhwCMAJEAlgCbAKAApQCqAK8AtAC5AL4AgwDIAM0A0gDXANwA4QDmAOsA8AD1APoA/wDEAQkBDgETARgBHQEiAScBLAExATYBOwEAAUUBSgFPAVQBWQFeAWMBaAFtAXIBdwF8AUEBhgGLAZABlQGaAZ8BpAGpAa4BswG4Ab0BggHHAcwB0QHWAdsB4AHlAeoB7wH0AfkB/gHDAggCDQISAhcCHAIhAiYCKwIwAjUCOgI/AgQCSQJOAlMCWAJdAmICZwJsAnECdgJ7AkAChQKKAo8ClAKZAp4CowKoAq0CsgK3ArwCgQLGAssC0ALVAtoC3wLkAukCw==",
          "dtype": "i2"
         },
         "y": {
          "bdata": "sUmPPO1OyD89JllAo8fMP3RehsQFFMs/Bt33DQU9yz85LQv5wMvMP4UQrxiy8co/mIByWwlzyj+jKR90UkrLP1Qjfhp7HM4/3XT2go2Iyj/gEGWN4XXMPzSANTuM1c4/AaUkbm74yj8UEA/Wu4TKP1Q7akO8W8s/0KCiQ6dbzT+YtVw2zA7NP32oZ+fEn8s/aqzk5MolzD9N57bs67jMP1oUle7rNso/L+kXHjsczT/2O0F44k3MP1Tswqf0CM0/hOKIbe6ryz8gIVrZfDbLP03QIC4yjsk/gRSdxHF7yz+ed7MbyE/LPwe7oSxxPcw/PLL4XStIyz8zKFRfXnPLP2FD52/ZYco/9Qn35rwVzD8HngzXhe7KP4G9+0fAwMs/B8op5Rzbyz8NpB/c3U7LP5KvJQUPBss/VsFaK3Fxyj8HCEZuWpbMP2qaxrKed8w/Xjs9pvCXyT8tAX7SznTMP5JKBxOWL8k/sw5BONuryj/hs/JclAXOP4VQgBngeM0/K3cnidbxzD8N0PMDJYnMP3RUbo38Ocw/ZSqyLzulzD/szSqWI7rMPw1xjMDu7sw/wldJuv9nzT9vCv1XBwnNP4NXlH8DaMs/Xnp7rEpfyj9aIdtxFp/LP+sKOMUqacs/PUu/i15jyj9S+mdhjxzJP+xDbLe70sw/6XilV+33yz+MkvGtUtvKP7KaS4klo8s/tLFjTtChzD/JPStF9RzLP7JWAl7hJMw/g/GuvTljyz94isPEoE/MP+Tj6IKttcs/tT3G4b4XzD8QPK/3iOfKP4BwvUZFuso/o0HhOXJnyj81p0bZ5vDLP1nq9DGgQsw/MsWUY0rIyT8GKriT+SfLPyjnIrTtfsw/ygCIjDGUzD+bwXPevYjMP1KvnlwUuMs/veYGhyXOyz9zFyhQCR/IPwegsNLPQcw/XWA/yJULyz/IgHW06LrKP35kIM9B/Mo/X/kUMH6Iyj8ZT/Y0ZkvLP6I5iGKx08o/uB75h4jxzD9VpW28sl7LP1QDQF16bso/eiXW7KdTyj8EJkoUqgTLPwM8Hrl+A8s/LkTvBM6cyj8HaquHO/DMP2GbqbIfNco/cb9ObVRbyz+yeprF7EHMP98MQzuR78o/Ue65+xl3zD82/yi+ofPMP0cbU5F/Fsw/Ns8FfoA3zD/9dtmGKT7MP9H9C4o57ss/e6fevTI2yj8/kUYWgzfJP5Zbt14Fgss/Ukilpfnxyz/V69PiGKXMP4RVGxASmsw/+/Iz6AZ6yz9ec+u/xazKP9nWvFLj1Mk/zIs0pMRrzT+c2gjPwQ7MP/TJGJaTrMw/S7XB6Ytvyj9IU3sCivbMP1vCj5vme8w/bSlHZG0PzT+LrMaKwlHMP3eynjOOFcs/EgxekcBszD/KroEE/F/MP29yiuAQ3ss/hWij9490yj+L9Ny+2kDMPyN7N8HZ88o/YmABIWs/yz9SBWqyotPNP+3h+f8v4Mw/LJSlAWn0yj+BRI2eUMTLP2+0uU4uPcw/C0lP8eTeyz8SV65qo67LPwHZ6UqumMw/QU3JfC/+zD9EqtPF7wzMPwFZBBGNj8o/en4qMN4QzD8cWED5v4HOPw==",
          "dtype": "f8"
         }
        },
        {
         "line": {
          "color": "black",
          "dash": "dash",
          "width": 1
         },
         "mode": "lines",
         "showlegend": false,
         "type": "scatter",
         "x": [
          0,
          3000
         ],
         "y": [
          0.21634679548845656,
          0.21634679548845656
         ]
        }
       ],
       "layout": {
        "font": {
         "size": 14
        },
        "height": 500,
        "legend": {
         "title": {
          "text": "Factorial Combinations"
         }
        },
        "showlegend": true,
        "template": {
         "data": {
          "bar": [
           {
            "error_x": {
             "color": "#2a3f5f"
            },
            "error_y": {
             "color": "#2a3f5f"
            },
            "marker": {
             "line": {
              "color": "white",
              "width": 0.5
             },
             "pattern": {
              "fillmode": "overlay",
              "size": 10,
              "solidity": 0.2
             }
            },
            "type": "bar"
           }
          ],
          "barpolar": [
           {
            "marker": {
             "line": {
              "color": "white",
              "width": 0.5
             },
             "pattern": {
              "fillmode": "overlay",
              "size": 10,
              "solidity": 0.2
             }
            },
            "type": "barpolar"
           }
          ],
          "carpet": [
           {
            "aaxis": {
             "endlinecolor": "#2a3f5f",
             "gridcolor": "#C8D4E3",
             "linecolor": "#C8D4E3",
             "minorgridcolor": "#C8D4E3",
             "startlinecolor": "#2a3f5f"
            },
            "baxis": {
             "endlinecolor": "#2a3f5f",
             "gridcolor": "#C8D4E3",
             "linecolor": "#C8D4E3",
             "minorgridcolor": "#C8D4E3",
             "startlinecolor": "#2a3f5f"
            },
            "type": "carpet"
           }
          ],
          "choropleth": [
           {
            "colorbar": {
             "outlinewidth": 0,
             "ticks": ""
            },
            "type": "choropleth"
           }
          ],
          "contour": [
           {
            "colorbar": {
             "outlinewidth": 0,
             "ticks": ""
            },
            "colorscale": [
             [
              0,
              "#0d0887"
             ],
             [
              0.1111111111111111,
              "#46039f"
             ],
             [
              0.2222222222222222,
              "#7201a8"
             ],
             [
              0.3333333333333333,
              "#9c179e"
             ],
             [
              0.4444444444444444,
              "#bd3786"
             ],
             [
              0.5555555555555556,
              "#d8576b"
             ],
             [
              0.6666666666666666,
              "#ed7953"
             ],
             [
              0.7777777777777778,
              "#fb9f3a"
             ],
             [
              0.8888888888888888,
              "#fdca26"
             ],
             [
              1,
              "#f0f921"
             ]
            ],
            "type": "contour"
           }
          ],
          "contourcarpet": [
           {
            "colorbar": {
             "outlinewidth": 0,
             "ticks": ""
            },
            "type": "contourcarpet"
           }
          ],
          "heatmap": [
           {
            "colorbar": {
             "outlinewidth": 0,
             "ticks": ""
            },
            "colorscale": [
             [
              0,
              "#0d0887"
             ],
             [
              0.1111111111111111,
              "#46039f"
             ],
             [
              0.2222222222222222,
              "#7201a8"
             ],
             [
              0.3333333333333333,
              "#9c179e"
             ],
             [
              0.4444444444444444,
              "#bd3786"
             ],
             [
              0.5555555555555556,
              "#d8576b"
             ],
             [
              0.6666666666666666,
              "#ed7953"
             ],
             [
              0.7777777777777778,
              "#fb9f3a"
             ],
             [
              0.8888888888888888,
              "#fdca26"
             ],
             [
              1,
              "#f0f921"
             ]
            ],
            "type": "heatmap"
           }
          ],
          "histogram": [
           {
            "marker": {
             "pattern": {
              "fillmode": "overlay",
              "size": 10,
              "solidity": 0.2
             }
            },
            "type": "histogram"
           }
          ],
          "histogram2d": [
           {
            "colorbar": {
             "outlinewidth": 0,
             "ticks": ""
            },
            "colorscale": [
             [
              0,
              "#0d0887"
             ],
             [
              0.1111111111111111,
              "#46039f"
             ],
             [
              0.2222222222222222,
              "#7201a8"
             ],
             [
              0.3333333333333333,
              "#9c179e"
             ],
             [
              0.4444444444444444,
              "#bd3786"
             ],
             [
              0.5555555555555556,
              "#d8576b"
             ],
             [
              0.6666666666666666,
              "#ed7953"
             ],
             [
              0.7777777777777778,
              "#fb9f3a"
             ],
             [
              0.8888888888888888,
              "#fdca26"
             ],
             [
              1,
              "#f0f921"
             ]
            ],
            "type": "histogram2d"
           }
          ],
          "histogram2dcontour": [
           {
            "colorbar": {
             "outlinewidth": 0,
             "ticks": ""
            },
            "colorscale": [
             [
              0,
              "#0d0887"
             ],
             [
              0.1111111111111111,
              "#46039f"
             ],
             [
              0.2222222222222222,
              "#7201a8"
             ],
             [
              0.3333333333333333,
              "#9c179e"
             ],
             [
              0.4444444444444444,
              "#bd3786"
             ],
             [
              0.5555555555555556,
              "#d8576b"
             ],
             [
              0.6666666666666666,
              "#ed7953"
             ],
             [
              0.7777777777777778,
              "#fb9f3a"
             ],
             [
              0.8888888888888888,
              "#fdca26"
             ],
             [
              1,
              "#f0f921"
             ]
            ],
            "type": "histogram2dcontour"
           }
          ],
          "mesh3d": [
           {
            "colorbar": {
             "outlinewidth": 0,
             "ticks": ""
            },
            "type": "mesh3d"
           }
          ],
          "parcoords": [
           {
            "line": {
             "colorbar": {
              "outlinewidth": 0,
              "ticks": ""
             }
            },
            "type": "parcoords"
           }
          ],
          "pie": [
           {
            "automargin": true,
            "type": "pie"
           }
          ],
          "scatter": [
           {
            "fillpattern": {
             "fillmode": "overlay",
             "size": 10,
             "solidity": 0.2
            },
            "type": "scatter"
           }
          ],
          "scatter3d": [
           {
            "line": {
             "colorbar": {
              "outlinewidth": 0,
              "ticks": ""
             }
            },
            "marker": {
             "colorbar": {
              "outlinewidth": 0,
              "ticks": ""
             }
            },
            "type": "scatter3d"
           }
          ],
          "scattercarpet": [
           {
            "marker": {
             "colorbar": {
              "outlinewidth": 0,
              "ticks": ""
             }
            },
            "type": "scattercarpet"
           }
          ],
          "scattergeo": [
           {
            "marker": {
             "colorbar": {
              "outlinewidth": 0,
              "ticks": ""
             }
            },
            "type": "scattergeo"
           }
          ],
          "scattergl": [
           {
            "marker": {
             "colorbar": {
              "outlinewidth": 0,
              "ticks": ""
             }
            },
            "type": "scattergl"
           }
          ],
          "scattermap": [
           {
            "marker": {
             "colorbar": {
              "outlinewidth": 0,
              "ticks": ""
             }
            },
            "type": "scattermap"
           }
          ],
          "scattermapbox": [
           {
            "marker": {
             "colorbar": {
              "outlinewidth": 0,
              "ticks": ""
             }
            },
            "type": "scattermapbox"
           }
          ],
          "scatterpolar": [
           {
            "marker": {
             "colorbar": {
              "outlinewidth": 0,
              "ticks": ""
             }
            },
            "type": "scatterpolar"
           }
          ],
          "scatterpolargl": [
           {
            "marker": {
             "colorbar": {
              "outlinewidth": 0,
              "ticks": ""
             }
            },
            "type": "scatterpolargl"
           }
          ],
          "scatterternary": [
           {
            "marker": {
             "colorbar": {
              "outlinewidth": 0,
              "ticks": ""
             }
            },
            "type": "scatterternary"
           }
          ],
          "surface": [
           {
            "colorbar": {
             "outlinewidth": 0,
             "ticks": ""
            },
            "colorscale": [
             [
              0,
              "#0d0887"
             ],
             [
              0.1111111111111111,
              "#46039f"
             ],
             [
              0.2222222222222222,
              "#7201a8"
             ],
             [
              0.3333333333333333,
              "#9c179e"
             ],
             [
              0.4444444444444444,
              "#bd3786"
             ],
             [
              0.5555555555555556,
              "#d8576b"
             ],
             [
              0.6666666666666666,
              "#ed7953"
             ],
             [
              0.7777777777777778,
              "#fb9f3a"
             ],
             [
              0.8888888888888888,
              "#fdca26"
             ],
             [
              1,
              "#f0f921"
             ]
            ],
            "type": "surface"
           }
          ],
          "table": [
           {
            "cells": {
             "fill": {
              "color": "#EBF0F8"
             },
             "line": {
              "color": "white"
             }
            },
            "header": {
             "fill": {
              "color": "#C8D4E3"
             },
             "line": {
              "color": "white"
             }
            },
            "type": "table"
           }
          ]
         },
         "layout": {
          "annotationdefaults": {
           "arrowcolor": "#2a3f5f",
           "arrowhead": 0,
           "arrowwidth": 1
          },
          "autotypenumbers": "strict",
          "coloraxis": {
           "colorbar": {
            "outlinewidth": 0,
            "ticks": ""
           }
          },
          "colorscale": {
           "diverging": [
            [
             0,
             "#8e0152"
            ],
            [
             0.1,
             "#c51b7d"
            ],
            [
             0.2,
             "#de77ae"
            ],
            [
             0.3,
             "#f1b6da"
            ],
            [
             0.4,
             "#fde0ef"
            ],
            [
             0.5,
             "#f7f7f7"
            ],
            [
             0.6,
             "#e6f5d0"
            ],
            [
             0.7,
             "#b8e186"
            ],
            [
             0.8,
             "#7fbc41"
            ],
            [
             0.9,
             "#4d9221"
            ],
            [
             1,
             "#276419"
            ]
           ],
           "sequential": [
            [
             0,
             "#0d0887"
            ],
            [
             0.1111111111111111,
             "#46039f"
            ],
            [
             0.2222222222222222,
             "#7201a8"
            ],
            [
             0.3333333333333333,
             "#9c179e"
            ],
            [
             0.4444444444444444,
             "#bd3786"
            ],
            [
             0.5555555555555556,
             "#d8576b"
            ],
            [
             0.6666666666666666,
             "#ed7953"
            ],
            [
             0.7777777777777778,
             "#fb9f3a"
            ],
            [
             0.8888888888888888,
             "#fdca26"
            ],
            [
             1,
             "#f0f921"
            ]
           ],
           "sequentialminus": [
            [
             0,
             "#0d0887"
            ],
            [
             0.1111111111111111,
             "#46039f"
            ],
            [
             0.2222222222222222,
             "#7201a8"
            ],
            [
             0.3333333333333333,
             "#9c179e"
            ],
            [
             0.4444444444444444,
             "#bd3786"
            ],
            [
             0.5555555555555556,
             "#d8576b"
            ],
            [
             0.6666666666666666,
             "#ed7953"
            ],
            [
             0.7777777777777778,
             "#fb9f3a"
            ],
            [
             0.8888888888888888,
             "#fdca26"
            ],
            [
             1,
             "#f0f921"
            ]
           ]
          },
          "colorway": [
           "#636efa",
           "#EF553B",
           "#00cc96",
           "#ab63fa",
           "#FFA15A",
           "#19d3f3",
           "#FF6692",
           "#B6E880",
           "#FF97FF",
           "#FECB52"
          ],
          "font": {
           "color": "#2a3f5f"
          },
          "geo": {
           "bgcolor": "white",
           "lakecolor": "white",
           "landcolor": "white",
           "showlakes": true,
           "showland": true,
           "subunitcolor": "#C8D4E3"
          },
          "hoverlabel": {
           "align": "left"
          },
          "hovermode": "closest",
          "mapbox": {
           "style": "light"
          },
          "paper_bgcolor": "white",
          "plot_bgcolor": "white",
          "polar": {
           "angularaxis": {
            "gridcolor": "#EBF0F8",
            "linecolor": "#EBF0F8",
            "ticks": ""
           },
           "bgcolor": "white",
           "radialaxis": {
            "gridcolor": "#EBF0F8",
            "linecolor": "#EBF0F8",
            "ticks": ""
           }
          },
          "scene": {
           "xaxis": {
            "backgroundcolor": "white",
            "gridcolor": "#DFE8F3",
            "gridwidth": 2,
            "linecolor": "#EBF0F8",
            "showbackground": true,
            "ticks": "",
            "zerolinecolor": "#EBF0F8"
           },
           "yaxis": {
            "backgroundcolor": "white",
            "gridcolor": "#DFE8F3",
            "gridwidth": 2,
            "linecolor": "#EBF0F8",
            "showbackground": true,
            "ticks": "",
            "zerolinecolor": "#EBF0F8"
           },
           "zaxis": {
            "backgroundcolor": "white",
            "gridcolor": "#DFE8F3",
            "gridwidth": 2,
            "linecolor": "#EBF0F8",
            "showbackground": true,
            "ticks": "",
            "zerolinecolor": "#EBF0F8"
           }
          },
          "shapedefaults": {
           "line": {
            "color": "#2a3f5f"
           }
          },
          "ternary": {
           "aaxis": {
            "gridcolor": "#DFE8F3",
            "linecolor": "#A2B1C6",
            "ticks": ""
           },
           "baxis": {
            "gridcolor": "#DFE8F3",
            "linecolor": "#A2B1C6",
            "ticks": ""
           },
           "bgcolor": "white",
           "caxis": {
            "gridcolor": "#DFE8F3",
            "linecolor": "#A2B1C6",
            "ticks": ""
           }
          },
          "title": {
           "x": 0.05
          },
          "xaxis": {
           "automargin": true,
           "gridcolor": "#EBF0F8",
           "linecolor": "#EBF0F8",
           "ticks": "",
           "title": {
            "standoff": 15
           },
           "zerolinecolor": "#EBF0F8",
           "zerolinewidth": 2
          },
          "yaxis": {
           "automargin": true,
           "gridcolor": "#EBF0F8",
           "linecolor": "#EBF0F8",
           "ticks": "",
           "title": {
            "standoff": 15
           },
           "zerolinecolor": "#EBF0F8",
           "zerolinewidth": 2
          }
         }
        },
        "title": {
         "text": "2^k Factorial Design: Impact of Servers and Service Time on Delays"
        },
        "width": 900,
        "xaxis": {
         "range": [
          0,
          3000
         ],
         "title": {
          "text": "Customer Index"
         }
        },
        "yaxis": {
         "title": {
          "text": "Mean Delay (time units)"
         }
        }
       }
      }
     },
     "metadata": {},
     "output_type": "display_data"
    }
   ],
   "source": [
    "# PART 3, TASK 3: Plotting the results"
   ]
  }
 ],
 "metadata": {
  "kernelspec": {
   "display_name": ".venv",
   "language": "python",
   "name": "python3"
  },
  "language_info": {
   "codemirror_mode": {
    "name": "ipython",
    "version": 3
   },
   "file_extension": ".py",
   "mimetype": "text/x-python",
   "name": "python",
   "nbconvert_exporter": "python",
   "pygments_lexer": "ipython3",
   "version": "3.13.2"
  }
 },
 "nbformat": 4,
 "nbformat_minor": 2
}
