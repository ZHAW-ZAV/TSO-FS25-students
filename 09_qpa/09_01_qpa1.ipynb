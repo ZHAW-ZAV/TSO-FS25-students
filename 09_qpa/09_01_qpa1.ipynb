{
 "cells": [
  {
   "cell_type": "markdown",
   "metadata": {},
   "source": [
    "<a target=\"_blank\" href=\"https://colab.research.google.com/github/ZHAW-ZAV/TSO-FS25-students/blob/main/09_qpa/09_01_qpa1.ipynb\">\n",
    "  <img src=\"https://colab.research.google.com/assets/colab-badge.svg\" alt=\"Open In Colab\"/>\n",
    "</a>"
   ]
  },
  {
   "cell_type": "code",
   "execution_count": 5,
   "metadata": {},
   "outputs": [
    {
     "name": "stderr",
     "output_type": "stream",
     "text": [
      "Downloading...\n",
      "From: https://drive.google.com/uc?id=13-R6GpZLw8WxeYPH5t7ZXdIYpw29iwtF\n",
      "To: /Users/wate/Documents/GitHub/TSO-FS25-students/09_qpa/data/arrival_times.csv\n",
      "100%|██████████| 162k/162k [00:00<00:00, 49.9MB/s]\n"
     ]
    }
   ],
   "source": [
    "import pandas as pd\n",
    "import numpy as np\n",
    "import plotly.express as px\n",
    "import random\n",
    "import sys\n",
    "import os\n",
    "\n",
    "IN_COLAB = \"google.colab\" in sys.modules\n",
    "\n",
    "file_id_arrival_times = \"13-R6GpZLw8WxeYPH5t7ZXdIYpw29iwtF\"\n",
    "\n",
    "if IN_COLAB:\n",
    "    from google.colab import drive\n",
    "    path_to_arrival_times = \"/content/data/arrival_times.csv\"\n",
    "    os.makedirs(os.path.dirname(path_to_arrival_times), exist_ok=True)\n",
    "    !gdown \"https://drive.google.com/uc?id={file_id_arrival_times}\" -O \"{path_to_arrival_times}\"\n",
    "\n",
    "    # Download the TSO environment\n",
    "    drive.mount(\"/content/drive\")\n",
    "    shared_file = \"1fuyEnXBRBZJ1O2ijOLx4ms-L4si430RJ\"\n",
    "    !gdown \"https://drive.google.com/uc?id={shared_file}\" -O tso-env.zip\n",
    "\n",
    "    !unzip tso-env.zip -d /content | tqdm > /dev/null\n",
    "\n",
    "    !source /content/tso-env/bin/activate\n",
    "\n",
    "    sys.path.append(\"/content/tso-env/lib/python3.11/site-packages/\")\n",
    "\n",
    "else:\n",
    "    import gdown\n",
    "\n",
    "    url = f\"https://drive.google.com/uc?id={file_id_arrival_times}\"\n",
    "    path_to_arrival_times = \"data/arrival_times.csv\"\n",
    "    os.makedirs(os.path.dirname(path_to_arrival_times), exist_ok=True)\n",
    "    gdown.download(url, path_to_arrival_times, quiet=False)\n",
    "    "
   ]
  },
  {
   "cell_type": "code",
   "execution_count": 5,
   "metadata": {},
   "outputs": [],
   "source": [
    "from fitter import Fitter, get_common_distributions\n",
    "import simpy"
   ]
  },
  {
   "cell_type": "markdown",
   "metadata": {},
   "source": [
    "The code above loads the data, do not modify.\n",
    "\n",
    "***\n",
    "\n",
    "# TSO Semester Week 9: Quantitative Process Analysis\n",
    "\n",
    "This exercise deals with the topic of quantitative process analysis using the example of a **security checkpoint** in a fictitious airport terminal. In PART 1 of this exercise, you will size this security checkpoint using the formulae described in the IATA Airport Development Reference Manual (i.e., you will determine the required number of servers and the space required for the queue using the formulae known from the INFRA-AD module). In the subsequent PARTS of this exercise, you will develop a Discrete Event Simulation (DES) model for the security check introduced in PART 1. To this end, you will focus on the following topics:\n",
    "\n",
    "* PART 2: Creation of an activity diagram of the security control.\n",
    "* PART 3: Determination of the input parameters of the DES model\n",
    "* PART 4: Creation of a DES simulation model of the security control using *simpy*.\n",
    "* PART 5: Comparison of the results of the ADRM model (PART 1) with the results of the DES model (PART 4).\n",
    "\n",
    "Note that PARTS 2 to 5 are based on the chapters *Introduction to Simulation Models* up to and including *DES Models with simPy* of the **TSO Quantitative Process Analysis Script**.\n",
    "\n",
    "\n",
    "***\n",
    "## PART 1: Sizing Security Checkpoint using IATA ADRM Methods\n",
    "\n",
    "Your task is to apply the models known from INFRA-AD for sizing and dimensioning **Processing Facilities** in airport passenger terminals (see video [*Sizing and Dimensioning of Processing Facilities*](https://zhaw.mediaspace.cast.switch.ch/media/t/0_7ene5y4g/7740?)) for a security checkpoint at an airport. Use the specifications below for Design Hour Load $DHL_{siko}$, average process time per passenger $PT$, and target level of service (maximum waiting time $MQT$, space guidelines $SP$). \n",
    "\n",
    "Determine \n",
    "1. the number of required servers $K$ (i.e. the number of security control lines),\n",
    "2. the maximum number of passengers $Q_{max}$ queuing in front of the system, and\n",
    "3. the building area $A_Q$ required for the queue."
   ]
  },
  {
   "cell_type": "code",
   "execution_count": null,
   "metadata": {},
   "outputs": [],
   "source": [
    "# Parameters\n",
    "DHL_siko = 1800     # Design Hour Load [PAX/h]\n",
    "PT = 5.8            # Average Process Time per Passenger, [seconds]\n",
    "MQT = 10            # Maximum Waiting Time (Economy Class), [minutes]\n",
    "SP = 1.2            # Space quidelines, [m^2/PAX]"
   ]
  },
  {
   "cell_type": "code",
   "execution_count": 1,
   "metadata": {},
   "outputs": [],
   "source": [
    "# Required number of security check lanes (i.e., capacity of facility)\n"
   ]
  },
  {
   "cell_type": "code",
   "execution_count": 2,
   "metadata": {},
   "outputs": [],
   "source": [
    "# Calculation of maximum number of passengers in queue and required space for queue\n"
   ]
  },
  {
   "cell_type": "markdown",
   "metadata": {},
   "source": [
    "***\n",
    "## PART 2: DES Model Definition and Description\n",
    "\n",
    "After having applied the methods already known from INFRA-AD for sizing flow facilities in airport passenger terminals in PART 1, PARTS 2 to 5 of this exercise deal with **Discrete Event Simulation (DES) models**. \n",
    "\n",
    "\n",
    "### Tasks:\n",
    "1. Draw an activity diagram of the security checkpoint (try to simplify as much as possible)\n",
    "2. Determine the arrival and service processes of check security checkpoint\n",
    "3. Identify and describe information and data required to properly simulate the security checkpoint / the arrival & service processes"
   ]
  },
  {
   "cell_type": "markdown",
   "metadata": {},
   "source": [
    "#### PART 2, Tasks 1 and 2: Activity Diagram\n",
    "Write your documentation here\n",
    "\n",
    "#### PART 2, Task 3: Information and Data Required (Task 3)\n",
    "Write your documentation here"
   ]
  },
  {
   "cell_type": "markdown",
   "metadata": {},
   "source": [
    "***\n",
    "## PART 3: Input Data Collection and Parametrization of DES Simulation Model\n",
    "\n",
    "For the DES model of the security check, we assume, based on an M/M/c queuing model, that the arrival process and the service process of the system can be modelled as follows:\n",
    "* **Arrival Process**: The arrival process in an M/M/c system follows a Poisson process with a constant arrival rate $\\lambda$ (lambda). The interarrival times (i.e., the time between two consecutive arrivals) are exponentially distributed with mean $\\frac{1}{\\lambda}$.\n",
    "* **Service Process**: Each of the $c$ servers in an M/M/c system has an independent, exponentially distribued service time. The mean of the exponentially distributed random variable describing service time is equal to the service rate $\\mu$ (mu).\n",
    "\n",
    "![Security Checkpoint as M/M/c Queueing System](figures/mmc_siko.png)\n",
    "\n",
    "### Tasks:\n",
    "1. Write function `generate_service_time()`, which allows the generation service times in the DES model. Use the expected / mean service time `PT` determined in PART 1 as input for function `generate_service_time()`.\n",
    "2. File `arrival_times.csv` contains a series of observed **arrival times** of passengers entering the security checkpoint over the course of an entire day. Import this file and determine the observed **inter**arrival times of the passengers (i.e., the time between to consecutive arrials). Check graphically whether the observations are indepentent from each other or not?\n",
    "3. Determine the probability density function best fitting the observed interarrival times. For this purpose, make use of the `fitter` library mentioned in the script.\n",
    "4. Estimate the parameters of the best fitting density function. \n",
    "5. Write function `generate_interarrival_time()` required to model the interarrival time in the DES model.\n",
    "6. Determine the utiliztion ratio $\\rho$ of the system, which is defined as $\\rho = \\frac{\\lambda}{c \\cdot \\mu}$, where $\\lambda$ is the arrival rate and $\\mu$ is the service rate. Assume, that the number of servers $c$ is equal to `K` determined in PART 1."
   ]
  },
  {
   "cell_type": "code",
   "execution_count": 3,
   "metadata": {},
   "outputs": [],
   "source": [
    "# PART 2, Task 1: Define function `generate_service_time()`\n"
   ]
  },
  {
   "cell_type": "code",
   "execution_count": 6,
   "metadata": {},
   "outputs": [],
   "source": [
    "# PART 2, Task 2: Observed Interarrival Times\n",
    "\n",
    "# Import File\n",
    "# df_arrivals = pd.read_csv('data/arrival_times.csv', parse_dates=[\"timestamp\"]) # FIXME  path_to_arrival_times\n",
    "df_arrivals = pd.read_csv(path_to_arrival_times, parse_dates=[\"timestamp\"])\n",
    "\n",
    "# Compute interarrival times in seconds\n",
    "df_arrivals[\"interarrival_time\"] = df_arrivals[\"timestamp\"].diff().dt.total_seconds()\n",
    "\n",
    "# Remove the first row (NaN due to `diff()`)\n",
    "df_arrivals = df_arrivals.dropna()\n",
    "\n",
    "# Create X_i and X_{i+1}\n",
    "X_i = df_arrivals[\"interarrival_time\"][:-1].values  # All except last\n",
    "X_next = df_arrivals[\"interarrival_time\"][1:].values  # All except first\n",
    "\n",
    "# Add plot hereafter"
   ]
  },
  {
   "cell_type": "code",
   "execution_count": 7,
   "metadata": {},
   "outputs": [],
   "source": [
    "# PART 2, Task 3: Fitting Probability Density Functions\n"
   ]
  },
  {
   "cell_type": "code",
   "execution_count": 8,
   "metadata": {},
   "outputs": [],
   "source": [
    "# PART 2, Task 4: Extracting Fitted Parameters\n",
    "\n"
   ]
  },
  {
   "cell_type": "code",
   "execution_count": 9,
   "metadata": {},
   "outputs": [],
   "source": [
    "# PART 2, Task 5: Define function generate_interarrival_time()\n",
    "\n"
   ]
  },
  {
   "cell_type": "code",
   "execution_count": null,
   "metadata": {},
   "outputs": [
    {
     "name": "stdout",
     "output_type": "stream",
     "text": [
      "Utilization ratio of system: 0.9645, service rate: 0.1724 PAX per unit time, arrival rate: 0.4989 PAX per unit time\n"
     ]
    }
   ],
   "source": [
    "# PART 2, Task 6: Utilization Ratio\n",
    "\n"
   ]
  },
  {
   "cell_type": "markdown",
   "metadata": {},
   "source": [
    "***\n",
    "## PART 4: DES Simulation Model\n",
    "Below you will find a DES simulation model for an M/M/c queueing system. This simulation model requires functions `generate_interarrival_time()` and `generate_service_time()`, which you defined in PART 2. `generate_interarrival_time()` is used to sample interarrival times of passengers, while `generate_service_time()` is used to sample service times.\n",
    "\n",
    "The parameterisation of the DES model by means of global variables are to be found in the *Parametrization of Simulation Model* block below. Please note that in the current configuration of the parameters, the simulation model needs approximately one minute to perform the `NUM_RUNS = 500` independent simulation runs.\n",
    "\n",
    "The simulation results for the delays experienced by the passengers (i.e. waiting times in the queue) can be found in the dataframe `df_delays`. Similarly, the resulting queue lengths can be found in the dataframe `df_queue_lengths`.\n",
    "\n",
    "### Tasks:\n",
    "Execute the DES simulation model. Subsequently, use the simulation results in the dataframes `df_delays` and `df_queue_lengths` for the following tasks:\n",
    "1. Create a plot showing the delays experienced by the passengers (i.e. delays vs. passenger index). To do this, plot (i) the average delay, the maximum observed delays, and the 10 and 90 percentiles.\n",
    "2. Create a plot showing the observed queue lengths (i.e. queue length vs. passenger index). For this purpose, plot (i) the average queue length, the maximum observed queue length, and the 10 and 90 percentiles.\n",
    "3. Determine for steady-state conditions (i) the average delay and the average queue length and (ii) the maximum delay & the maximum queue length."
   ]
  },
  {
   "cell_type": "code",
   "execution_count": null,
   "metadata": {},
   "outputs": [],
   "source": [
    "# Parametrisation of Simulation Model\n",
    "# Note: you have to define mean_arrival_rate and mean_service_rate first!!\n",
    "C = K                                        # Number of Servers\n",
    "ARRIVAL_RATE = mean_arrival_rate             # Lambda: Average number of arrivals per time unit\n",
    "SERVICE_RATE = mean_service_rate             # Mu: Average number of services per server per time unit\n",
    "SIM_TIME = 12 * 3600                              # Total simulation time [seconds]\n",
    "NUM_RUNS = 400                                    # Number of independent simulation runs\n",
    "CUSTOMER_INTERVAL = 5                             # Track every 5th customer for statistics\n",
    "\n",
    "\n",
    "# Simulation function\n",
    "def simulate_one_run(customer_interval):\n",
    "    \"\"\"Simulate a single M/M/c run and record delays & queue lengths for every `customer_interval` customer.\"\"\"\n",
    "    delays = {}\n",
    "    queue_lengths = {}\n",
    "\n",
    "    def customer(env, name, server, service_rate):\n",
    "        \"\"\"A customer process arriving and waiting for service.\"\"\"\n",
    "        arrival_time = env.now\n",
    "\n",
    "        # Log queue length at arrival\n",
    "        queue_length_at_arrival = len(server.queue)\n",
    "\n",
    "        with server.request() as request:\n",
    "            yield request  # Wait for the server\n",
    "            wait_time = env.now - arrival_time  # Time spent in queue\n",
    "            \n",
    "            if name % customer_interval == 0:  # Record for every `customer_interval` customer\n",
    "                delays[name] = wait_time\n",
    "                queue_lengths[name] = queue_length_at_arrival\n",
    "            \n",
    "            service_time = generate_service_time(service_rate)\n",
    "            yield env.timeout(service_time)  # Simulate service\n",
    "\n",
    "    def arrival_process(env, server, arrival_rate, service_rate):\n",
    "        \"\"\"Process generating customers according to a Poisson arrival process.\"\"\"\n",
    "        customer_id = 0\n",
    "        while True:\n",
    "            interarrival_time = generate_interarrival_time(arrival_rate)\n",
    "            yield env.timeout(interarrival_time)\n",
    "            customer_id += 1\n",
    "            env.process(customer(env, customer_id, server, service_rate))\n",
    "\n",
    "    # Create the simulation environment\n",
    "    env = simpy.Environment()\n",
    "    server = simpy.Resource(env, capacity=C)\n",
    "    env.process(arrival_process(env, server, ARRIVAL_RATE, SERVICE_RATE))\n",
    "    env.run(until=SIM_TIME)\n",
    "\n",
    "    return delays, queue_lengths\n",
    "\n",
    "# Run the simulation NUM_RUNS times and collect data\n",
    "all_delays = {i: [] for i in range(CUSTOMER_INTERVAL, SIM_TIME, CUSTOMER_INTERVAL)}\n",
    "all_queue_lengths = {i: [] for i in range(CUSTOMER_INTERVAL, SIM_TIME, CUSTOMER_INTERVAL)}\n",
    "\n",
    "for run in range(NUM_RUNS):\n",
    "    delays, queue_lengths = simulate_one_run(CUSTOMER_INTERVAL)\n",
    "\n",
    "    for customer, delay in delays.items():\n",
    "        if customer in all_delays:\n",
    "            all_delays[customer].append(delay)\n",
    "    \n",
    "    for customer, queue_length in queue_lengths.items():\n",
    "        if customer in all_queue_lengths:\n",
    "            all_queue_lengths[customer].append(queue_length)\n",
    "\n",
    "# Convert results to DataFrames for analysis\n",
    "df_delays = pd.DataFrame.from_dict(all_delays, orient=\"index\").T\n",
    "df_queue_lengths = pd.DataFrame.from_dict(all_queue_lengths, orient=\"index\").T\n"
   ]
  },
  {
   "cell_type": "code",
   "execution_count": 10,
   "metadata": {},
   "outputs": [],
   "source": [
    "# Part 4, Task 1: Plotting the Observed Delays"
   ]
  },
  {
   "cell_type": "code",
   "execution_count": 11,
   "metadata": {},
   "outputs": [],
   "source": [
    "# Part 4, Task 2: Plotting the Observed Queue Lengths"
   ]
  },
  {
   "cell_type": "code",
   "execution_count": 12,
   "metadata": {},
   "outputs": [],
   "source": [
    "# Part 4, Task 3: Steady-State Analysis\n"
   ]
  },
  {
   "cell_type": "markdown",
   "metadata": {},
   "source": [
    "***\n",
    "## PART 5: Comparison ADRM Model Results vs. DES Model Results\n",
    "\n",
    "### Tasks:\n",
    "1. Compare the results of the ADRM Model (PART 1) with the results of the DES model in steady-state (PART 4, Task 3).\n",
    "2. Discuss for which applications the ADRM model is best used and for which a DES model should be used."
   ]
  },
  {
   "cell_type": "markdown",
   "metadata": {},
   "source": [
    "#### PART 5, Task 1: Comparison on Models\n",
    "Write your documentation here\n",
    "\n",
    "#### PART 5, Task 2: Fields of Application\n",
    "Write your documentation here"
   ]
  }
 ],
 "metadata": {
  "kernelspec": {
   "display_name": ".venv",
   "language": "python",
   "name": "python3"
  },
  "language_info": {
   "codemirror_mode": {
    "name": "ipython",
    "version": 3
   },
   "file_extension": ".py",
   "mimetype": "text/x-python",
   "name": "python",
   "nbconvert_exporter": "python",
   "pygments_lexer": "ipython3",
   "version": "3.13.2"
  }
 },
 "nbformat": 4,
 "nbformat_minor": 2
}
