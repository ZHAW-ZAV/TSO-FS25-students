{
 "cells": [
  {
   "cell_type": "markdown",
   "metadata": {},
   "source": [
    "<a target=\"_blank\" href=\"https://colab.research.google.com/github/ZHAW-ZAV/TSO-FS25-students/blob/main/06_supervised_ml/rway_prediction_A321.ipynb\">\n",
    "  <img src=\"https://colab.research.google.com/assets/colab-badge.svg\" alt=\"Open In Colab\"/>\n",
    "</a>"
   ]
  },
  {
   "cell_type": "markdown",
   "metadata": {},
   "source": [
    "# Exercise: Predicting Runway Choice for A321 Departures at Zurich Airport\n",
    "\n",
    "**Objective:**  \n",
    "Your task is to design and build a machine learning (ML) model that predicts whether an Airbus A321 departing from Zurich Airport (ZRH) will take off from Runway 28 or Runway 16. The prediction should be made in advance, based on relevant data features you identify.\n",
    "\n",
    "**Background:**  \n",
    "Zurich Airport has multiple runways, but the choice of runway for departing flights like the A321—a medium-sized aircraft—can significantly impact airport operations:  \n",
    "- **Runway 28**: Shorter taxiing distance, allowing quicker departures. It operates independently of other runways, making it efficient for scheduling.  \n",
    "- **Runway 16**: Longer runway, typically reserved for heavier aircraft due to its length. However, it cannot operate independently of Runway 14 (used for landings). When an aircraft is landing on Runway 14, departures on Runway 16 must wait, potentially causing delays and reducing airport capacity.  \n",
    "\n",
    "The A321 is a versatile aircraft: when lightly loaded, it can use Runway 28, but when heavily loaded (e.g., with more passengers, cargo, or fuel), it may require Runway 16 for a safer takeoff. Currently, the runway request is made by the airline or pilot closer to departure, which limits the airport’s ability to optimize planning.\n",
    "\n",
    "**Why It Matters:**  \n",
    "Predicting the runway choice in advance offers significant value for airport operations:  \n",
    "- **Improved Efficiency**: Knowing early whether an A321 will use Runway 28 or 16 helps optimize taxiing routes and departure sequencing, reducing ground delays.  \n",
    "- **Capacity Management**: Avoiding unnecessary use of Runway 16 minimizes conflicts with landings on Runway 14, preserving overall airport throughput.  \n",
    "- **Resource Planning**: Accurate predictions allow better allocation of gates, ground crew, and equipment based on expected taxiing times and runway usage.  \n",
    "\n",
    "**Your Task:**  \n",
    "1. Identify potential data inputs (features) that could influence the A321’s runway\n",
    "2. Build a simple ML model\n",
    "3. Evaluate the model"
   ]
  },
  {
   "cell_type": "markdown",
   "metadata": {},
   "source": [
    "## Dataset loading\n",
    "\n",
    "The dataset is a csv file stored on a google drive.\n",
    "You will load it into a pandas dataframe.\n",
    "\n"
   ]
  },
  {
   "cell_type": "code",
   "execution_count": 1,
   "metadata": {},
   "outputs": [
    {
     "data": {
      "text/html": [
       "<div>\n",
       "<style scoped>\n",
       "    .dataframe tbody tr th:only-of-type {\n",
       "        vertical-align: middle;\n",
       "    }\n",
       "\n",
       "    .dataframe tbody tr th {\n",
       "        vertical-align: top;\n",
       "    }\n",
       "\n",
       "    .dataframe thead th {\n",
       "        text-align: right;\n",
       "    }\n",
       "</style>\n",
       "<table border=\"1\" class=\"dataframe\">\n",
       "  <thead>\n",
       "    <tr style=\"text-align: right;\">\n",
       "      <th></th>\n",
       "      <th>icao24</th>\n",
       "      <th>callsign</th>\n",
       "      <th>timestamp</th>\n",
       "      <th>runway</th>\n",
       "      <th>dest_max</th>\n",
       "      <th>dist_lszh</th>\n",
       "      <th>typecode</th>\n",
       "      <th>temperature</th>\n",
       "      <th>pressure</th>\n",
       "      <th>tailwind_16</th>\n",
       "      <th>tailwind_28</th>\n",
       "      <th>wind_gust</th>\n",
       "    </tr>\n",
       "  </thead>\n",
       "  <tbody>\n",
       "    <tr>\n",
       "      <th>0</th>\n",
       "      <td>4b168f</td>\n",
       "      <td>SWR185N</td>\n",
       "      <td>2018-01-01 08:59:28+00:00</td>\n",
       "      <td>28</td>\n",
       "      <td>LGAV</td>\n",
       "      <td>1989.017568</td>\n",
       "      <td>A321</td>\n",
       "      <td>5.0</td>\n",
       "      <td>1015.0</td>\n",
       "      <td>3.500000</td>\n",
       "      <td>3.500000</td>\n",
       "      <td>NaN</td>\n",
       "    </tr>\n",
       "    <tr>\n",
       "      <th>1</th>\n",
       "      <td>461fa4</td>\n",
       "      <td>FIN8PY</td>\n",
       "      <td>2018-01-01 10:04:38+00:00</td>\n",
       "      <td>28</td>\n",
       "      <td>EFHK</td>\n",
       "      <td>2278.074743</td>\n",
       "      <td>A321</td>\n",
       "      <td>6.0</td>\n",
       "      <td>1015.0</td>\n",
       "      <td>4.446262</td>\n",
       "      <td>8.356239</td>\n",
       "      <td>NaN</td>\n",
       "    </tr>\n",
       "    <tr>\n",
       "      <th>2</th>\n",
       "      <td>4baa8e</td>\n",
       "      <td>THY9SC</td>\n",
       "      <td>2018-01-01 10:20:24+00:00</td>\n",
       "      <td>28</td>\n",
       "      <td>LTFM</td>\n",
       "      <td>2337.168213</td>\n",
       "      <td>A321</td>\n",
       "      <td>6.0</td>\n",
       "      <td>1014.0</td>\n",
       "      <td>5.814342</td>\n",
       "      <td>10.927389</td>\n",
       "      <td>NaN</td>\n",
       "    </tr>\n",
       "    <tr>\n",
       "      <th>3</th>\n",
       "      <td>4b1696</td>\n",
       "      <td>SWR43B</td>\n",
       "      <td>2018-01-01 11:27:53+00:00</td>\n",
       "      <td>16</td>\n",
       "      <td>EGLL</td>\n",
       "      <td>1096.085110</td>\n",
       "      <td>A321</td>\n",
       "      <td>7.0</td>\n",
       "      <td>1013.0</td>\n",
       "      <td>2.257426</td>\n",
       "      <td>9.958578</td>\n",
       "      <td>NaN</td>\n",
       "    </tr>\n",
       "    <tr>\n",
       "      <th>4</th>\n",
       "      <td>4b1698</td>\n",
       "      <td>SWR204K</td>\n",
       "      <td>2018-01-01 11:29:38+00:00</td>\n",
       "      <td>16</td>\n",
       "      <td>LPPR</td>\n",
       "      <td>2035.584651</td>\n",
       "      <td>A321</td>\n",
       "      <td>7.0</td>\n",
       "      <td>1013.0</td>\n",
       "      <td>2.257426</td>\n",
       "      <td>9.958578</td>\n",
       "      <td>NaN</td>\n",
       "    </tr>\n",
       "  </tbody>\n",
       "</table>\n",
       "</div>"
      ],
      "text/plain": [
       "   icao24 callsign                  timestamp  runway dest_max    dist_lszh  \\\n",
       "0  4b168f  SWR185N  2018-01-01 08:59:28+00:00      28     LGAV  1989.017568   \n",
       "1  461fa4   FIN8PY  2018-01-01 10:04:38+00:00      28     EFHK  2278.074743   \n",
       "2  4baa8e   THY9SC  2018-01-01 10:20:24+00:00      28     LTFM  2337.168213   \n",
       "3  4b1696   SWR43B  2018-01-01 11:27:53+00:00      16     EGLL  1096.085110   \n",
       "4  4b1698  SWR204K  2018-01-01 11:29:38+00:00      16     LPPR  2035.584651   \n",
       "\n",
       "  typecode  temperature  pressure  tailwind_16  tailwind_28  wind_gust  \n",
       "0     A321          5.0    1015.0     3.500000     3.500000        NaN  \n",
       "1     A321          6.0    1015.0     4.446262     8.356239        NaN  \n",
       "2     A321          6.0    1014.0     5.814342    10.927389        NaN  \n",
       "3     A321          7.0    1013.0     2.257426     9.958578        NaN  \n",
       "4     A321          7.0    1013.0     2.257426     9.958578        NaN  "
      ]
     },
     "execution_count": 1,
     "metadata": {},
     "output_type": "execute_result"
    }
   ],
   "source": [
    "import pandas as pd\n",
    "file_id = \"1bKB2Fkt-iRQTS06zZ-YKkPUsQPuuyj_T\"\n",
    "url = f\"https://drive.google.com/uc?export=download&id={file_id}\"\n",
    "df = pd.read_csv(url)\n",
    "df.head()"
   ]
  },
  {
   "cell_type": "markdown",
   "metadata": {},
   "source": [
    "## Explorary Data Analysis"
   ]
  },
  {
   "cell_type": "code",
   "execution_count": 2,
   "metadata": {},
   "outputs": [
    {
     "data": {
      "text/plain": [
       "runway\n",
       "28    21110\n",
       "16     7135\n",
       "Name: count, dtype: int64"
      ]
     },
     "execution_count": 2,
     "metadata": {},
     "output_type": "execute_result"
    }
   ],
   "source": [
    "df['runway'].value_counts()"
   ]
  },
  {
   "cell_type": "code",
   "execution_count": 3,
   "metadata": {},
   "outputs": [
    {
     "data": {
      "text/plain": [
       "from_16\n",
       "0    21110\n",
       "1     7135\n",
       "Name: count, dtype: int64"
      ]
     },
     "execution_count": 3,
     "metadata": {},
     "output_type": "execute_result"
    }
   ],
   "source": [
    "df['from_16'] = (df['runway']==16).astype(int)\n",
    "df.from_16.value_counts()"
   ]
  },
  {
   "cell_type": "markdown",
   "metadata": {},
   "source": [
    "### Correlation plot for numerical variables"
   ]
  },
  {
   "cell_type": "code",
   "execution_count": 4,
   "metadata": {},
   "outputs": [
    {
     "data": {
      "application/vnd.plotly.v1+json": {
       "config": {
        "plotlyServerURL": "https://plot.ly"
       },
       "data": [
        {
         "coloraxis": "coloraxis",
         "hovertemplate": "x: %{x}<br>y: %{y}<br>color: %{z}<extra></extra>",
         "name": "0",
         "texttemplate": "%{z}",
         "type": "heatmap",
         "x": [
          "dist_lszh",
          "temperature",
          "pressure",
          "tailwind_16",
          "tailwind_28",
          "wind_gust",
          "from_16"
         ],
         "xaxis": "x",
         "y": [
          "dist_lszh",
          "temperature",
          "pressure",
          "tailwind_16",
          "tailwind_28",
          "wind_gust",
          "from_16"
         ],
         "yaxis": "y",
         "z": {
          "bdata": "AAAAAAAA8D9hfCLBlJGzP8HMnBPJNGI/tPuxsxhPkr8tFeOxiHl5vxZIM1fnGKU/Pv3xYcJgxD9hfCLBlJGzPwAAAAAAAPA/ZwyD2yDsnT/w8xU8UC+yvy1F+ICgkZ2/yUDQJGwo1z+eENZPIazNP8HMnBPJNGI/ZwyD2yDsnT8AAAAAAADwPwLGavpYD6C/02NbqFfVmb+JwDMmiofsP9zvtnTWfpq/tPuxsxhPkr/w8xU8UC+yvwLGavpYD6C/AAAAAAAA8D9vQbkSS6bIv3wkCb/6+Lo/TRYuvwAopb8tFeOxiHl5vy1F+ICgkZ2/02NbqFfVmb9vQbkSS6bIvwAAAAAAAPA/7X3/2txu1z8LZ5OExYG9vxZIM1fnGKU/yUDQJGwo1z+JwDMmiofsP3wkCb/6+Lo/7X3/2txu1z8AAAAAAADwP/wqIqi9L6A/Pv3xYcJgxD+eENZPIazNP9zvtnTWfpq/TRYuvwAopb8LZ5OExYG9v/wqIqi9L6A/AAAAAAAA8D8=",
          "dtype": "f8",
          "shape": "7, 7"
         }
        }
       ],
       "layout": {
        "coloraxis": {
         "cmax": 1,
         "cmin": -1,
         "colorscale": [
          [
           0,
           "rgb(103,0,31)"
          ],
          [
           0.1,
           "rgb(178,24,43)"
          ],
          [
           0.2,
           "rgb(214,96,77)"
          ],
          [
           0.3,
           "rgb(244,165,130)"
          ],
          [
           0.4,
           "rgb(253,219,199)"
          ],
          [
           0.5,
           "rgb(247,247,247)"
          ],
          [
           0.6,
           "rgb(209,229,240)"
          ],
          [
           0.7,
           "rgb(146,197,222)"
          ],
          [
           0.8,
           "rgb(67,147,195)"
          ],
          [
           0.9,
           "rgb(33,102,172)"
          ],
          [
           1,
           "rgb(5,48,97)"
          ]
         ]
        },
        "height": 600,
        "template": {
         "data": {
          "bar": [
           {
            "error_x": {
             "color": "#2a3f5f"
            },
            "error_y": {
             "color": "#2a3f5f"
            },
            "marker": {
             "line": {
              "color": "#E5ECF6",
              "width": 0.5
             },
             "pattern": {
              "fillmode": "overlay",
              "size": 10,
              "solidity": 0.2
             }
            },
            "type": "bar"
           }
          ],
          "barpolar": [
           {
            "marker": {
             "line": {
              "color": "#E5ECF6",
              "width": 0.5
             },
             "pattern": {
              "fillmode": "overlay",
              "size": 10,
              "solidity": 0.2
             }
            },
            "type": "barpolar"
           }
          ],
          "carpet": [
           {
            "aaxis": {
             "endlinecolor": "#2a3f5f",
             "gridcolor": "white",
             "linecolor": "white",
             "minorgridcolor": "white",
             "startlinecolor": "#2a3f5f"
            },
            "baxis": {
             "endlinecolor": "#2a3f5f",
             "gridcolor": "white",
             "linecolor": "white",
             "minorgridcolor": "white",
             "startlinecolor": "#2a3f5f"
            },
            "type": "carpet"
           }
          ],
          "choropleth": [
           {
            "colorbar": {
             "outlinewidth": 0,
             "ticks": ""
            },
            "type": "choropleth"
           }
          ],
          "contour": [
           {
            "colorbar": {
             "outlinewidth": 0,
             "ticks": ""
            },
            "colorscale": [
             [
              0,
              "#0d0887"
             ],
             [
              0.1111111111111111,
              "#46039f"
             ],
             [
              0.2222222222222222,
              "#7201a8"
             ],
             [
              0.3333333333333333,
              "#9c179e"
             ],
             [
              0.4444444444444444,
              "#bd3786"
             ],
             [
              0.5555555555555556,
              "#d8576b"
             ],
             [
              0.6666666666666666,
              "#ed7953"
             ],
             [
              0.7777777777777778,
              "#fb9f3a"
             ],
             [
              0.8888888888888888,
              "#fdca26"
             ],
             [
              1,
              "#f0f921"
             ]
            ],
            "type": "contour"
           }
          ],
          "contourcarpet": [
           {
            "colorbar": {
             "outlinewidth": 0,
             "ticks": ""
            },
            "type": "contourcarpet"
           }
          ],
          "heatmap": [
           {
            "colorbar": {
             "outlinewidth": 0,
             "ticks": ""
            },
            "colorscale": [
             [
              0,
              "#0d0887"
             ],
             [
              0.1111111111111111,
              "#46039f"
             ],
             [
              0.2222222222222222,
              "#7201a8"
             ],
             [
              0.3333333333333333,
              "#9c179e"
             ],
             [
              0.4444444444444444,
              "#bd3786"
             ],
             [
              0.5555555555555556,
              "#d8576b"
             ],
             [
              0.6666666666666666,
              "#ed7953"
             ],
             [
              0.7777777777777778,
              "#fb9f3a"
             ],
             [
              0.8888888888888888,
              "#fdca26"
             ],
             [
              1,
              "#f0f921"
             ]
            ],
            "type": "heatmap"
           }
          ],
          "histogram": [
           {
            "marker": {
             "pattern": {
              "fillmode": "overlay",
              "size": 10,
              "solidity": 0.2
             }
            },
            "type": "histogram"
           }
          ],
          "histogram2d": [
           {
            "colorbar": {
             "outlinewidth": 0,
             "ticks": ""
            },
            "colorscale": [
             [
              0,
              "#0d0887"
             ],
             [
              0.1111111111111111,
              "#46039f"
             ],
             [
              0.2222222222222222,
              "#7201a8"
             ],
             [
              0.3333333333333333,
              "#9c179e"
             ],
             [
              0.4444444444444444,
              "#bd3786"
             ],
             [
              0.5555555555555556,
              "#d8576b"
             ],
             [
              0.6666666666666666,
              "#ed7953"
             ],
             [
              0.7777777777777778,
              "#fb9f3a"
             ],
             [
              0.8888888888888888,
              "#fdca26"
             ],
             [
              1,
              "#f0f921"
             ]
            ],
            "type": "histogram2d"
           }
          ],
          "histogram2dcontour": [
           {
            "colorbar": {
             "outlinewidth": 0,
             "ticks": ""
            },
            "colorscale": [
             [
              0,
              "#0d0887"
             ],
             [
              0.1111111111111111,
              "#46039f"
             ],
             [
              0.2222222222222222,
              "#7201a8"
             ],
             [
              0.3333333333333333,
              "#9c179e"
             ],
             [
              0.4444444444444444,
              "#bd3786"
             ],
             [
              0.5555555555555556,
              "#d8576b"
             ],
             [
              0.6666666666666666,
              "#ed7953"
             ],
             [
              0.7777777777777778,
              "#fb9f3a"
             ],
             [
              0.8888888888888888,
              "#fdca26"
             ],
             [
              1,
              "#f0f921"
             ]
            ],
            "type": "histogram2dcontour"
           }
          ],
          "mesh3d": [
           {
            "colorbar": {
             "outlinewidth": 0,
             "ticks": ""
            },
            "type": "mesh3d"
           }
          ],
          "parcoords": [
           {
            "line": {
             "colorbar": {
              "outlinewidth": 0,
              "ticks": ""
             }
            },
            "type": "parcoords"
           }
          ],
          "pie": [
           {
            "automargin": true,
            "type": "pie"
           }
          ],
          "scatter": [
           {
            "fillpattern": {
             "fillmode": "overlay",
             "size": 10,
             "solidity": 0.2
            },
            "type": "scatter"
           }
          ],
          "scatter3d": [
           {
            "line": {
             "colorbar": {
              "outlinewidth": 0,
              "ticks": ""
             }
            },
            "marker": {
             "colorbar": {
              "outlinewidth": 0,
              "ticks": ""
             }
            },
            "type": "scatter3d"
           }
          ],
          "scattercarpet": [
           {
            "marker": {
             "colorbar": {
              "outlinewidth": 0,
              "ticks": ""
             }
            },
            "type": "scattercarpet"
           }
          ],
          "scattergeo": [
           {
            "marker": {
             "colorbar": {
              "outlinewidth": 0,
              "ticks": ""
             }
            },
            "type": "scattergeo"
           }
          ],
          "scattergl": [
           {
            "marker": {
             "colorbar": {
              "outlinewidth": 0,
              "ticks": ""
             }
            },
            "type": "scattergl"
           }
          ],
          "scattermap": [
           {
            "marker": {
             "colorbar": {
              "outlinewidth": 0,
              "ticks": ""
             }
            },
            "type": "scattermap"
           }
          ],
          "scattermapbox": [
           {
            "marker": {
             "colorbar": {
              "outlinewidth": 0,
              "ticks": ""
             }
            },
            "type": "scattermapbox"
           }
          ],
          "scatterpolar": [
           {
            "marker": {
             "colorbar": {
              "outlinewidth": 0,
              "ticks": ""
             }
            },
            "type": "scatterpolar"
           }
          ],
          "scatterpolargl": [
           {
            "marker": {
             "colorbar": {
              "outlinewidth": 0,
              "ticks": ""
             }
            },
            "type": "scatterpolargl"
           }
          ],
          "scatterternary": [
           {
            "marker": {
             "colorbar": {
              "outlinewidth": 0,
              "ticks": ""
             }
            },
            "type": "scatterternary"
           }
          ],
          "surface": [
           {
            "colorbar": {
             "outlinewidth": 0,
             "ticks": ""
            },
            "colorscale": [
             [
              0,
              "#0d0887"
             ],
             [
              0.1111111111111111,
              "#46039f"
             ],
             [
              0.2222222222222222,
              "#7201a8"
             ],
             [
              0.3333333333333333,
              "#9c179e"
             ],
             [
              0.4444444444444444,
              "#bd3786"
             ],
             [
              0.5555555555555556,
              "#d8576b"
             ],
             [
              0.6666666666666666,
              "#ed7953"
             ],
             [
              0.7777777777777778,
              "#fb9f3a"
             ],
             [
              0.8888888888888888,
              "#fdca26"
             ],
             [
              1,
              "#f0f921"
             ]
            ],
            "type": "surface"
           }
          ],
          "table": [
           {
            "cells": {
             "fill": {
              "color": "#EBF0F8"
             },
             "line": {
              "color": "white"
             }
            },
            "header": {
             "fill": {
              "color": "#C8D4E3"
             },
             "line": {
              "color": "white"
             }
            },
            "type": "table"
           }
          ]
         },
         "layout": {
          "annotationdefaults": {
           "arrowcolor": "#2a3f5f",
           "arrowhead": 0,
           "arrowwidth": 1
          },
          "autotypenumbers": "strict",
          "coloraxis": {
           "colorbar": {
            "outlinewidth": 0,
            "ticks": ""
           }
          },
          "colorscale": {
           "diverging": [
            [
             0,
             "#8e0152"
            ],
            [
             0.1,
             "#c51b7d"
            ],
            [
             0.2,
             "#de77ae"
            ],
            [
             0.3,
             "#f1b6da"
            ],
            [
             0.4,
             "#fde0ef"
            ],
            [
             0.5,
             "#f7f7f7"
            ],
            [
             0.6,
             "#e6f5d0"
            ],
            [
             0.7,
             "#b8e186"
            ],
            [
             0.8,
             "#7fbc41"
            ],
            [
             0.9,
             "#4d9221"
            ],
            [
             1,
             "#276419"
            ]
           ],
           "sequential": [
            [
             0,
             "#0d0887"
            ],
            [
             0.1111111111111111,
             "#46039f"
            ],
            [
             0.2222222222222222,
             "#7201a8"
            ],
            [
             0.3333333333333333,
             "#9c179e"
            ],
            [
             0.4444444444444444,
             "#bd3786"
            ],
            [
             0.5555555555555556,
             "#d8576b"
            ],
            [
             0.6666666666666666,
             "#ed7953"
            ],
            [
             0.7777777777777778,
             "#fb9f3a"
            ],
            [
             0.8888888888888888,
             "#fdca26"
            ],
            [
             1,
             "#f0f921"
            ]
           ],
           "sequentialminus": [
            [
             0,
             "#0d0887"
            ],
            [
             0.1111111111111111,
             "#46039f"
            ],
            [
             0.2222222222222222,
             "#7201a8"
            ],
            [
             0.3333333333333333,
             "#9c179e"
            ],
            [
             0.4444444444444444,
             "#bd3786"
            ],
            [
             0.5555555555555556,
             "#d8576b"
            ],
            [
             0.6666666666666666,
             "#ed7953"
            ],
            [
             0.7777777777777778,
             "#fb9f3a"
            ],
            [
             0.8888888888888888,
             "#fdca26"
            ],
            [
             1,
             "#f0f921"
            ]
           ]
          },
          "colorway": [
           "#636efa",
           "#EF553B",
           "#00cc96",
           "#ab63fa",
           "#FFA15A",
           "#19d3f3",
           "#FF6692",
           "#B6E880",
           "#FF97FF",
           "#FECB52"
          ],
          "font": {
           "color": "#2a3f5f"
          },
          "geo": {
           "bgcolor": "white",
           "lakecolor": "white",
           "landcolor": "#E5ECF6",
           "showlakes": true,
           "showland": true,
           "subunitcolor": "white"
          },
          "hoverlabel": {
           "align": "left"
          },
          "hovermode": "closest",
          "mapbox": {
           "style": "light"
          },
          "paper_bgcolor": "white",
          "plot_bgcolor": "#E5ECF6",
          "polar": {
           "angularaxis": {
            "gridcolor": "white",
            "linecolor": "white",
            "ticks": ""
           },
           "bgcolor": "#E5ECF6",
           "radialaxis": {
            "gridcolor": "white",
            "linecolor": "white",
            "ticks": ""
           }
          },
          "scene": {
           "xaxis": {
            "backgroundcolor": "#E5ECF6",
            "gridcolor": "white",
            "gridwidth": 2,
            "linecolor": "white",
            "showbackground": true,
            "ticks": "",
            "zerolinecolor": "white"
           },
           "yaxis": {
            "backgroundcolor": "#E5ECF6",
            "gridcolor": "white",
            "gridwidth": 2,
            "linecolor": "white",
            "showbackground": true,
            "ticks": "",
            "zerolinecolor": "white"
           },
           "zaxis": {
            "backgroundcolor": "#E5ECF6",
            "gridcolor": "white",
            "gridwidth": 2,
            "linecolor": "white",
            "showbackground": true,
            "ticks": "",
            "zerolinecolor": "white"
           }
          },
          "shapedefaults": {
           "line": {
            "color": "#2a3f5f"
           }
          },
          "ternary": {
           "aaxis": {
            "gridcolor": "white",
            "linecolor": "white",
            "ticks": ""
           },
           "baxis": {
            "gridcolor": "white",
            "linecolor": "white",
            "ticks": ""
           },
           "bgcolor": "#E5ECF6",
           "caxis": {
            "gridcolor": "white",
            "linecolor": "white",
            "ticks": ""
           }
          },
          "title": {
           "x": 0.05
          },
          "xaxis": {
           "automargin": true,
           "gridcolor": "white",
           "linecolor": "white",
           "ticks": "",
           "title": {
            "standoff": 15
           },
           "zerolinecolor": "white",
           "zerolinewidth": 2
          },
          "yaxis": {
           "automargin": true,
           "gridcolor": "white",
           "linecolor": "white",
           "ticks": "",
           "title": {
            "standoff": 15
           },
           "zerolinecolor": "white",
           "zerolinewidth": 2
          }
         }
        },
        "title": {
         "text": "Correlation Heatmap of Aircraft Data"
        },
        "width": 600,
        "xaxis": {
         "anchor": "y",
         "domain": [
          0,
          1
         ]
        },
        "yaxis": {
         "anchor": "x",
         "autorange": "reversed",
         "domain": [
          0,
          1
         ]
        }
       }
      }
     },
     "metadata": {},
     "output_type": "display_data"
    }
   ],
   "source": [
    "import plotly.express as px\n",
    "# plot correlation matrix\n",
    "corr_matrix = df[['dist_lszh', 'temperature', 'pressure', 'tailwind_16', 'tailwind_28', 'wind_gust', 'from_16']].corr()\n",
    "fig = px.imshow(\n",
    "    corr_matrix,\n",
    "    text_auto=True,  # display correlation values on the heatmap\n",
    "    aspect=\"auto\",\n",
    "    color_continuous_scale=\"RdBu\",\n",
    "    range_color=[-1,1],\n",
    "    \n",
    "    title=\"Correlation Heatmap of Aircraft Data\",\n",
    "    height=600,\n",
    "    width=600\n",
    ")\n",
    "fig.show()"
   ]
  },
  {
   "cell_type": "markdown",
   "metadata": {},
   "source": [
    "### Categorical variables"
   ]
  },
  {
   "cell_type": "markdown",
   "metadata": {},
   "source": [
    "Let's have a look at the top 20 callsigns:"
   ]
  },
  {
   "cell_type": "code",
   "execution_count": 5,
   "metadata": {},
   "outputs": [
    {
     "data": {
      "text/html": [
       "<div>\n",
       "<style scoped>\n",
       "    .dataframe tbody tr th:only-of-type {\n",
       "        vertical-align: middle;\n",
       "    }\n",
       "\n",
       "    .dataframe tbody tr th {\n",
       "        vertical-align: top;\n",
       "    }\n",
       "\n",
       "    .dataframe thead tr th {\n",
       "        text-align: left;\n",
       "    }\n",
       "\n",
       "    .dataframe thead tr:last-of-type th {\n",
       "        text-align: right;\n",
       "    }\n",
       "</style>\n",
       "<table border=\"1\" class=\"dataframe\">\n",
       "  <thead>\n",
       "    <tr>\n",
       "      <th></th>\n",
       "      <th colspan=\"2\" halign=\"left\">from_16</th>\n",
       "      <th>dest_max</th>\n",
       "    </tr>\n",
       "    <tr>\n",
       "      <th></th>\n",
       "      <th>count</th>\n",
       "      <th>mean</th>\n",
       "      <th>first</th>\n",
       "    </tr>\n",
       "    <tr>\n",
       "      <th>callsign</th>\n",
       "      <th></th>\n",
       "      <th></th>\n",
       "      <th></th>\n",
       "    </tr>\n",
       "  </thead>\n",
       "  <tbody>\n",
       "    <tr>\n",
       "      <th>SWR204K</th>\n",
       "      <td>314</td>\n",
       "      <td>0.853503</td>\n",
       "      <td>LPPR</td>\n",
       "    </tr>\n",
       "    <tr>\n",
       "      <th>SWR204M</th>\n",
       "      <td>390</td>\n",
       "      <td>0.810256</td>\n",
       "      <td>LPPT</td>\n",
       "    </tr>\n",
       "    <tr>\n",
       "      <th>SWR219J</th>\n",
       "      <td>513</td>\n",
       "      <td>0.771930</td>\n",
       "      <td>LEMG</td>\n",
       "    </tr>\n",
       "    <tr>\n",
       "      <th>SWR42H</th>\n",
       "      <td>413</td>\n",
       "      <td>0.738499</td>\n",
       "      <td>EIDW</td>\n",
       "    </tr>\n",
       "    <tr>\n",
       "      <th>SWR106Y</th>\n",
       "      <td>416</td>\n",
       "      <td>0.668269</td>\n",
       "      <td>LGAV</td>\n",
       "    </tr>\n",
       "    <tr>\n",
       "      <th>SWR185N</th>\n",
       "      <td>602</td>\n",
       "      <td>0.616279</td>\n",
       "      <td>LGAV</td>\n",
       "    </tr>\n",
       "    <tr>\n",
       "      <th>SWR248M</th>\n",
       "      <td>472</td>\n",
       "      <td>0.569915</td>\n",
       "      <td>LEMG</td>\n",
       "    </tr>\n",
       "    <tr>\n",
       "      <th>SWR1956</th>\n",
       "      <td>305</td>\n",
       "      <td>0.445902</td>\n",
       "      <td>LEBL</td>\n",
       "    </tr>\n",
       "    <tr>\n",
       "      <th>SWR131C</th>\n",
       "      <td>638</td>\n",
       "      <td>0.423197</td>\n",
       "      <td>LEBL</td>\n",
       "    </tr>\n",
       "    <tr>\n",
       "      <th>SWR218L</th>\n",
       "      <td>417</td>\n",
       "      <td>0.364508</td>\n",
       "      <td>LEPA</td>\n",
       "    </tr>\n",
       "    <tr>\n",
       "      <th>SWR129L</th>\n",
       "      <td>349</td>\n",
       "      <td>0.361032</td>\n",
       "      <td>EKCH</td>\n",
       "    </tr>\n",
       "    <tr>\n",
       "      <th>SWR125B</th>\n",
       "      <td>301</td>\n",
       "      <td>0.318937</td>\n",
       "      <td>EKCH</td>\n",
       "    </tr>\n",
       "    <tr>\n",
       "      <th>SWR734</th>\n",
       "      <td>405</td>\n",
       "      <td>0.224691</td>\n",
       "      <td>EHAM</td>\n",
       "    </tr>\n",
       "    <tr>\n",
       "      <th>SWR198F</th>\n",
       "      <td>600</td>\n",
       "      <td>0.138333</td>\n",
       "      <td>LEBL</td>\n",
       "    </tr>\n",
       "    <tr>\n",
       "      <th>SWR31J</th>\n",
       "      <td>413</td>\n",
       "      <td>0.101695</td>\n",
       "      <td>EGLL</td>\n",
       "    </tr>\n",
       "    <tr>\n",
       "      <th>TAP927M</th>\n",
       "      <td>479</td>\n",
       "      <td>0.060543</td>\n",
       "      <td>LPPR</td>\n",
       "    </tr>\n",
       "    <tr>\n",
       "      <th>FIN8PY</th>\n",
       "      <td>473</td>\n",
       "      <td>0.006342</td>\n",
       "      <td>EFHK</td>\n",
       "    </tr>\n",
       "    <tr>\n",
       "      <th>FIN6KP</th>\n",
       "      <td>536</td>\n",
       "      <td>0.005597</td>\n",
       "      <td>EFHK</td>\n",
       "    </tr>\n",
       "    <tr>\n",
       "      <th>AEE5ZH</th>\n",
       "      <td>437</td>\n",
       "      <td>0.002288</td>\n",
       "      <td>LGAV</td>\n",
       "    </tr>\n",
       "    <tr>\n",
       "      <th>SWR83GR</th>\n",
       "      <td>535</td>\n",
       "      <td>0.001869</td>\n",
       "      <td>LSGG</td>\n",
       "    </tr>\n",
       "  </tbody>\n",
       "</table>\n",
       "</div>"
      ],
      "text/plain": [
       "         from_16           dest_max\n",
       "           count      mean    first\n",
       "callsign                           \n",
       "SWR204K      314  0.853503     LPPR\n",
       "SWR204M      390  0.810256     LPPT\n",
       "SWR219J      513  0.771930     LEMG\n",
       "SWR42H       413  0.738499     EIDW\n",
       "SWR106Y      416  0.668269     LGAV\n",
       "SWR185N      602  0.616279     LGAV\n",
       "SWR248M      472  0.569915     LEMG\n",
       "SWR1956      305  0.445902     LEBL\n",
       "SWR131C      638  0.423197     LEBL\n",
       "SWR218L      417  0.364508     LEPA\n",
       "SWR129L      349  0.361032     EKCH\n",
       "SWR125B      301  0.318937     EKCH\n",
       "SWR734       405  0.224691     EHAM\n",
       "SWR198F      600  0.138333     LEBL\n",
       "SWR31J       413  0.101695     EGLL\n",
       "TAP927M      479  0.060543     LPPR\n",
       "FIN8PY       473  0.006342     EFHK\n",
       "FIN6KP       536  0.005597     EFHK\n",
       "AEE5ZH       437  0.002288     LGAV\n",
       "SWR83GR      535  0.001869     LSGG"
      ]
     },
     "execution_count": 5,
     "metadata": {},
     "output_type": "execute_result"
    }
   ],
   "source": [
    "top20cs = df.callsign.value_counts().head(20).index\n",
    "subset = df.query(\"callsign in @top20cs\")\n",
    "subset.groupby('callsign').agg({'from_16':['count', 'mean'], 'dest_max':'first'}).sort_values(('from_16', 'mean'), ascending=False)"
   ]
  },
  {
   "cell_type": "markdown",
   "metadata": {},
   "source": [
    "Let's have a look at the top 20 destinations:"
   ]
  },
  {
   "cell_type": "code",
   "execution_count": 6,
   "metadata": {},
   "outputs": [
    {
     "data": {
      "text/html": [
       "<div>\n",
       "<style scoped>\n",
       "    .dataframe tbody tr th:only-of-type {\n",
       "        vertical-align: middle;\n",
       "    }\n",
       "\n",
       "    .dataframe tbody tr th {\n",
       "        vertical-align: top;\n",
       "    }\n",
       "\n",
       "    .dataframe thead tr th {\n",
       "        text-align: left;\n",
       "    }\n",
       "\n",
       "    .dataframe thead tr:last-of-type th {\n",
       "        text-align: right;\n",
       "    }\n",
       "</style>\n",
       "<table border=\"1\" class=\"dataframe\">\n",
       "  <thead>\n",
       "    <tr>\n",
       "      <th></th>\n",
       "      <th colspan=\"2\" halign=\"left\">from_16</th>\n",
       "    </tr>\n",
       "    <tr>\n",
       "      <th></th>\n",
       "      <th>count</th>\n",
       "      <th>mean</th>\n",
       "    </tr>\n",
       "    <tr>\n",
       "      <th>dest_max</th>\n",
       "      <th></th>\n",
       "      <th></th>\n",
       "    </tr>\n",
       "  </thead>\n",
       "  <tbody>\n",
       "    <tr>\n",
       "      <th>EIDW</th>\n",
       "      <td>461</td>\n",
       "      <td>0.704989</td>\n",
       "    </tr>\n",
       "    <tr>\n",
       "      <th>LEMG</th>\n",
       "      <td>1324</td>\n",
       "      <td>0.642749</td>\n",
       "    </tr>\n",
       "    <tr>\n",
       "      <th>ESSA</th>\n",
       "      <td>536</td>\n",
       "      <td>0.567164</td>\n",
       "    </tr>\n",
       "    <tr>\n",
       "      <th>LPPR</th>\n",
       "      <td>474</td>\n",
       "      <td>0.527426</td>\n",
       "    </tr>\n",
       "    <tr>\n",
       "      <th>LGAV</th>\n",
       "      <td>1341</td>\n",
       "      <td>0.501119</td>\n",
       "    </tr>\n",
       "    <tr>\n",
       "      <th>LPPT</th>\n",
       "      <td>1849</td>\n",
       "      <td>0.447810</td>\n",
       "    </tr>\n",
       "    <tr>\n",
       "      <th>LQSA</th>\n",
       "      <td>464</td>\n",
       "      <td>0.346983</td>\n",
       "    </tr>\n",
       "    <tr>\n",
       "      <th>LEBL</th>\n",
       "      <td>2417</td>\n",
       "      <td>0.304510</td>\n",
       "    </tr>\n",
       "    <tr>\n",
       "      <th>LEPA</th>\n",
       "      <td>1284</td>\n",
       "      <td>0.271028</td>\n",
       "    </tr>\n",
       "    <tr>\n",
       "      <th>EKCH</th>\n",
       "      <td>1191</td>\n",
       "      <td>0.247691</td>\n",
       "    </tr>\n",
       "    <tr>\n",
       "      <th>EHAM</th>\n",
       "      <td>894</td>\n",
       "      <td>0.168904</td>\n",
       "    </tr>\n",
       "    <tr>\n",
       "      <th>EDDH</th>\n",
       "      <td>959</td>\n",
       "      <td>0.163712</td>\n",
       "    </tr>\n",
       "    <tr>\n",
       "      <th>LIRF</th>\n",
       "      <td>717</td>\n",
       "      <td>0.132497</td>\n",
       "    </tr>\n",
       "    <tr>\n",
       "      <th>EDDB</th>\n",
       "      <td>830</td>\n",
       "      <td>0.112048</td>\n",
       "    </tr>\n",
       "    <tr>\n",
       "      <th>LOWW</th>\n",
       "      <td>980</td>\n",
       "      <td>0.096939</td>\n",
       "    </tr>\n",
       "    <tr>\n",
       "      <th>EGLL</th>\n",
       "      <td>1646</td>\n",
       "      <td>0.070474</td>\n",
       "    </tr>\n",
       "    <tr>\n",
       "      <th>LTFM</th>\n",
       "      <td>2512</td>\n",
       "      <td>0.044984</td>\n",
       "    </tr>\n",
       "    <tr>\n",
       "      <th>EDDF</th>\n",
       "      <td>744</td>\n",
       "      <td>0.025538</td>\n",
       "    </tr>\n",
       "    <tr>\n",
       "      <th>LSGG</th>\n",
       "      <td>1211</td>\n",
       "      <td>0.020644</td>\n",
       "    </tr>\n",
       "    <tr>\n",
       "      <th>EFHK</th>\n",
       "      <td>1011</td>\n",
       "      <td>0.005935</td>\n",
       "    </tr>\n",
       "  </tbody>\n",
       "</table>\n",
       "</div>"
      ],
      "text/plain": [
       "         from_16          \n",
       "           count      mean\n",
       "dest_max                  \n",
       "EIDW         461  0.704989\n",
       "LEMG        1324  0.642749\n",
       "ESSA         536  0.567164\n",
       "LPPR         474  0.527426\n",
       "LGAV        1341  0.501119\n",
       "LPPT        1849  0.447810\n",
       "LQSA         464  0.346983\n",
       "LEBL        2417  0.304510\n",
       "LEPA        1284  0.271028\n",
       "EKCH        1191  0.247691\n",
       "EHAM         894  0.168904\n",
       "EDDH         959  0.163712\n",
       "LIRF         717  0.132497\n",
       "EDDB         830  0.112048\n",
       "LOWW         980  0.096939\n",
       "EGLL        1646  0.070474\n",
       "LTFM        2512  0.044984\n",
       "EDDF         744  0.025538\n",
       "LSGG        1211  0.020644\n",
       "EFHK        1011  0.005935"
      ]
     },
     "execution_count": 6,
     "metadata": {},
     "output_type": "execute_result"
    }
   ],
   "source": [
    "top20dest = df.dest_max.value_counts().head(20).index\n",
    "subset = df.query(\"dest_max in @top20dest\")\n",
    "subset.groupby('dest_max').agg({'from_16':['count', 'mean']}).sort_values(('from_16', 'mean'), ascending=False)"
   ]
  },
  {
   "cell_type": "markdown",
   "metadata": {},
   "source": [
    "## Preparing the dataset"
   ]
  },
  {
   "cell_type": "markdown",
   "metadata": {},
   "source": [
    "Using the scikit learn library, we will create a training and testing dataset:"
   ]
  },
  {
   "cell_type": "code",
   "execution_count": 7,
   "metadata": {},
   "outputs": [
    {
     "data": {
      "text/plain": [
       "((19771, 948), (19771,), (8474, 948), (8474,))"
      ]
     },
     "execution_count": 7,
     "metadata": {},
     "output_type": "execute_result"
    }
   ],
   "source": [
    "from sklearn.model_selection import train_test_split\n",
    "# Convert categorical features to dummy variables\n",
    "categorical_features = ['callsign', 'dest_max']\n",
    "df_features = pd.get_dummies(df, columns=categorical_features, drop_first=True)\n",
    "\n",
    "# Define features including numeric ones and all dummy columns from 'callsign' and 'dest_max'\n",
    "features = [\n",
    "    \"temperature\",\n",
    "    \"pressure\",\n",
    "    \"tailwind_28\",\n",
    "    \"tailwind_16\",\n",
    "    \"dist_lszh\"\n",
    "] + [c for c in df_features.columns if c.startswith('callsign_') or c.startswith('dest_max_')]\n",
    "\n",
    "# Define features and target variable\n",
    "X = df_features[features]\n",
    "y = df_features[\"from_16\"]\n",
    "\n",
    "# Split data into training and testing sets\n",
    "X_train, X_test, y_train, y_test = train_test_split(\n",
    "    X,\n",
    "    y,\n",
    "    test_size=0.3,\n",
    "    random_state=42,\n",
    ")\n",
    "X_train.shape, y_train.shape, X_test.shape, y_test.shape"
   ]
  },
  {
   "cell_type": "markdown",
   "metadata": {},
   "source": [
    "## Training the model"
   ]
  },
  {
   "cell_type": "code",
   "execution_count": 8,
   "metadata": {},
   "outputs": [
    {
     "data": {
      "image/png": "[encoded data removed]",
      "text/plain": [
       "<Figure size 1400x800 with 1 Axes>"
      ]
     },
     "metadata": {},
     "output_type": "display_data"
    }
   ],
   "source": [
    "from matplotlib import pyplot as plt\n",
    "from sklearn.tree import DecisionTreeClassifier, plot_tree\n",
    "import numpy as np\n",
    "\n",
    "tree_reg = DecisionTreeClassifier(max_depth=3, random_state=42)\n",
    "tree_reg.fit(X_train, y_train)\n",
    "\n",
    "\n",
    "# Visualize the decision tree\n",
    "plt.figure(figsize=(14, 8))\n",
    "plot_tree(tree_reg, feature_names=X.columns, filled=True, rounded=True, fontsize=8)\n",
    "plt.title(\"Decision Tree for A321 TOFF runway 16\")\n",
    "plt.show()\n",
    "# print the confustion matrix\n"
   ]
  },
  {
   "cell_type": "markdown",
   "metadata": {},
   "source": [
    "## Model Evaluation"
   ]
  },
  {
   "cell_type": "code",
   "execution_count": 9,
   "metadata": {},
   "outputs": [
    {
     "name": "stdout",
     "output_type": "stream",
     "text": [
      "Confusion Matrix:\n",
      "[[5346 1017]\n",
      " [1082 1029]]\n",
      "\n",
      "Classification Report:\n",
      "              precision    recall  f1-score   support\n",
      "\n",
      "           0       0.83      0.84      0.84      6363\n",
      "           1       0.50      0.49      0.50      2111\n",
      "\n",
      "    accuracy                           0.75      8474\n",
      "   macro avg       0.67      0.66      0.67      8474\n",
      "weighted avg       0.75      0.75      0.75      8474\n",
      "\n"
     ]
    }
   ],
   "source": [
    "from sklearn.metrics import confusion_matrix, classification_report\n",
    "\n",
    "# Predict on the test set\n",
    "y_pred = tree_reg.predict(X_test)\n",
    "\n",
    "# Compute the confusion matrix\n",
    "cm = confusion_matrix(y_test, y_pred)\n",
    "print(\"Confusion Matrix:\")\n",
    "print(cm)\n",
    "\n",
    "# We can print a detailed classification report\n",
    "print(\"\\nClassification Report:\")\n",
    "print(classification_report(y_test, y_pred))"
   ]
  },
  {
   "cell_type": "markdown",
   "metadata": {},
   "source": [
    "# Task 1:Implement Recall, Precision and F1 Score by yourself"
   ]
  },
  {
   "cell_type": "code",
   "execution_count": null,
   "metadata": {},
   "outputs": [],
   "source": []
  },
  {
   "cell_type": "markdown",
   "metadata": {},
   "source": [
    "# Task 2: \n",
    "- Change the model to predict the probability of using runway 16.\n",
    "- With plotly create a visualization to visualize the probability of the false positive and false negative ones."
   ]
  },
  {
   "cell_type": "code",
   "execution_count": null,
   "metadata": {},
   "outputs": [],
   "source": []
  },
  {
   "cell_type": "markdown",
   "metadata": {},
   "source": [
    "# Task 3: Now it's your turn to train a model!\n",
    "\n",
    "Tips:\n",
    "- Build some new relevant feature\n",
    "- Fine tune the ML model\n",
    "- Best F1 score wins!\n"
   ]
  },
  {
   "cell_type": "code",
   "execution_count": null,
   "metadata": {},
   "outputs": [],
   "source": []
  }
 ],
 "metadata": {
  "kernelspec": {
   "display_name": ".venv",
   "language": "python",
   "name": "python3"
  },
  "language_info": {
   "codemirror_mode": {
    "name": "ipython",
    "version": 3
   },
   "file_extension": ".py",
   "mimetype": "text/x-python",
   "name": "python",
   "nbconvert_exporter": "python",
   "pygments_lexer": "ipython3",
   "version": "3.13.0"
  }
 },
 "nbformat": 4,
 "nbformat_minor": 2
}
