{
 "cells": [
  {
   "cell_type": "markdown",
   "metadata": {},
   "source": [
    "<a target=\"_blank\" href=\"https://colab.research.google.com/github/ZHAW-ZAV/TSO-FS25/blob/main/06_supervised_ml/rway_prediction_A321.ipynb\">\n",
    "  <img src=\"https://colab.research.google.com/assets/colab-badge.svg\" alt=\"Open In Colab\"/>\n",
    "</a>"
   ]
  },
  {
   "cell_type": "markdown",
   "metadata": {},
   "source": [
    "# Exercise: Predicting Runway Choice for A321 Departures at Zurich Airport\n",
    "\n",
    "**Objective:**  \n",
    "Your task is to design and build a machine learning (ML) model that predicts whether an Airbus A321 departing from Zurich Airport (ZRH) will take off from Runway 28 or Runway 16. The prediction should be made in advance, based on relevant data features you identify.\n",
    "\n",
    "**Background:**  \n",
    "Zurich Airport has multiple runways, but the choice of runway for departing flights like the A321—a medium-sized aircraft—can significantly impact airport operations:  \n",
    "- **Runway 28**: Shorter taxiing distance, allowing quicker departures. It operates independently of other runways, making it efficient for scheduling.  \n",
    "- **Runway 16**: Longer runway, typically reserved for heavier aircraft due to its length. However, it cannot operate independently of Runway 14 (used for landings). When an aircraft is landing on Runway 14, departures on Runway 16 must wait, potentially causing delays and reducing airport capacity.  \n",
    "\n",
    "The A321 is a versatile aircraft: when lightly loaded, it can use Runway 28, but when heavily loaded (e.g., with more passengers, cargo, or fuel), it may require Runway 16 for a safer takeoff. Currently, the runway request is made by the airline or pilot closer to departure, which limits the airport’s ability to optimize planning.\n",
    "\n",
    "**Why It Matters:**  \n",
    "Predicting the runway choice in advance offers significant value for airport operations:  \n",
    "- **Improved Efficiency**: Knowing early whether an A321 will use Runway 28 or 16 helps optimize taxiing routes and departure sequencing, reducing ground delays.  \n",
    "- **Capacity Management**: Avoiding unnecessary use of Runway 16 minimizes conflicts with landings on Runway 14, preserving overall airport throughput.  \n",
    "- **Resource Planning**: Accurate predictions allow better allocation of gates, ground crew, and equipment based on expected taxiing times and runway usage.  \n",
    "\n",
    "**Your Task:**  \n",
    "1. Identify potential data inputs (features) that could influence the A321’s runway\n",
    "2. Build a simple ML model\n",
    "3. Evaluate the model"
   ]
  },
  {
   "cell_type": "markdown",
   "metadata": {},
   "source": [
    "# Dataset loading\n",
    "\n",
    "The dataset is a csv file stored on a google drive.\n",
    "You will load it into a pandas dataframe.\n",
    "\n"
   ]
  },
  {
   "cell_type": "code",
   "execution_count": 1,
   "metadata": {},
   "outputs": [
    {
     "data": {
      "text/html": [
       "<div>\n",
       "<style scoped>\n",
       "    .dataframe tbody tr th:only-of-type {\n",
       "        vertical-align: middle;\n",
       "    }\n",
       "\n",
       "    .dataframe tbody tr th {\n",
       "        vertical-align: top;\n",
       "    }\n",
       "\n",
       "    .dataframe thead th {\n",
       "        text-align: right;\n",
       "    }\n",
       "</style>\n",
       "<table border=\"1\" class=\"dataframe\">\n",
       "  <thead>\n",
       "    <tr style=\"text-align: right;\">\n",
       "      <th></th>\n",
       "      <th>icao24</th>\n",
       "      <th>callsign</th>\n",
       "      <th>timestamp</th>\n",
       "      <th>runway</th>\n",
       "      <th>dest_max</th>\n",
       "      <th>dist_lszh</th>\n",
       "      <th>typecode</th>\n",
       "      <th>temperature</th>\n",
       "      <th>pressure</th>\n",
       "      <th>tailwind_16</th>\n",
       "      <th>tailwind_28</th>\n",
       "      <th>wind_gust</th>\n",
       "    </tr>\n",
       "  </thead>\n",
       "  <tbody>\n",
       "    <tr>\n",
       "      <th>0</th>\n",
       "      <td>4b168f</td>\n",
       "      <td>SWR185N</td>\n",
       "      <td>2018-01-01 08:59:28+00:00</td>\n",
       "      <td>28</td>\n",
       "      <td>LGAV</td>\n",
       "      <td>1989.017568</td>\n",
       "      <td>A321</td>\n",
       "      <td>5.0</td>\n",
       "      <td>1015.0</td>\n",
       "      <td>3.500000</td>\n",
       "      <td>3.500000</td>\n",
       "      <td>NaN</td>\n",
       "    </tr>\n",
       "    <tr>\n",
       "      <th>1</th>\n",
       "      <td>461fa4</td>\n",
       "      <td>FIN8PY</td>\n",
       "      <td>2018-01-01 10:04:38+00:00</td>\n",
       "      <td>28</td>\n",
       "      <td>EFHK</td>\n",
       "      <td>2278.074743</td>\n",
       "      <td>A321</td>\n",
       "      <td>6.0</td>\n",
       "      <td>1015.0</td>\n",
       "      <td>4.446262</td>\n",
       "      <td>8.356239</td>\n",
       "      <td>NaN</td>\n",
       "    </tr>\n",
       "    <tr>\n",
       "      <th>2</th>\n",
       "      <td>4baa8e</td>\n",
       "      <td>THY9SC</td>\n",
       "      <td>2018-01-01 10:20:24+00:00</td>\n",
       "      <td>28</td>\n",
       "      <td>LTFM</td>\n",
       "      <td>2337.168213</td>\n",
       "      <td>A321</td>\n",
       "      <td>6.0</td>\n",
       "      <td>1014.0</td>\n",
       "      <td>5.814342</td>\n",
       "      <td>10.927389</td>\n",
       "      <td>NaN</td>\n",
       "    </tr>\n",
       "    <tr>\n",
       "      <th>3</th>\n",
       "      <td>4b1696</td>\n",
       "      <td>SWR43B</td>\n",
       "      <td>2018-01-01 11:27:53+00:00</td>\n",
       "      <td>16</td>\n",
       "      <td>EGLL</td>\n",
       "      <td>1096.085110</td>\n",
       "      <td>A321</td>\n",
       "      <td>7.0</td>\n",
       "      <td>1013.0</td>\n",
       "      <td>2.257426</td>\n",
       "      <td>9.958578</td>\n",
       "      <td>NaN</td>\n",
       "    </tr>\n",
       "    <tr>\n",
       "      <th>4</th>\n",
       "      <td>4b1698</td>\n",
       "      <td>SWR204K</td>\n",
       "      <td>2018-01-01 11:29:38+00:00</td>\n",
       "      <td>16</td>\n",
       "      <td>LPPR</td>\n",
       "      <td>2035.584651</td>\n",
       "      <td>A321</td>\n",
       "      <td>7.0</td>\n",
       "      <td>1013.0</td>\n",
       "      <td>2.257426</td>\n",
       "      <td>9.958578</td>\n",
       "      <td>NaN</td>\n",
       "    </tr>\n",
       "  </tbody>\n",
       "</table>\n",
       "</div>"
      ],
      "text/plain": [
       "   icao24 callsign                  timestamp  runway dest_max    dist_lszh  \\\n",
       "0  4b168f  SWR185N  2018-01-01 08:59:28+00:00      28     LGAV  1989.017568   \n",
       "1  461fa4   FIN8PY  2018-01-01 10:04:38+00:00      28     EFHK  2278.074743   \n",
       "2  4baa8e   THY9SC  2018-01-01 10:20:24+00:00      28     LTFM  2337.168213   \n",
       "3  4b1696   SWR43B  2018-01-01 11:27:53+00:00      16     EGLL  1096.085110   \n",
       "4  4b1698  SWR204K  2018-01-01 11:29:38+00:00      16     LPPR  2035.584651   \n",
       "\n",
       "  typecode  temperature  pressure  tailwind_16  tailwind_28  wind_gust  \n",
       "0     A321          5.0    1015.0     3.500000     3.500000        NaN  \n",
       "1     A321          6.0    1015.0     4.446262     8.356239        NaN  \n",
       "2     A321          6.0    1014.0     5.814342    10.927389        NaN  \n",
       "3     A321          7.0    1013.0     2.257426     9.958578        NaN  \n",
       "4     A321          7.0    1013.0     2.257426     9.958578        NaN  "
      ]
     },
     "execution_count": 1,
     "metadata": {},
     "output_type": "execute_result"
    }
   ],
   "source": [
    "import pandas as pd\n",
    "file_id = \"1bKB2Fkt-iRQTS06zZ-YKkPUsQPuuyj_T\"\n",
    "url = f\"https://drive.google.com/uc?export=download&id={file_id}\"\n",
    "df = pd.read_csv(url)\n",
    "df.head()"
   ]
  },
  {
   "cell_type": "markdown",
   "metadata": {},
   "source": [
    "# Explorary Data Analysis"
   ]
  },
  {
   "cell_type": "code",
   "execution_count": 2,
   "metadata": {},
   "outputs": [
    {
     "data": {
      "text/plain": [
       "runway\n",
       "28    21110\n",
       "16     7135\n",
       "Name: count, dtype: int64"
      ]
     },
     "execution_count": 2,
     "metadata": {},
     "output_type": "execute_result"
    }
   ],
   "source": [
    "df['runway'].value_counts()"
   ]
  },
  {
   "cell_type": "code",
   "execution_count": 3,
   "metadata": {},
   "outputs": [
    {
     "data": {
      "text/plain": [
       "from_16\n",
       "0    21110\n",
       "1     7135\n",
       "Name: count, dtype: int64"
      ]
     },
     "execution_count": 3,
     "metadata": {},
     "output_type": "execute_result"
    }
   ],
   "source": [
    "df['from_16'] = (df['runway']==16).astype(int)\n",
    "df.from_16.value_counts()"
   ]
  },
  {
   "cell_type": "markdown",
   "metadata": {},
   "source": [
    "## Correlation plot for numerical variables"
   ]
  },
  {
   "cell_type": "code",
   "execution_count": 4,
   "metadata": {},
   "outputs": [
    {
     "data": {
      "application/vnd.plotly.v1+json": {
       "config": {
        "plotlyServerURL": "https://plot.ly"
       },
       "data": [
        {
         "coloraxis": "coloraxis",
         "hovertemplate": "x: %{x}<br>y: %{y}<br>color: %{z}<extra></extra>",
         "name": "0",
         "texttemplate": "%{z}",
         "type": "heatmap",
         "x": [
          "dist_lszh",
          "temperature",
          "pressure",
          "tailwind_16",
          "tailwind_28",
          "wind_gust",
          "from_16"
         ],
         "xaxis": "x",
         "y": [
          "dist_lszh",
          "temperature",
          "pressure",
          "tailwind_16",
          "tailwind_28",
          "wind_gust",
          "from_16"
         ],
         "yaxis": "y",
         "z": {
          "bdata": "AAAAAAAA8D9hfCLBlJGzP8HMnBPJNGI/tPuxsxhPkr8tFeOxiHl5vxZIM1fnGKU/Pv3xYcJgxD9hfCLBlJGzPwAAAAAAAPA/ZwyD2yDsnT/w8xU8UC+yvy1F+ICgkZ2/yUDQJGwo1z+eENZPIazNP8HMnBPJNGI/ZwyD2yDsnT8AAAAAAADwPwLGavpYD6C/02NbqFfVmb+JwDMmiofsP9zvtnTWfpq/tPuxsxhPkr/w8xU8UC+yvwLGavpYD6C/AAAAAAAA8D9vQbkSS6bIv3wkCb/6+Lo/TRYuvwAopb8tFeOxiHl5vy1F+ICgkZ2/02NbqFfVmb9vQbkSS6bIvwAAAAAAAPA/7X3/2txu1z8LZ5OExYG9vxZIM1fnGKU/yUDQJGwo1z+JwDMmiofsP3wkCb/6+Lo/7X3/2txu1z8AAAAAAADwP/wqIqi9L6A/Pv3xYcJgxD+eENZPIazNP9zvtnTWfpq/TRYuvwAopb8LZ5OExYG9v/wqIqi9L6A/AAAAAAAA8D8=",
          "dtype": "f8",
          "shape": "7, 7"
         }
        }
       ],
       "layout": {
        "coloraxis": {
         "cmax": 1,
         "cmin": -1,
         "colorscale": [
          [
           0,
           "rgb(103,0,31)"
          ],
          [
           0.1,
           "rgb(178,24,43)"
          ],
          [
           0.2,
           "rgb(214,96,77)"
          ],
          [
           0.3,
           "rgb(244,165,130)"
          ],
          [
           0.4,
           "rgb(253,219,199)"
          ],
          [
           0.5,
           "rgb(247,247,247)"
          ],
          [
           0.6,
           "rgb(209,229,240)"
          ],
          [
           0.7,
           "rgb(146,197,222)"
          ],
          [
           0.8,
           "rgb(67,147,195)"
          ],
          [
           0.9,
           "rgb(33,102,172)"
          ],
          [
           1,
           "rgb(5,48,97)"
          ]
         ]
        },
        "height": 600,
        "template": {
         "data": {
          "bar": [
           {
            "error_x": {
             "color": "#2a3f5f"
            },
            "error_y": {
             "color": "#2a3f5f"
            },
            "marker": {
             "line": {
              "color": "#E5ECF6",
              "width": 0.5
             },
             "pattern": {
              "fillmode": "overlay",
              "size": 10,
              "solidity": 0.2
             }
            },
            "type": "bar"
           }
          ],
          "barpolar": [
           {
            "marker": {
             "line": {
              "color": "#E5ECF6",
              "width": 0.5
             },
             "pattern": {
              "fillmode": "overlay",
              "size": 10,
              "solidity": 0.2
             }
            },
            "type": "barpolar"
           }
          ],
          "carpet": [
           {
            "aaxis": {
             "endlinecolor": "#2a3f5f",
             "gridcolor": "white",
             "linecolor": "white",
             "minorgridcolor": "white",
             "startlinecolor": "#2a3f5f"
            },
            "baxis": {
             "endlinecolor": "#2a3f5f",
             "gridcolor": "white",
             "linecolor": "white",
             "minorgridcolor": "white",
             "startlinecolor": "#2a3f5f"
            },
            "type": "carpet"
           }
          ],
          "choropleth": [
           {
            "colorbar": {
             "outlinewidth": 0,
             "ticks": ""
            },
            "type": "choropleth"
           }
          ],
          "contour": [
           {
            "colorbar": {
             "outlinewidth": 0,
             "ticks": ""
            },
            "colorscale": [
             [
              0,
              "#0d0887"
             ],
             [
              0.1111111111111111,
              "#46039f"
             ],
             [
              0.2222222222222222,
              "#7201a8"
             ],
             [
              0.3333333333333333,
              "#9c179e"
             ],
             [
              0.4444444444444444,
              "#bd3786"
             ],
             [
              0.5555555555555556,
              "#d8576b"
             ],
             [
              0.6666666666666666,
              "#ed7953"
             ],
             [
              0.7777777777777778,
              "#fb9f3a"
             ],
             [
              0.8888888888888888,
              "#fdca26"
             ],
             [
              1,
              "#f0f921"
             ]
            ],
            "type": "contour"
           }
          ],
          "contourcarpet": [
           {
            "colorbar": {
             "outlinewidth": 0,
             "ticks": ""
            },
            "type": "contourcarpet"
           }
          ],
          "heatmap": [
           {
            "colorbar": {
             "outlinewidth": 0,
             "ticks": ""
            },
            "colorscale": [
             [
              0,
              "#0d0887"
             ],
             [
              0.1111111111111111,
              "#46039f"
             ],
             [
              0.2222222222222222,
              "#7201a8"
             ],
             [
              0.3333333333333333,
              "#9c179e"
             ],
             [
              0.4444444444444444,
              "#bd3786"
             ],
             [
              0.5555555555555556,
              "#d8576b"
             ],
             [
              0.6666666666666666,
              "#ed7953"
             ],
             [
              0.7777777777777778,
              "#fb9f3a"
             ],
             [
              0.8888888888888888,
              "#fdca26"
             ],
             [
              1,
              "#f0f921"
             ]
            ],
            "type": "heatmap"
           }
          ],
          "histogram": [
           {
            "marker": {
             "pattern": {
              "fillmode": "overlay",
              "size": 10,
              "solidity": 0.2
             }
            },
            "type": "histogram"
           }
          ],
          "histogram2d": [
           {
            "colorbar": {
             "outlinewidth": 0,
             "ticks": ""
            },
            "colorscale": [
             [
              0,
              "#0d0887"
             ],
             [
              0.1111111111111111,
              "#46039f"
             ],
             [
              0.2222222222222222,
              "#7201a8"
             ],
             [
              0.3333333333333333,
              "#9c179e"
             ],
             [
              0.4444444444444444,
              "#bd3786"
             ],
             [
              0.5555555555555556,
              "#d8576b"
             ],
             [
              0.6666666666666666,
              "#ed7953"
             ],
             [
              0.7777777777777778,
              "#fb9f3a"
             ],
             [
              0.8888888888888888,
              "#fdca26"
             ],
             [
              1,
              "#f0f921"
             ]
            ],
            "type": "histogram2d"
           }
          ],
          "histogram2dcontour": [
           {
            "colorbar": {
             "outlinewidth": 0,
             "ticks": ""
            },
            "colorscale": [
             [
              0,
              "#0d0887"
             ],
             [
              0.1111111111111111,
              "#46039f"
             ],
             [
              0.2222222222222222,
              "#7201a8"
             ],
             [
              0.3333333333333333,
              "#9c179e"
             ],
             [
              0.4444444444444444,
              "#bd3786"
             ],
             [
              0.5555555555555556,
              "#d8576b"
             ],
             [
              0.6666666666666666,
              "#ed7953"
             ],
             [
              0.7777777777777778,
              "#fb9f3a"
             ],
             [
              0.8888888888888888,
              "#fdca26"
             ],
             [
              1,
              "#f0f921"
             ]
            ],
            "type": "histogram2dcontour"
           }
          ],
          "mesh3d": [
           {
            "colorbar": {
             "outlinewidth": 0,
             "ticks": ""
            },
            "type": "mesh3d"
           }
          ],
          "parcoords": [
           {
            "line": {
             "colorbar": {
              "outlinewidth": 0,
              "ticks": ""
             }
            },
            "type": "parcoords"
           }
          ],
          "pie": [
           {
            "automargin": true,
            "type": "pie"
           }
          ],
          "scatter": [
           {
            "fillpattern": {
             "fillmode": "overlay",
             "size": 10,
             "solidity": 0.2
            },
            "type": "scatter"
           }
          ],
          "scatter3d": [
           {
            "line": {
             "colorbar": {
              "outlinewidth": 0,
              "ticks": ""
             }
            },
            "marker": {
             "colorbar": {
              "outlinewidth": 0,
              "ticks": ""
             }
            },
            "type": "scatter3d"
           }
          ],
          "scattercarpet": [
           {
            "marker": {
             "colorbar": {
              "outlinewidth": 0,
              "ticks": ""
             }
            },
            "type": "scattercarpet"
           }
          ],
          "scattergeo": [
           {
            "marker": {
             "colorbar": {
              "outlinewidth": 0,
              "ticks": ""
             }
            },
            "type": "scattergeo"
           }
          ],
          "scattergl": [
           {
            "marker": {
             "colorbar": {
              "outlinewidth": 0,
              "ticks": ""
             }
            },
            "type": "scattergl"
           }
          ],
          "scattermap": [
           {
            "marker": {
             "colorbar": {
              "outlinewidth": 0,
              "ticks": ""
             }
            },
            "type": "scattermap"
           }
          ],
          "scattermapbox": [
           {
            "marker": {
             "colorbar": {
              "outlinewidth": 0,
              "ticks": ""
             }
            },
            "type": "scattermapbox"
           }
          ],
          "scatterpolar": [
           {
            "marker": {
             "colorbar": {
              "outlinewidth": 0,
              "ticks": ""
             }
            },
            "type": "scatterpolar"
           }
          ],
          "scatterpolargl": [
           {
            "marker": {
             "colorbar": {
              "outlinewidth": 0,
              "ticks": ""
             }
            },
            "type": "scatterpolargl"
           }
          ],
          "scatterternary": [
           {
            "marker": {
             "colorbar": {
              "outlinewidth": 0,
              "ticks": ""
             }
            },
            "type": "scatterternary"
           }
          ],
          "surface": [
           {
            "colorbar": {
             "outlinewidth": 0,
             "ticks": ""
            },
            "colorscale": [
             [
              0,
              "#0d0887"
             ],
             [
              0.1111111111111111,
              "#46039f"
             ],
             [
              0.2222222222222222,
              "#7201a8"
             ],
             [
              0.3333333333333333,
              "#9c179e"
             ],
             [
              0.4444444444444444,
              "#bd3786"
             ],
             [
              0.5555555555555556,
              "#d8576b"
             ],
             [
              0.6666666666666666,
              "#ed7953"
             ],
             [
              0.7777777777777778,
              "#fb9f3a"
             ],
             [
              0.8888888888888888,
              "#fdca26"
             ],
             [
              1,
              "#f0f921"
             ]
            ],
            "type": "surface"
           }
          ],
          "table": [
           {
            "cells": {
             "fill": {
              "color": "#EBF0F8"
             },
             "line": {
              "color": "white"
             }
            },
            "header": {
             "fill": {
              "color": "#C8D4E3"
             },
             "line": {
              "color": "white"
             }
            },
            "type": "table"
           }
          ]
         },
         "layout": {
          "annotationdefaults": {
           "arrowcolor": "#2a3f5f",
           "arrowhead": 0,
           "arrowwidth": 1
          },
          "autotypenumbers": "strict",
          "coloraxis": {
           "colorbar": {
            "outlinewidth": 0,
            "ticks": ""
           }
          },
          "colorscale": {
           "diverging": [
            [
             0,
             "#8e0152"
            ],
            [
             0.1,
             "#c51b7d"
            ],
            [
             0.2,
             "#de77ae"
            ],
            [
             0.3,
             "#f1b6da"
            ],
            [
             0.4,
             "#fde0ef"
            ],
            [
             0.5,
             "#f7f7f7"
            ],
            [
             0.6,
             "#e6f5d0"
            ],
            [
             0.7,
             "#b8e186"
            ],
            [
             0.8,
             "#7fbc41"
            ],
            [
             0.9,
             "#4d9221"
            ],
            [
             1,
             "#276419"
            ]
           ],
           "sequential": [
            [
             0,
             "#0d0887"
            ],
            [
             0.1111111111111111,
             "#46039f"
            ],
            [
             0.2222222222222222,
             "#7201a8"
            ],
            [
             0.3333333333333333,
             "#9c179e"
            ],
            [
             0.4444444444444444,
             "#bd3786"
            ],
            [
             0.5555555555555556,
             "#d8576b"
            ],
            [
             0.6666666666666666,
             "#ed7953"
            ],
            [
             0.7777777777777778,
             "#fb9f3a"
            ],
            [
             0.8888888888888888,
             "#fdca26"
            ],
            [
             1,
             "#f0f921"
            ]
           ],
           "sequentialminus": [
            [
             0,
             "#0d0887"
            ],
            [
             0.1111111111111111,
             "#46039f"
            ],
            [
             0.2222222222222222,
             "#7201a8"
            ],
            [
             0.3333333333333333,
             "#9c179e"
            ],
            [
             0.4444444444444444,
             "#bd3786"
            ],
            [
             0.5555555555555556,
             "#d8576b"
            ],
            [
             0.6666666666666666,
             "#ed7953"
            ],
            [
             0.7777777777777778,
             "#fb9f3a"
            ],
            [
             0.8888888888888888,
             "#fdca26"
            ],
            [
             1,
             "#f0f921"
            ]
           ]
          },
          "colorway": [
           "#636efa",
           "#EF553B",
           "#00cc96",
           "#ab63fa",
           "#FFA15A",
           "#19d3f3",
           "#FF6692",
           "#B6E880",
           "#FF97FF",
           "#FECB52"
          ],
          "font": {
           "color": "#2a3f5f"
          },
          "geo": {
           "bgcolor": "white",
           "lakecolor": "white",
           "landcolor": "#E5ECF6",
           "showlakes": true,
           "showland": true,
           "subunitcolor": "white"
          },
          "hoverlabel": {
           "align": "left"
          },
          "hovermode": "closest",
          "mapbox": {
           "style": "light"
          },
          "paper_bgcolor": "white",
          "plot_bgcolor": "#E5ECF6",
          "polar": {
           "angularaxis": {
            "gridcolor": "white",
            "linecolor": "white",
            "ticks": ""
           },
           "bgcolor": "#E5ECF6",
           "radialaxis": {
            "gridcolor": "white",
            "linecolor": "white",
            "ticks": ""
           }
          },
          "scene": {
           "xaxis": {
            "backgroundcolor": "#E5ECF6",
            "gridcolor": "white",
            "gridwidth": 2,
            "linecolor": "white",
            "showbackground": true,
            "ticks": "",
            "zerolinecolor": "white"
           },
           "yaxis": {
            "backgroundcolor": "#E5ECF6",
            "gridcolor": "white",
            "gridwidth": 2,
            "linecolor": "white",
            "showbackground": true,
            "ticks": "",
            "zerolinecolor": "white"
           },
           "zaxis": {
            "backgroundcolor": "#E5ECF6",
            "gridcolor": "white",
            "gridwidth": 2,
            "linecolor": "white",
            "showbackground": true,
            "ticks": "",
            "zerolinecolor": "white"
           }
          },
          "shapedefaults": {
           "line": {
            "color": "#2a3f5f"
           }
          },
          "ternary": {
           "aaxis": {
            "gridcolor": "white",
            "linecolor": "white",
            "ticks": ""
           },
           "baxis": {
            "gridcolor": "white",
            "linecolor": "white",
            "ticks": ""
           },
           "bgcolor": "#E5ECF6",
           "caxis": {
            "gridcolor": "white",
            "linecolor": "white",
            "ticks": ""
           }
          },
          "title": {
           "x": 0.05
          },
          "xaxis": {
           "automargin": true,
           "gridcolor": "white",
           "linecolor": "white",
           "ticks": "",
           "title": {
            "standoff": 15
           },
           "zerolinecolor": "white",
           "zerolinewidth": 2
          },
          "yaxis": {
           "automargin": true,
           "gridcolor": "white",
           "linecolor": "white",
           "ticks": "",
           "title": {
            "standoff": 15
           },
           "zerolinecolor": "white",
           "zerolinewidth": 2
          }
         }
        },
        "title": {
         "text": "Correlation Heatmap of Aircraft Data"
        },
        "width": 600,
        "xaxis": {
         "anchor": "y",
         "domain": [
          0,
          1
         ]
        },
        "yaxis": {
         "anchor": "x",
         "autorange": "reversed",
         "domain": [
          0,
          1
         ]
        }
       }
      }
     },
     "metadata": {},
     "output_type": "display_data"
    }
   ],
   "source": [
    "import plotly.express as px\n",
    "# plot correlation matrix\n",
    "corr_matrix = df[['dist_lszh', 'temperature', 'pressure', 'tailwind_16', 'tailwind_28', 'wind_gust', 'from_16']].corr()\n",
    "fig = px.imshow(\n",
    "    corr_matrix,\n",
    "    text_auto=True,  # display correlation values on the heatmap\n",
    "    aspect=\"auto\",\n",
    "    color_continuous_scale=\"RdBu\",\n",
    "    range_color=[-1,1],\n",
    "    \n",
    "    title=\"Correlation Heatmap of Aircraft Data\",\n",
    "    height=600,\n",
    "    width=600\n",
    ")\n",
    "fig.show()"
   ]
  },
  {
   "cell_type": "markdown",
   "metadata": {},
   "source": [
    "## Categorical variables"
   ]
  },
  {
   "cell_type": "markdown",
   "metadata": {},
   "source": [
    "Let's have a look at the top 20 callsigns:"
   ]
  },
  {
   "cell_type": "code",
   "execution_count": 5,
   "metadata": {},
   "outputs": [
    {
     "data": {
      "text/html": [
       "<div>\n",
       "<style scoped>\n",
       "    .dataframe tbody tr th:only-of-type {\n",
       "        vertical-align: middle;\n",
       "    }\n",
       "\n",
       "    .dataframe tbody tr th {\n",
       "        vertical-align: top;\n",
       "    }\n",
       "\n",
       "    .dataframe thead tr th {\n",
       "        text-align: left;\n",
       "    }\n",
       "\n",
       "    .dataframe thead tr:last-of-type th {\n",
       "        text-align: right;\n",
       "    }\n",
       "</style>\n",
       "<table border=\"1\" class=\"dataframe\">\n",
       "  <thead>\n",
       "    <tr>\n",
       "      <th></th>\n",
       "      <th colspan=\"2\" halign=\"left\">from_16</th>\n",
       "      <th>dest_max</th>\n",
       "    </tr>\n",
       "    <tr>\n",
       "      <th></th>\n",
       "      <th>count</th>\n",
       "      <th>mean</th>\n",
       "      <th>first</th>\n",
       "    </tr>\n",
       "    <tr>\n",
       "      <th>callsign</th>\n",
       "      <th></th>\n",
       "      <th></th>\n",
       "      <th></th>\n",
       "    </tr>\n",
       "  </thead>\n",
       "  <tbody>\n",
       "    <tr>\n",
       "      <th>SWR204K</th>\n",
       "      <td>314</td>\n",
       "      <td>0.853503</td>\n",
       "      <td>LPPR</td>\n",
       "    </tr>\n",
       "    <tr>\n",
       "      <th>SWR204M</th>\n",
       "      <td>390</td>\n",
       "      <td>0.810256</td>\n",
       "      <td>LPPT</td>\n",
       "    </tr>\n",
       "    <tr>\n",
       "      <th>SWR219J</th>\n",
       "      <td>513</td>\n",
       "      <td>0.771930</td>\n",
       "      <td>LEMG</td>\n",
       "    </tr>\n",
       "    <tr>\n",
       "      <th>SWR42H</th>\n",
       "      <td>413</td>\n",
       "      <td>0.738499</td>\n",
       "      <td>EIDW</td>\n",
       "    </tr>\n",
       "    <tr>\n",
       "      <th>SWR106Y</th>\n",
       "      <td>416</td>\n",
       "      <td>0.668269</td>\n",
       "      <td>LGAV</td>\n",
       "    </tr>\n",
       "    <tr>\n",
       "      <th>SWR185N</th>\n",
       "      <td>602</td>\n",
       "      <td>0.616279</td>\n",
       "      <td>LGAV</td>\n",
       "    </tr>\n",
       "    <tr>\n",
       "      <th>SWR248M</th>\n",
       "      <td>472</td>\n",
       "      <td>0.569915</td>\n",
       "      <td>LEMG</td>\n",
       "    </tr>\n",
       "    <tr>\n",
       "      <th>SWR1956</th>\n",
       "      <td>305</td>\n",
       "      <td>0.445902</td>\n",
       "      <td>LEBL</td>\n",
       "    </tr>\n",
       "    <tr>\n",
       "      <th>SWR131C</th>\n",
       "      <td>638</td>\n",
       "      <td>0.423197</td>\n",
       "      <td>LEBL</td>\n",
       "    </tr>\n",
       "    <tr>\n",
       "      <th>SWR218L</th>\n",
       "      <td>417</td>\n",
       "      <td>0.364508</td>\n",
       "      <td>LEPA</td>\n",
       "    </tr>\n",
       "    <tr>\n",
       "      <th>SWR129L</th>\n",
       "      <td>349</td>\n",
       "      <td>0.361032</td>\n",
       "      <td>EKCH</td>\n",
       "    </tr>\n",
       "    <tr>\n",
       "      <th>SWR125B</th>\n",
       "      <td>301</td>\n",
       "      <td>0.318937</td>\n",
       "      <td>EKCH</td>\n",
       "    </tr>\n",
       "    <tr>\n",
       "      <th>SWR734</th>\n",
       "      <td>405</td>\n",
       "      <td>0.224691</td>\n",
       "      <td>EHAM</td>\n",
       "    </tr>\n",
       "    <tr>\n",
       "      <th>SWR198F</th>\n",
       "      <td>600</td>\n",
       "      <td>0.138333</td>\n",
       "      <td>LEBL</td>\n",
       "    </tr>\n",
       "    <tr>\n",
       "      <th>SWR31J</th>\n",
       "      <td>413</td>\n",
       "      <td>0.101695</td>\n",
       "      <td>EGLL</td>\n",
       "    </tr>\n",
       "    <tr>\n",
       "      <th>TAP927M</th>\n",
       "      <td>479</td>\n",
       "      <td>0.060543</td>\n",
       "      <td>LPPR</td>\n",
       "    </tr>\n",
       "    <tr>\n",
       "      <th>FIN8PY</th>\n",
       "      <td>473</td>\n",
       "      <td>0.006342</td>\n",
       "      <td>EFHK</td>\n",
       "    </tr>\n",
       "    <tr>\n",
       "      <th>FIN6KP</th>\n",
       "      <td>536</td>\n",
       "      <td>0.005597</td>\n",
       "      <td>EFHK</td>\n",
       "    </tr>\n",
       "    <tr>\n",
       "      <th>AEE5ZH</th>\n",
       "      <td>437</td>\n",
       "      <td>0.002288</td>\n",
       "      <td>LGAV</td>\n",
       "    </tr>\n",
       "    <tr>\n",
       "      <th>SWR83GR</th>\n",
       "      <td>535</td>\n",
       "      <td>0.001869</td>\n",
       "      <td>LSGG</td>\n",
       "    </tr>\n",
       "  </tbody>\n",
       "</table>\n",
       "</div>"
      ],
      "text/plain": [
       "         from_16           dest_max\n",
       "           count      mean    first\n",
       "callsign                           \n",
       "SWR204K      314  0.853503     LPPR\n",
       "SWR204M      390  0.810256     LPPT\n",
       "SWR219J      513  0.771930     LEMG\n",
       "SWR42H       413  0.738499     EIDW\n",
       "SWR106Y      416  0.668269     LGAV\n",
       "SWR185N      602  0.616279     LGAV\n",
       "SWR248M      472  0.569915     LEMG\n",
       "SWR1956      305  0.445902     LEBL\n",
       "SWR131C      638  0.423197     LEBL\n",
       "SWR218L      417  0.364508     LEPA\n",
       "SWR129L      349  0.361032     EKCH\n",
       "SWR125B      301  0.318937     EKCH\n",
       "SWR734       405  0.224691     EHAM\n",
       "SWR198F      600  0.138333     LEBL\n",
       "SWR31J       413  0.101695     EGLL\n",
       "TAP927M      479  0.060543     LPPR\n",
       "FIN8PY       473  0.006342     EFHK\n",
       "FIN6KP       536  0.005597     EFHK\n",
       "AEE5ZH       437  0.002288     LGAV\n",
       "SWR83GR      535  0.001869     LSGG"
      ]
     },
     "execution_count": 5,
     "metadata": {},
     "output_type": "execute_result"
    }
   ],
   "source": [
    "top20cs = df.callsign.value_counts().head(20).index\n",
    "subset = df.query(\"callsign in @top20cs\")\n",
    "subset.groupby('callsign').agg({'from_16':['count', 'mean'], 'dest_max':'first'}).sort_values(('from_16', 'mean'), ascending=False)"
   ]
  },
  {
   "cell_type": "markdown",
   "metadata": {},
   "source": [
    "Let's have a look at the top 20 destinations:"
   ]
  },
  {
   "cell_type": "code",
   "execution_count": 6,
   "metadata": {},
   "outputs": [
    {
     "data": {
      "text/html": [
       "<div>\n",
       "<style scoped>\n",
       "    .dataframe tbody tr th:only-of-type {\n",
       "        vertical-align: middle;\n",
       "    }\n",
       "\n",
       "    .dataframe tbody tr th {\n",
       "        vertical-align: top;\n",
       "    }\n",
       "\n",
       "    .dataframe thead tr th {\n",
       "        text-align: left;\n",
       "    }\n",
       "\n",
       "    .dataframe thead tr:last-of-type th {\n",
       "        text-align: right;\n",
       "    }\n",
       "</style>\n",
       "<table border=\"1\" class=\"dataframe\">\n",
       "  <thead>\n",
       "    <tr>\n",
       "      <th></th>\n",
       "      <th colspan=\"2\" halign=\"left\">from_16</th>\n",
       "    </tr>\n",
       "    <tr>\n",
       "      <th></th>\n",
       "      <th>count</th>\n",
       "      <th>mean</th>\n",
       "    </tr>\n",
       "    <tr>\n",
       "      <th>dest_max</th>\n",
       "      <th></th>\n",
       "      <th></th>\n",
       "    </tr>\n",
       "  </thead>\n",
       "  <tbody>\n",
       "    <tr>\n",
       "      <th>EIDW</th>\n",
       "      <td>461</td>\n",
       "      <td>0.704989</td>\n",
       "    </tr>\n",
       "    <tr>\n",
       "      <th>LEMG</th>\n",
       "      <td>1324</td>\n",
       "      <td>0.642749</td>\n",
       "    </tr>\n",
       "    <tr>\n",
       "      <th>ESSA</th>\n",
       "      <td>536</td>\n",
       "      <td>0.567164</td>\n",
       "    </tr>\n",
       "    <tr>\n",
       "      <th>LPPR</th>\n",
       "      <td>474</td>\n",
       "      <td>0.527426</td>\n",
       "    </tr>\n",
       "    <tr>\n",
       "      <th>LGAV</th>\n",
       "      <td>1341</td>\n",
       "      <td>0.501119</td>\n",
       "    </tr>\n",
       "    <tr>\n",
       "      <th>LPPT</th>\n",
       "      <td>1849</td>\n",
       "      <td>0.447810</td>\n",
       "    </tr>\n",
       "    <tr>\n",
       "      <th>LQSA</th>\n",
       "      <td>464</td>\n",
       "      <td>0.346983</td>\n",
       "    </tr>\n",
       "    <tr>\n",
       "      <th>LEBL</th>\n",
       "      <td>2417</td>\n",
       "      <td>0.304510</td>\n",
       "    </tr>\n",
       "    <tr>\n",
       "      <th>LEPA</th>\n",
       "      <td>1284</td>\n",
       "      <td>0.271028</td>\n",
       "    </tr>\n",
       "    <tr>\n",
       "      <th>EKCH</th>\n",
       "      <td>1191</td>\n",
       "      <td>0.247691</td>\n",
       "    </tr>\n",
       "    <tr>\n",
       "      <th>EHAM</th>\n",
       "      <td>894</td>\n",
       "      <td>0.168904</td>\n",
       "    </tr>\n",
       "    <tr>\n",
       "      <th>EDDH</th>\n",
       "      <td>959</td>\n",
       "      <td>0.163712</td>\n",
       "    </tr>\n",
       "    <tr>\n",
       "      <th>LIRF</th>\n",
       "      <td>717</td>\n",
       "      <td>0.132497</td>\n",
       "    </tr>\n",
       "    <tr>\n",
       "      <th>EDDB</th>\n",
       "      <td>830</td>\n",
       "      <td>0.112048</td>\n",
       "    </tr>\n",
       "    <tr>\n",
       "      <th>LOWW</th>\n",
       "      <td>980</td>\n",
       "      <td>0.096939</td>\n",
       "    </tr>\n",
       "    <tr>\n",
       "      <th>EGLL</th>\n",
       "      <td>1646</td>\n",
       "      <td>0.070474</td>\n",
       "    </tr>\n",
       "    <tr>\n",
       "      <th>LTFM</th>\n",
       "      <td>2512</td>\n",
       "      <td>0.044984</td>\n",
       "    </tr>\n",
       "    <tr>\n",
       "      <th>EDDF</th>\n",
       "      <td>744</td>\n",
       "      <td>0.025538</td>\n",
       "    </tr>\n",
       "    <tr>\n",
       "      <th>LSGG</th>\n",
       "      <td>1211</td>\n",
       "      <td>0.020644</td>\n",
       "    </tr>\n",
       "    <tr>\n",
       "      <th>EFHK</th>\n",
       "      <td>1011</td>\n",
       "      <td>0.005935</td>\n",
       "    </tr>\n",
       "  </tbody>\n",
       "</table>\n",
       "</div>"
      ],
      "text/plain": [
       "         from_16          \n",
       "           count      mean\n",
       "dest_max                  \n",
       "EIDW         461  0.704989\n",
       "LEMG        1324  0.642749\n",
       "ESSA         536  0.567164\n",
       "LPPR         474  0.527426\n",
       "LGAV        1341  0.501119\n",
       "LPPT        1849  0.447810\n",
       "LQSA         464  0.346983\n",
       "LEBL        2417  0.304510\n",
       "LEPA        1284  0.271028\n",
       "EKCH        1191  0.247691\n",
       "EHAM         894  0.168904\n",
       "EDDH         959  0.163712\n",
       "LIRF         717  0.132497\n",
       "EDDB         830  0.112048\n",
       "LOWW         980  0.096939\n",
       "EGLL        1646  0.070474\n",
       "LTFM        2512  0.044984\n",
       "EDDF         744  0.025538\n",
       "LSGG        1211  0.020644\n",
       "EFHK        1011  0.005935"
      ]
     },
     "execution_count": 6,
     "metadata": {},
     "output_type": "execute_result"
    }
   ],
   "source": [
    "top20dest = df.dest_max.value_counts().head(20).index\n",
    "subset = df.query(\"dest_max in @top20dest\")\n",
    "subset.groupby('dest_max').agg({'from_16':['count', 'mean']}).sort_values(('from_16', 'mean'), ascending=False)"
   ]
  },
  {
   "cell_type": "markdown",
   "metadata": {},
   "source": [
    "# Preparing the dataset"
   ]
  },
  {
   "cell_type": "code",
   "execution_count": 7,
   "metadata": {},
   "outputs": [
    {
     "data": {
      "text/html": [
       "<div>\n",
       "<style scoped>\n",
       "    .dataframe tbody tr th:only-of-type {\n",
       "        vertical-align: middle;\n",
       "    }\n",
       "\n",
       "    .dataframe tbody tr th {\n",
       "        vertical-align: top;\n",
       "    }\n",
       "\n",
       "    .dataframe thead th {\n",
       "        text-align: right;\n",
       "    }\n",
       "</style>\n",
       "<table border=\"1\" class=\"dataframe\">\n",
       "  <thead>\n",
       "    <tr style=\"text-align: right;\">\n",
       "      <th></th>\n",
       "      <th>icao24</th>\n",
       "      <th>callsign</th>\n",
       "      <th>timestamp</th>\n",
       "      <th>runway</th>\n",
       "      <th>dest_max</th>\n",
       "      <th>dist_lszh</th>\n",
       "      <th>typecode</th>\n",
       "      <th>temperature</th>\n",
       "      <th>pressure</th>\n",
       "      <th>tailwind_16</th>\n",
       "      <th>tailwind_28</th>\n",
       "      <th>wind_gust</th>\n",
       "      <th>from_16</th>\n",
       "    </tr>\n",
       "  </thead>\n",
       "  <tbody>\n",
       "    <tr>\n",
       "      <th>0</th>\n",
       "      <td>4b168f</td>\n",
       "      <td>SWR185N</td>\n",
       "      <td>2018-01-01 08:59:28+00:00</td>\n",
       "      <td>28</td>\n",
       "      <td>LGAV</td>\n",
       "      <td>1989.017568</td>\n",
       "      <td>A321</td>\n",
       "      <td>5.0</td>\n",
       "      <td>1015.0</td>\n",
       "      <td>3.500000</td>\n",
       "      <td>3.500000</td>\n",
       "      <td>NaN</td>\n",
       "      <td>0</td>\n",
       "    </tr>\n",
       "    <tr>\n",
       "      <th>1</th>\n",
       "      <td>461fa4</td>\n",
       "      <td>FIN8PY</td>\n",
       "      <td>2018-01-01 10:04:38+00:00</td>\n",
       "      <td>28</td>\n",
       "      <td>EFHK</td>\n",
       "      <td>2278.074743</td>\n",
       "      <td>A321</td>\n",
       "      <td>6.0</td>\n",
       "      <td>1015.0</td>\n",
       "      <td>4.446262</td>\n",
       "      <td>8.356239</td>\n",
       "      <td>NaN</td>\n",
       "      <td>0</td>\n",
       "    </tr>\n",
       "    <tr>\n",
       "      <th>2</th>\n",
       "      <td>4baa8e</td>\n",
       "      <td>THY9SC</td>\n",
       "      <td>2018-01-01 10:20:24+00:00</td>\n",
       "      <td>28</td>\n",
       "      <td>LTFM</td>\n",
       "      <td>2337.168213</td>\n",
       "      <td>A321</td>\n",
       "      <td>6.0</td>\n",
       "      <td>1014.0</td>\n",
       "      <td>5.814342</td>\n",
       "      <td>10.927389</td>\n",
       "      <td>NaN</td>\n",
       "      <td>0</td>\n",
       "    </tr>\n",
       "    <tr>\n",
       "      <th>3</th>\n",
       "      <td>4b1696</td>\n",
       "      <td>SWR43B</td>\n",
       "      <td>2018-01-01 11:27:53+00:00</td>\n",
       "      <td>16</td>\n",
       "      <td>EGLL</td>\n",
       "      <td>1096.085110</td>\n",
       "      <td>A321</td>\n",
       "      <td>7.0</td>\n",
       "      <td>1013.0</td>\n",
       "      <td>2.257426</td>\n",
       "      <td>9.958578</td>\n",
       "      <td>NaN</td>\n",
       "      <td>1</td>\n",
       "    </tr>\n",
       "    <tr>\n",
       "      <th>4</th>\n",
       "      <td>4b1698</td>\n",
       "      <td>SWR204K</td>\n",
       "      <td>2018-01-01 11:29:38+00:00</td>\n",
       "      <td>16</td>\n",
       "      <td>LPPR</td>\n",
       "      <td>2035.584651</td>\n",
       "      <td>A321</td>\n",
       "      <td>7.0</td>\n",
       "      <td>1013.0</td>\n",
       "      <td>2.257426</td>\n",
       "      <td>9.958578</td>\n",
       "      <td>NaN</td>\n",
       "      <td>1</td>\n",
       "    </tr>\n",
       "    <tr>\n",
       "      <th>...</th>\n",
       "      <td>...</td>\n",
       "      <td>...</td>\n",
       "      <td>...</td>\n",
       "      <td>...</td>\n",
       "      <td>...</td>\n",
       "      <td>...</td>\n",
       "      <td>...</td>\n",
       "      <td>...</td>\n",
       "      <td>...</td>\n",
       "      <td>...</td>\n",
       "      <td>...</td>\n",
       "      <td>...</td>\n",
       "      <td>...</td>\n",
       "    </tr>\n",
       "    <tr>\n",
       "      <th>28240</th>\n",
       "      <td>4b194b</td>\n",
       "      <td>SWR211G</td>\n",
       "      <td>2023-02-09 17:15:51+00:00</td>\n",
       "      <td>28</td>\n",
       "      <td>EBBR</td>\n",
       "      <td>590.609032</td>\n",
       "      <td>A21N</td>\n",
       "      <td>3.0</td>\n",
       "      <td>1033.0</td>\n",
       "      <td>NaN</td>\n",
       "      <td>NaN</td>\n",
       "      <td>NaN</td>\n",
       "      <td>0</td>\n",
       "    </tr>\n",
       "    <tr>\n",
       "      <th>28241</th>\n",
       "      <td>49514a</td>\n",
       "      <td>TAP927Z</td>\n",
       "      <td>2023-02-09 17:19:31+00:00</td>\n",
       "      <td>28</td>\n",
       "      <td>LPPT</td>\n",
       "      <td>2188.615183</td>\n",
       "      <td>A21N</td>\n",
       "      <td>3.0</td>\n",
       "      <td>1033.0</td>\n",
       "      <td>NaN</td>\n",
       "      <td>NaN</td>\n",
       "      <td>NaN</td>\n",
       "      <td>0</td>\n",
       "    </tr>\n",
       "    <tr>\n",
       "      <th>28242</th>\n",
       "      <td>461fa4</td>\n",
       "      <td>FIN5XB</td>\n",
       "      <td>2023-02-09 18:18:21+00:00</td>\n",
       "      <td>28</td>\n",
       "      <td>EFHK</td>\n",
       "      <td>2278.074743</td>\n",
       "      <td>A321</td>\n",
       "      <td>0.0</td>\n",
       "      <td>1033.0</td>\n",
       "      <td>1.000000</td>\n",
       "      <td>-2.000000</td>\n",
       "      <td>NaN</td>\n",
       "      <td>0</td>\n",
       "    </tr>\n",
       "    <tr>\n",
       "      <th>28243</th>\n",
       "      <td>4bb26f</td>\n",
       "      <td>THY8GU</td>\n",
       "      <td>2023-02-09 18:28:57+00:00</td>\n",
       "      <td>28</td>\n",
       "      <td>LTFM</td>\n",
       "      <td>2337.168213</td>\n",
       "      <td>A21N</td>\n",
       "      <td>-1.0</td>\n",
       "      <td>1034.0</td>\n",
       "      <td>1.532089</td>\n",
       "      <td>-1.879385</td>\n",
       "      <td>NaN</td>\n",
       "      <td>0</td>\n",
       "    </tr>\n",
       "    <tr>\n",
       "      <th>28244</th>\n",
       "      <td>4078ef</td>\n",
       "      <td>EZY59JD</td>\n",
       "      <td>2023-02-09 19:39:55+00:00</td>\n",
       "      <td>28</td>\n",
       "      <td>EGKK</td>\n",
       "      <td>1054.374661</td>\n",
       "      <td>A21N</td>\n",
       "      <td>0.0</td>\n",
       "      <td>0.0</td>\n",
       "      <td>-0.000000</td>\n",
       "      <td>0.000000</td>\n",
       "      <td>0.0</td>\n",
       "      <td>0</td>\n",
       "    </tr>\n",
       "  </tbody>\n",
       "</table>\n",
       "<p>28245 rows × 13 columns</p>\n",
       "</div>"
      ],
      "text/plain": [
       "       icao24 callsign                  timestamp  runway dest_max  \\\n",
       "0      4b168f  SWR185N  2018-01-01 08:59:28+00:00      28     LGAV   \n",
       "1      461fa4   FIN8PY  2018-01-01 10:04:38+00:00      28     EFHK   \n",
       "2      4baa8e   THY9SC  2018-01-01 10:20:24+00:00      28     LTFM   \n",
       "3      4b1696   SWR43B  2018-01-01 11:27:53+00:00      16     EGLL   \n",
       "4      4b1698  SWR204K  2018-01-01 11:29:38+00:00      16     LPPR   \n",
       "...       ...      ...                        ...     ...      ...   \n",
       "28240  4b194b  SWR211G  2023-02-09 17:15:51+00:00      28     EBBR   \n",
       "28241  49514a  TAP927Z  2023-02-09 17:19:31+00:00      28     LPPT   \n",
       "28242  461fa4   FIN5XB  2023-02-09 18:18:21+00:00      28     EFHK   \n",
       "28243  4bb26f   THY8GU  2023-02-09 18:28:57+00:00      28     LTFM   \n",
       "28244  4078ef  EZY59JD  2023-02-09 19:39:55+00:00      28     EGKK   \n",
       "\n",
       "         dist_lszh typecode  temperature  pressure  tailwind_16  tailwind_28  \\\n",
       "0      1989.017568     A321          5.0    1015.0     3.500000     3.500000   \n",
       "1      2278.074743     A321          6.0    1015.0     4.446262     8.356239   \n",
       "2      2337.168213     A321          6.0    1014.0     5.814342    10.927389   \n",
       "3      1096.085110     A321          7.0    1013.0     2.257426     9.958578   \n",
       "4      2035.584651     A321          7.0    1013.0     2.257426     9.958578   \n",
       "...            ...      ...          ...       ...          ...          ...   \n",
       "28240   590.609032     A21N          3.0    1033.0          NaN          NaN   \n",
       "28241  2188.615183     A21N          3.0    1033.0          NaN          NaN   \n",
       "28242  2278.074743     A321          0.0    1033.0     1.000000    -2.000000   \n",
       "28243  2337.168213     A21N         -1.0    1034.0     1.532089    -1.879385   \n",
       "28244  1054.374661     A21N          0.0       0.0    -0.000000     0.000000   \n",
       "\n",
       "       wind_gust  from_16  \n",
       "0            NaN        0  \n",
       "1            NaN        0  \n",
       "2            NaN        0  \n",
       "3            NaN        1  \n",
       "4            NaN        1  \n",
       "...          ...      ...  \n",
       "28240        NaN        0  \n",
       "28241        NaN        0  \n",
       "28242        NaN        0  \n",
       "28243        NaN        0  \n",
       "28244        0.0        0  \n",
       "\n",
       "[28245 rows x 13 columns]"
      ]
     },
     "execution_count": 7,
     "metadata": {},
     "output_type": "execute_result"
    }
   ],
   "source": [
    "df"
   ]
  },
  {
   "cell_type": "markdown",
   "metadata": {},
   "source": [
    "Using the scikit learn library, we will create a training and testing dataset:"
   ]
  },
  {
   "cell_type": "code",
   "execution_count": 8,
   "metadata": {},
   "outputs": [
    {
     "data": {
      "text/plain": [
       "0        SWR\n",
       "1        FIN\n",
       "2        THY\n",
       "3        SWR\n",
       "4        SWR\n",
       "        ... \n",
       "28240    SWR\n",
       "28241    TAP\n",
       "28242    FIN\n",
       "28243    THY\n",
       "28244    EZY\n",
       "Name: airline, Length: 28245, dtype: object"
      ]
     },
     "execution_count": 8,
     "metadata": {},
     "output_type": "execute_result"
    }
   ],
   "source": [
    "df['timestamp'] = pd.to_datetime(df.timestamp)\n",
    "df['hour'] = df.timestamp.dt.hour\n",
    "df['hour']\n",
    "df['dow'] = df.timestamp.dt.dayofweek\n",
    "df['weekend'] = df.dow.isin([5,6])\n",
    "df['weekend']\n",
    "\n",
    "df['airline'] = df.callsign.str[:3]\n",
    "df['airline']\n"
   ]
  },
  {
   "cell_type": "code",
   "execution_count": 9,
   "metadata": {},
   "outputs": [
    {
     "data": {
      "text/plain": [
       "((19771, 42), (19771,), (8474, 42), (8474,))"
      ]
     },
     "execution_count": 9,
     "metadata": {},
     "output_type": "execute_result"
    }
   ],
   "source": [
    "from sklearn.model_selection import train_test_split\n",
    "# Convert categorical features to dummy variables\n",
    "categorical_features = ['callsign', 'dest_max', 'airline']\n",
    "df_features = pd.get_dummies(df, columns=categorical_features, drop_first=True)\n",
    "\n",
    "# Define features including numeric ones and all dummy columns from 'callsign' and 'dest_max'\n",
    "features = [\n",
    "    \"temperature\",\n",
    "    # \"pressure\",\n",
    "    \"tailwind_28\",\n",
    "    \"tailwind_16\",\n",
    "    \"dist_lszh\",\n",
    "    \"hour\",\n",
    "    \"weekend\"\n",
    "] + [c for c in df_features.columns if c.startswith('airline_')]\n",
    "\n",
    "# Define features and target variable\n",
    "X = df_features[features]\n",
    "y = df_features[\"from_16\"]\n",
    "\n",
    "# Split data into training and testing sets\n",
    "X_train, X_test, y_train, y_test = train_test_split(\n",
    "    X,\n",
    "    y,\n",
    "    test_size=0.3,\n",
    "    random_state=42,\n",
    ")\n",
    "X_train.shape, y_train.shape, X_test.shape, y_test.shape"
   ]
  },
  {
   "cell_type": "code",
   "execution_count": 10,
   "metadata": {},
   "outputs": [
    {
     "data": {
      "text/html": [
       "<div>\n",
       "<style scoped>\n",
       "    .dataframe tbody tr th:only-of-type {\n",
       "        vertical-align: middle;\n",
       "    }\n",
       "\n",
       "    .dataframe tbody tr th {\n",
       "        vertical-align: top;\n",
       "    }\n",
       "\n",
       "    .dataframe thead th {\n",
       "        text-align: right;\n",
       "    }\n",
       "</style>\n",
       "<table border=\"1\" class=\"dataframe\">\n",
       "  <thead>\n",
       "    <tr style=\"text-align: right;\">\n",
       "      <th></th>\n",
       "      <th>temperature</th>\n",
       "      <th>tailwind_28</th>\n",
       "      <th>tailwind_16</th>\n",
       "      <th>dist_lszh</th>\n",
       "      <th>hour</th>\n",
       "      <th>weekend</th>\n",
       "      <th>airline_AEA</th>\n",
       "      <th>airline_AEE</th>\n",
       "      <th>airline_AFL</th>\n",
       "      <th>airline_AFR</th>\n",
       "      <th>...</th>\n",
       "      <th>airline_OMD</th>\n",
       "      <th>airline_PGT</th>\n",
       "      <th>airline_RJA</th>\n",
       "      <th>airline_SAS</th>\n",
       "      <th>airline_SWR</th>\n",
       "      <th>airline_TAP</th>\n",
       "      <th>airline_THY</th>\n",
       "      <th>airline_TUI</th>\n",
       "      <th>airline_VLG</th>\n",
       "      <th>airline_WZZ</th>\n",
       "    </tr>\n",
       "  </thead>\n",
       "  <tbody>\n",
       "    <tr>\n",
       "      <th>4271</th>\n",
       "      <td>25.0</td>\n",
       "      <td>NaN</td>\n",
       "      <td>NaN</td>\n",
       "      <td>2278.074743</td>\n",
       "      <td>9</td>\n",
       "      <td>True</td>\n",
       "      <td>False</td>\n",
       "      <td>False</td>\n",
       "      <td>False</td>\n",
       "      <td>False</td>\n",
       "      <td>...</td>\n",
       "      <td>False</td>\n",
       "      <td>False</td>\n",
       "      <td>False</td>\n",
       "      <td>False</td>\n",
       "      <td>False</td>\n",
       "      <td>False</td>\n",
       "      <td>False</td>\n",
       "      <td>False</td>\n",
       "      <td>False</td>\n",
       "      <td>False</td>\n",
       "    </tr>\n",
       "    <tr>\n",
       "      <th>5835</th>\n",
       "      <td>20.0</td>\n",
       "      <td>NaN</td>\n",
       "      <td>NaN</td>\n",
       "      <td>697.347601</td>\n",
       "      <td>10</td>\n",
       "      <td>False</td>\n",
       "      <td>False</td>\n",
       "      <td>False</td>\n",
       "      <td>False</td>\n",
       "      <td>False</td>\n",
       "      <td>...</td>\n",
       "      <td>False</td>\n",
       "      <td>False</td>\n",
       "      <td>False</td>\n",
       "      <td>False</td>\n",
       "      <td>True</td>\n",
       "      <td>False</td>\n",
       "      <td>False</td>\n",
       "      <td>False</td>\n",
       "      <td>False</td>\n",
       "      <td>False</td>\n",
       "    </tr>\n",
       "    <tr>\n",
       "      <th>20540</th>\n",
       "      <td>25.0</td>\n",
       "      <td>-2.394141e+00</td>\n",
       "      <td>-4.499513</td>\n",
       "      <td>1156.474177</td>\n",
       "      <td>15</td>\n",
       "      <td>True</td>\n",
       "      <td>False</td>\n",
       "      <td>False</td>\n",
       "      <td>False</td>\n",
       "      <td>False</td>\n",
       "      <td>...</td>\n",
       "      <td>False</td>\n",
       "      <td>False</td>\n",
       "      <td>False</td>\n",
       "      <td>False</td>\n",
       "      <td>True</td>\n",
       "      <td>False</td>\n",
       "      <td>False</td>\n",
       "      <td>False</td>\n",
       "      <td>False</td>\n",
       "      <td>False</td>\n",
       "    </tr>\n",
       "    <tr>\n",
       "      <th>8739</th>\n",
       "      <td>5.0</td>\n",
       "      <td>1.224647e-16</td>\n",
       "      <td>1.732051</td>\n",
       "      <td>590.609032</td>\n",
       "      <td>16</td>\n",
       "      <td>False</td>\n",
       "      <td>False</td>\n",
       "      <td>False</td>\n",
       "      <td>False</td>\n",
       "      <td>False</td>\n",
       "      <td>...</td>\n",
       "      <td>False</td>\n",
       "      <td>False</td>\n",
       "      <td>False</td>\n",
       "      <td>False</td>\n",
       "      <td>True</td>\n",
       "      <td>False</td>\n",
       "      <td>False</td>\n",
       "      <td>False</td>\n",
       "      <td>False</td>\n",
       "      <td>False</td>\n",
       "    </tr>\n",
       "    <tr>\n",
       "      <th>18622</th>\n",
       "      <td>10.0</td>\n",
       "      <td>5.908847e+00</td>\n",
       "      <td>-2.052121</td>\n",
       "      <td>2337.168213</td>\n",
       "      <td>17</td>\n",
       "      <td>False</td>\n",
       "      <td>False</td>\n",
       "      <td>False</td>\n",
       "      <td>False</td>\n",
       "      <td>False</td>\n",
       "      <td>...</td>\n",
       "      <td>False</td>\n",
       "      <td>False</td>\n",
       "      <td>False</td>\n",
       "      <td>False</td>\n",
       "      <td>False</td>\n",
       "      <td>False</td>\n",
       "      <td>True</td>\n",
       "      <td>False</td>\n",
       "      <td>False</td>\n",
       "      <td>False</td>\n",
       "    </tr>\n",
       "    <tr>\n",
       "      <th>...</th>\n",
       "      <td>...</td>\n",
       "      <td>...</td>\n",
       "      <td>...</td>\n",
       "      <td>...</td>\n",
       "      <td>...</td>\n",
       "      <td>...</td>\n",
       "      <td>...</td>\n",
       "      <td>...</td>\n",
       "      <td>...</td>\n",
       "      <td>...</td>\n",
       "      <td>...</td>\n",
       "      <td>...</td>\n",
       "      <td>...</td>\n",
       "      <td>...</td>\n",
       "      <td>...</td>\n",
       "      <td>...</td>\n",
       "      <td>...</td>\n",
       "      <td>...</td>\n",
       "      <td>...</td>\n",
       "      <td>...</td>\n",
       "      <td>...</td>\n",
       "    </tr>\n",
       "    <tr>\n",
       "      <th>21575</th>\n",
       "      <td>13.0</td>\n",
       "      <td>NaN</td>\n",
       "      <td>NaN</td>\n",
       "      <td>2337.168213</td>\n",
       "      <td>10</td>\n",
       "      <td>True</td>\n",
       "      <td>False</td>\n",
       "      <td>False</td>\n",
       "      <td>False</td>\n",
       "      <td>False</td>\n",
       "      <td>...</td>\n",
       "      <td>False</td>\n",
       "      <td>False</td>\n",
       "      <td>False</td>\n",
       "      <td>False</td>\n",
       "      <td>False</td>\n",
       "      <td>False</td>\n",
       "      <td>True</td>\n",
       "      <td>False</td>\n",
       "      <td>False</td>\n",
       "      <td>False</td>\n",
       "    </tr>\n",
       "    <tr>\n",
       "      <th>5390</th>\n",
       "      <td>18.0</td>\n",
       "      <td>-6.945927e-01</td>\n",
       "      <td>-3.064178</td>\n",
       "      <td>2278.074743</td>\n",
       "      <td>17</td>\n",
       "      <td>True</td>\n",
       "      <td>False</td>\n",
       "      <td>False</td>\n",
       "      <td>False</td>\n",
       "      <td>False</td>\n",
       "      <td>...</td>\n",
       "      <td>False</td>\n",
       "      <td>False</td>\n",
       "      <td>False</td>\n",
       "      <td>False</td>\n",
       "      <td>False</td>\n",
       "      <td>False</td>\n",
       "      <td>False</td>\n",
       "      <td>False</td>\n",
       "      <td>False</td>\n",
       "      <td>False</td>\n",
       "    </tr>\n",
       "    <tr>\n",
       "      <th>860</th>\n",
       "      <td>0.0</td>\n",
       "      <td>-2.298133e+00</td>\n",
       "      <td>2.819078</td>\n",
       "      <td>696.018987</td>\n",
       "      <td>12</td>\n",
       "      <td>True</td>\n",
       "      <td>False</td>\n",
       "      <td>False</td>\n",
       "      <td>False</td>\n",
       "      <td>False</td>\n",
       "      <td>...</td>\n",
       "      <td>False</td>\n",
       "      <td>False</td>\n",
       "      <td>False</td>\n",
       "      <td>False</td>\n",
       "      <td>True</td>\n",
       "      <td>False</td>\n",
       "      <td>False</td>\n",
       "      <td>False</td>\n",
       "      <td>False</td>\n",
       "      <td>False</td>\n",
       "    </tr>\n",
       "    <tr>\n",
       "      <th>15795</th>\n",
       "      <td>2.0</td>\n",
       "      <td>NaN</td>\n",
       "      <td>NaN</td>\n",
       "      <td>681.132627</td>\n",
       "      <td>12</td>\n",
       "      <td>True</td>\n",
       "      <td>False</td>\n",
       "      <td>False</td>\n",
       "      <td>False</td>\n",
       "      <td>False</td>\n",
       "      <td>...</td>\n",
       "      <td>False</td>\n",
       "      <td>False</td>\n",
       "      <td>False</td>\n",
       "      <td>False</td>\n",
       "      <td>True</td>\n",
       "      <td>False</td>\n",
       "      <td>False</td>\n",
       "      <td>False</td>\n",
       "      <td>False</td>\n",
       "      <td>False</td>\n",
       "    </tr>\n",
       "    <tr>\n",
       "      <th>23654</th>\n",
       "      <td>15.0</td>\n",
       "      <td>-6.000000e+00</td>\n",
       "      <td>3.000000</td>\n",
       "      <td>688.771981</td>\n",
       "      <td>16</td>\n",
       "      <td>False</td>\n",
       "      <td>False</td>\n",
       "      <td>False</td>\n",
       "      <td>False</td>\n",
       "      <td>False</td>\n",
       "      <td>...</td>\n",
       "      <td>False</td>\n",
       "      <td>False</td>\n",
       "      <td>False</td>\n",
       "      <td>False</td>\n",
       "      <td>True</td>\n",
       "      <td>False</td>\n",
       "      <td>False</td>\n",
       "      <td>False</td>\n",
       "      <td>False</td>\n",
       "      <td>False</td>\n",
       "    </tr>\n",
       "  </tbody>\n",
       "</table>\n",
       "<p>19771 rows × 42 columns</p>\n",
       "</div>"
      ],
      "text/plain": [
       "       temperature   tailwind_28  tailwind_16    dist_lszh  hour  weekend  \\\n",
       "4271          25.0           NaN          NaN  2278.074743     9     True   \n",
       "5835          20.0           NaN          NaN   697.347601    10    False   \n",
       "20540         25.0 -2.394141e+00    -4.499513  1156.474177    15     True   \n",
       "8739           5.0  1.224647e-16     1.732051   590.609032    16    False   \n",
       "18622         10.0  5.908847e+00    -2.052121  2337.168213    17    False   \n",
       "...            ...           ...          ...          ...   ...      ...   \n",
       "21575         13.0           NaN          NaN  2337.168213    10     True   \n",
       "5390          18.0 -6.945927e-01    -3.064178  2278.074743    17     True   \n",
       "860            0.0 -2.298133e+00     2.819078   696.018987    12     True   \n",
       "15795          2.0           NaN          NaN   681.132627    12     True   \n",
       "23654         15.0 -6.000000e+00     3.000000   688.771981    16    False   \n",
       "\n",
       "       airline_AEA  airline_AEE  airline_AFL  airline_AFR  ...  airline_OMD  \\\n",
       "4271         False        False        False        False  ...        False   \n",
       "5835         False        False        False        False  ...        False   \n",
       "20540        False        False        False        False  ...        False   \n",
       "8739         False        False        False        False  ...        False   \n",
       "18622        False        False        False        False  ...        False   \n",
       "...            ...          ...          ...          ...  ...          ...   \n",
       "21575        False        False        False        False  ...        False   \n",
       "5390         False        False        False        False  ...        False   \n",
       "860          False        False        False        False  ...        False   \n",
       "15795        False        False        False        False  ...        False   \n",
       "23654        False        False        False        False  ...        False   \n",
       "\n",
       "       airline_PGT  airline_RJA  airline_SAS  airline_SWR  airline_TAP  \\\n",
       "4271         False        False        False        False        False   \n",
       "5835         False        False        False         True        False   \n",
       "20540        False        False        False         True        False   \n",
       "8739         False        False        False         True        False   \n",
       "18622        False        False        False        False        False   \n",
       "...            ...          ...          ...          ...          ...   \n",
       "21575        False        False        False        False        False   \n",
       "5390         False        False        False        False        False   \n",
       "860          False        False        False         True        False   \n",
       "15795        False        False        False         True        False   \n",
       "23654        False        False        False         True        False   \n",
       "\n",
       "       airline_THY  airline_TUI  airline_VLG  airline_WZZ  \n",
       "4271         False        False        False        False  \n",
       "5835         False        False        False        False  \n",
       "20540        False        False        False        False  \n",
       "8739         False        False        False        False  \n",
       "18622         True        False        False        False  \n",
       "...            ...          ...          ...          ...  \n",
       "21575         True        False        False        False  \n",
       "5390         False        False        False        False  \n",
       "860          False        False        False        False  \n",
       "15795        False        False        False        False  \n",
       "23654        False        False        False        False  \n",
       "\n",
       "[19771 rows x 42 columns]"
      ]
     },
     "execution_count": 10,
     "metadata": {},
     "output_type": "execute_result"
    }
   ],
   "source": [
    "X_train"
   ]
  },
  {
   "cell_type": "code",
   "execution_count": 11,
   "metadata": {},
   "outputs": [
    {
     "data": {
      "text/html": [
       "<style>#sk-container-id-1 {\n",
       "  /* Definition of color scheme common for light and dark mode */\n",
       "  --sklearn-color-text: #000;\n",
       "  --sklearn-color-text-muted: #666;\n",
       "  --sklearn-color-line: gray;\n",
       "  /* Definition of color scheme for unfitted estimators */\n",
       "  --sklearn-color-unfitted-level-0: #fff5e6;\n",
       "  --sklearn-color-unfitted-level-1: #f6e4d2;\n",
       "  --sklearn-color-unfitted-level-2: #ffe0b3;\n",
       "  --sklearn-color-unfitted-level-3: chocolate;\n",
       "  /* Definition of color scheme for fitted estimators */\n",
       "  --sklearn-color-fitted-level-0: #f0f8ff;\n",
       "  --sklearn-color-fitted-level-1: #d4ebff;\n",
       "  --sklearn-color-fitted-level-2: #b3dbfd;\n",
       "  --sklearn-color-fitted-level-3: cornflowerblue;\n",
       "\n",
       "  /* Specific color for light theme */\n",
       "  --sklearn-color-text-on-default-background: var(--sg-text-color, var(--theme-code-foreground, var(--jp-content-font-color1, black)));\n",
       "  --sklearn-color-background: var(--sg-background-color, var(--theme-background, var(--jp-layout-color0, white)));\n",
       "  --sklearn-color-border-box: var(--sg-text-color, var(--theme-code-foreground, var(--jp-content-font-color1, black)));\n",
       "  --sklearn-color-icon: #696969;\n",
       "\n",
       "  @media (prefers-color-scheme: dark) {\n",
       "    /* Redefinition of color scheme for dark theme */\n",
       "    --sklearn-color-text-on-default-background: var(--sg-text-color, var(--theme-code-foreground, var(--jp-content-font-color1, white)));\n",
       "    --sklearn-color-background: var(--sg-background-color, var(--theme-background, var(--jp-layout-color0, #111)));\n",
       "    --sklearn-color-border-box: var(--sg-text-color, var(--theme-code-foreground, var(--jp-content-font-color1, white)));\n",
       "    --sklearn-color-icon: #878787;\n",
       "  }\n",
       "}\n",
       "\n",
       "#sk-container-id-1 {\n",
       "  color: var(--sklearn-color-text);\n",
       "}\n",
       "\n",
       "#sk-container-id-1 pre {\n",
       "  padding: 0;\n",
       "}\n",
       "\n",
       "#sk-container-id-1 input.sk-hidden--visually {\n",
       "  border: 0;\n",
       "  clip: rect(1px 1px 1px 1px);\n",
       "  clip: rect(1px, 1px, 1px, 1px);\n",
       "  height: 1px;\n",
       "  margin: -1px;\n",
       "  overflow: hidden;\n",
       "  padding: 0;\n",
       "  position: absolute;\n",
       "  width: 1px;\n",
       "}\n",
       "\n",
       "#sk-container-id-1 div.sk-dashed-wrapped {\n",
       "  border: 1px dashed var(--sklearn-color-line);\n",
       "  margin: 0 0.4em 0.5em 0.4em;\n",
       "  box-sizing: border-box;\n",
       "  padding-bottom: 0.4em;\n",
       "  background-color: var(--sklearn-color-background);\n",
       "}\n",
       "\n",
       "#sk-container-id-1 div.sk-container {\n",
       "  /* jupyter's `normalize.less` sets `[hidden] { display: none; }`\n",
       "     but bootstrap.min.css set `[hidden] { display: none !important; }`\n",
       "     so we also need the `!important` here to be able to override the\n",
       "     default hidden behavior on the sphinx rendered scikit-learn.org.\n",
       "     See: https://github.com/scikit-learn/scikit-learn/issues/21755 */\n",
       "  display: inline-block !important;\n",
       "  position: relative;\n",
       "}\n",
       "\n",
       "#sk-container-id-1 div.sk-text-repr-fallback {\n",
       "  display: none;\n",
       "}\n",
       "\n",
       "div.sk-parallel-item,\n",
       "div.sk-serial,\n",
       "div.sk-item {\n",
       "  /* draw centered vertical line to link estimators */\n",
       "  background-image: linear-gradient(var(--sklearn-color-text-on-default-background), var(--sklearn-color-text-on-default-background));\n",
       "  background-size: 2px 100%;\n",
       "  background-repeat: no-repeat;\n",
       "  background-position: center center;\n",
       "}\n",
       "\n",
       "/* Parallel-specific style estimator block */\n",
       "\n",
       "#sk-container-id-1 div.sk-parallel-item::after {\n",
       "  content: \"\";\n",
       "  width: 100%;\n",
       "  border-bottom: 2px solid var(--sklearn-color-text-on-default-background);\n",
       "  flex-grow: 1;\n",
       "}\n",
       "\n",
       "#sk-container-id-1 div.sk-parallel {\n",
       "  display: flex;\n",
       "  align-items: stretch;\n",
       "  justify-content: center;\n",
       "  background-color: var(--sklearn-color-background);\n",
       "  position: relative;\n",
       "}\n",
       "\n",
       "#sk-container-id-1 div.sk-parallel-item {\n",
       "  display: flex;\n",
       "  flex-direction: column;\n",
       "}\n",
       "\n",
       "#sk-container-id-1 div.sk-parallel-item:first-child::after {\n",
       "  align-self: flex-end;\n",
       "  width: 50%;\n",
       "}\n",
       "\n",
       "#sk-container-id-1 div.sk-parallel-item:last-child::after {\n",
       "  align-self: flex-start;\n",
       "  width: 50%;\n",
       "}\n",
       "\n",
       "#sk-container-id-1 div.sk-parallel-item:only-child::after {\n",
       "  width: 0;\n",
       "}\n",
       "\n",
       "/* Serial-specific style estimator block */\n",
       "\n",
       "#sk-container-id-1 div.sk-serial {\n",
       "  display: flex;\n",
       "  flex-direction: column;\n",
       "  align-items: center;\n",
       "  background-color: var(--sklearn-color-background);\n",
       "  padding-right: 1em;\n",
       "  padding-left: 1em;\n",
       "}\n",
       "\n",
       "\n",
       "/* Toggleable style: style used for estimator/Pipeline/ColumnTransformer box that is\n",
       "clickable and can be expanded/collapsed.\n",
       "- Pipeline and ColumnTransformer use this feature and define the default style\n",
       "- Estimators will overwrite some part of the style using the `sk-estimator` class\n",
       "*/\n",
       "\n",
       "/* Pipeline and ColumnTransformer style (default) */\n",
       "\n",
       "#sk-container-id-1 div.sk-toggleable {\n",
       "  /* Default theme specific background. It is overwritten whether we have a\n",
       "  specific estimator or a Pipeline/ColumnTransformer */\n",
       "  background-color: var(--sklearn-color-background);\n",
       "}\n",
       "\n",
       "/* Toggleable label */\n",
       "#sk-container-id-1 label.sk-toggleable__label {\n",
       "  cursor: pointer;\n",
       "  display: flex;\n",
       "  width: 100%;\n",
       "  margin-bottom: 0;\n",
       "  padding: 0.5em;\n",
       "  box-sizing: border-box;\n",
       "  text-align: center;\n",
       "  align-items: start;\n",
       "  justify-content: space-between;\n",
       "  gap: 0.5em;\n",
       "}\n",
       "\n",
       "#sk-container-id-1 label.sk-toggleable__label .caption {\n",
       "  font-size: 0.6rem;\n",
       "  font-weight: lighter;\n",
       "  color: var(--sklearn-color-text-muted);\n",
       "}\n",
       "\n",
       "#sk-container-id-1 label.sk-toggleable__label-arrow:before {\n",
       "  /* Arrow on the left of the label */\n",
       "  content: \"▸\";\n",
       "  float: left;\n",
       "  margin-right: 0.25em;\n",
       "  color: var(--sklearn-color-icon);\n",
       "}\n",
       "\n",
       "#sk-container-id-1 label.sk-toggleable__label-arrow:hover:before {\n",
       "  color: var(--sklearn-color-text);\n",
       "}\n",
       "\n",
       "/* Toggleable content - dropdown */\n",
       "\n",
       "#sk-container-id-1 div.sk-toggleable__content {\n",
       "  max-height: 0;\n",
       "  max-width: 0;\n",
       "  overflow: hidden;\n",
       "  text-align: left;\n",
       "  /* unfitted */\n",
       "  background-color: var(--sklearn-color-unfitted-level-0);\n",
       "}\n",
       "\n",
       "#sk-container-id-1 div.sk-toggleable__content.fitted {\n",
       "  /* fitted */\n",
       "  background-color: var(--sklearn-color-fitted-level-0);\n",
       "}\n",
       "\n",
       "#sk-container-id-1 div.sk-toggleable__content pre {\n",
       "  margin: 0.2em;\n",
       "  border-radius: 0.25em;\n",
       "  color: var(--sklearn-color-text);\n",
       "  /* unfitted */\n",
       "  background-color: var(--sklearn-color-unfitted-level-0);\n",
       "}\n",
       "\n",
       "#sk-container-id-1 div.sk-toggleable__content.fitted pre {\n",
       "  /* unfitted */\n",
       "  background-color: var(--sklearn-color-fitted-level-0);\n",
       "}\n",
       "\n",
       "#sk-container-id-1 input.sk-toggleable__control:checked~div.sk-toggleable__content {\n",
       "  /* Expand drop-down */\n",
       "  max-height: 200px;\n",
       "  max-width: 100%;\n",
       "  overflow: auto;\n",
       "}\n",
       "\n",
       "#sk-container-id-1 input.sk-toggleable__control:checked~label.sk-toggleable__label-arrow:before {\n",
       "  content: \"▾\";\n",
       "}\n",
       "\n",
       "/* Pipeline/ColumnTransformer-specific style */\n",
       "\n",
       "#sk-container-id-1 div.sk-label input.sk-toggleable__control:checked~label.sk-toggleable__label {\n",
       "  color: var(--sklearn-color-text);\n",
       "  background-color: var(--sklearn-color-unfitted-level-2);\n",
       "}\n",
       "\n",
       "#sk-container-id-1 div.sk-label.fitted input.sk-toggleable__control:checked~label.sk-toggleable__label {\n",
       "  background-color: var(--sklearn-color-fitted-level-2);\n",
       "}\n",
       "\n",
       "/* Estimator-specific style */\n",
       "\n",
       "/* Colorize estimator box */\n",
       "#sk-container-id-1 div.sk-estimator input.sk-toggleable__control:checked~label.sk-toggleable__label {\n",
       "  /* unfitted */\n",
       "  background-color: var(--sklearn-color-unfitted-level-2);\n",
       "}\n",
       "\n",
       "#sk-container-id-1 div.sk-estimator.fitted input.sk-toggleable__control:checked~label.sk-toggleable__label {\n",
       "  /* fitted */\n",
       "  background-color: var(--sklearn-color-fitted-level-2);\n",
       "}\n",
       "\n",
       "#sk-container-id-1 div.sk-label label.sk-toggleable__label,\n",
       "#sk-container-id-1 div.sk-label label {\n",
       "  /* The background is the default theme color */\n",
       "  color: var(--sklearn-color-text-on-default-background);\n",
       "}\n",
       "\n",
       "/* On hover, darken the color of the background */\n",
       "#sk-container-id-1 div.sk-label:hover label.sk-toggleable__label {\n",
       "  color: var(--sklearn-color-text);\n",
       "  background-color: var(--sklearn-color-unfitted-level-2);\n",
       "}\n",
       "\n",
       "/* Label box, darken color on hover, fitted */\n",
       "#sk-container-id-1 div.sk-label.fitted:hover label.sk-toggleable__label.fitted {\n",
       "  color: var(--sklearn-color-text);\n",
       "  background-color: var(--sklearn-color-fitted-level-2);\n",
       "}\n",
       "\n",
       "/* Estimator label */\n",
       "\n",
       "#sk-container-id-1 div.sk-label label {\n",
       "  font-family: monospace;\n",
       "  font-weight: bold;\n",
       "  display: inline-block;\n",
       "  line-height: 1.2em;\n",
       "}\n",
       "\n",
       "#sk-container-id-1 div.sk-label-container {\n",
       "  text-align: center;\n",
       "}\n",
       "\n",
       "/* Estimator-specific */\n",
       "#sk-container-id-1 div.sk-estimator {\n",
       "  font-family: monospace;\n",
       "  border: 1px dotted var(--sklearn-color-border-box);\n",
       "  border-radius: 0.25em;\n",
       "  box-sizing: border-box;\n",
       "  margin-bottom: 0.5em;\n",
       "  /* unfitted */\n",
       "  background-color: var(--sklearn-color-unfitted-level-0);\n",
       "}\n",
       "\n",
       "#sk-container-id-1 div.sk-estimator.fitted {\n",
       "  /* fitted */\n",
       "  background-color: var(--sklearn-color-fitted-level-0);\n",
       "}\n",
       "\n",
       "/* on hover */\n",
       "#sk-container-id-1 div.sk-estimator:hover {\n",
       "  /* unfitted */\n",
       "  background-color: var(--sklearn-color-unfitted-level-2);\n",
       "}\n",
       "\n",
       "#sk-container-id-1 div.sk-estimator.fitted:hover {\n",
       "  /* fitted */\n",
       "  background-color: var(--sklearn-color-fitted-level-2);\n",
       "}\n",
       "\n",
       "/* Specification for estimator info (e.g. \"i\" and \"?\") */\n",
       "\n",
       "/* Common style for \"i\" and \"?\" */\n",
       "\n",
       ".sk-estimator-doc-link,\n",
       "a:link.sk-estimator-doc-link,\n",
       "a:visited.sk-estimator-doc-link {\n",
       "  float: right;\n",
       "  font-size: smaller;\n",
       "  line-height: 1em;\n",
       "  font-family: monospace;\n",
       "  background-color: var(--sklearn-color-background);\n",
       "  border-radius: 1em;\n",
       "  height: 1em;\n",
       "  width: 1em;\n",
       "  text-decoration: none !important;\n",
       "  margin-left: 0.5em;\n",
       "  text-align: center;\n",
       "  /* unfitted */\n",
       "  border: var(--sklearn-color-unfitted-level-1) 1pt solid;\n",
       "  color: var(--sklearn-color-unfitted-level-1);\n",
       "}\n",
       "\n",
       ".sk-estimator-doc-link.fitted,\n",
       "a:link.sk-estimator-doc-link.fitted,\n",
       "a:visited.sk-estimator-doc-link.fitted {\n",
       "  /* fitted */\n",
       "  border: var(--sklearn-color-fitted-level-1) 1pt solid;\n",
       "  color: var(--sklearn-color-fitted-level-1);\n",
       "}\n",
       "\n",
       "/* On hover */\n",
       "div.sk-estimator:hover .sk-estimator-doc-link:hover,\n",
       ".sk-estimator-doc-link:hover,\n",
       "div.sk-label-container:hover .sk-estimator-doc-link:hover,\n",
       ".sk-estimator-doc-link:hover {\n",
       "  /* unfitted */\n",
       "  background-color: var(--sklearn-color-unfitted-level-3);\n",
       "  color: var(--sklearn-color-background);\n",
       "  text-decoration: none;\n",
       "}\n",
       "\n",
       "div.sk-estimator.fitted:hover .sk-estimator-doc-link.fitted:hover,\n",
       ".sk-estimator-doc-link.fitted:hover,\n",
       "div.sk-label-container:hover .sk-estimator-doc-link.fitted:hover,\n",
       ".sk-estimator-doc-link.fitted:hover {\n",
       "  /* fitted */\n",
       "  background-color: var(--sklearn-color-fitted-level-3);\n",
       "  color: var(--sklearn-color-background);\n",
       "  text-decoration: none;\n",
       "}\n",
       "\n",
       "/* Span, style for the box shown on hovering the info icon */\n",
       ".sk-estimator-doc-link span {\n",
       "  display: none;\n",
       "  z-index: 9999;\n",
       "  position: relative;\n",
       "  font-weight: normal;\n",
       "  right: .2ex;\n",
       "  padding: .5ex;\n",
       "  margin: .5ex;\n",
       "  width: min-content;\n",
       "  min-width: 20ex;\n",
       "  max-width: 50ex;\n",
       "  color: var(--sklearn-color-text);\n",
       "  box-shadow: 2pt 2pt 4pt #999;\n",
       "  /* unfitted */\n",
       "  background: var(--sklearn-color-unfitted-level-0);\n",
       "  border: .5pt solid var(--sklearn-color-unfitted-level-3);\n",
       "}\n",
       "\n",
       ".sk-estimator-doc-link.fitted span {\n",
       "  /* fitted */\n",
       "  background: var(--sklearn-color-fitted-level-0);\n",
       "  border: var(--sklearn-color-fitted-level-3);\n",
       "}\n",
       "\n",
       ".sk-estimator-doc-link:hover span {\n",
       "  display: block;\n",
       "}\n",
       "\n",
       "/* \"?\"-specific style due to the `<a>` HTML tag */\n",
       "\n",
       "#sk-container-id-1 a.estimator_doc_link {\n",
       "  float: right;\n",
       "  font-size: 1rem;\n",
       "  line-height: 1em;\n",
       "  font-family: monospace;\n",
       "  background-color: var(--sklearn-color-background);\n",
       "  border-radius: 1rem;\n",
       "  height: 1rem;\n",
       "  width: 1rem;\n",
       "  text-decoration: none;\n",
       "  /* unfitted */\n",
       "  color: var(--sklearn-color-unfitted-level-1);\n",
       "  border: var(--sklearn-color-unfitted-level-1) 1pt solid;\n",
       "}\n",
       "\n",
       "#sk-container-id-1 a.estimator_doc_link.fitted {\n",
       "  /* fitted */\n",
       "  border: var(--sklearn-color-fitted-level-1) 1pt solid;\n",
       "  color: var(--sklearn-color-fitted-level-1);\n",
       "}\n",
       "\n",
       "/* On hover */\n",
       "#sk-container-id-1 a.estimator_doc_link:hover {\n",
       "  /* unfitted */\n",
       "  background-color: var(--sklearn-color-unfitted-level-3);\n",
       "  color: var(--sklearn-color-background);\n",
       "  text-decoration: none;\n",
       "}\n",
       "\n",
       "#sk-container-id-1 a.estimator_doc_link.fitted:hover {\n",
       "  /* fitted */\n",
       "  background-color: var(--sklearn-color-fitted-level-3);\n",
       "}\n",
       "</style><div id=\"sk-container-id-1\" class=\"sk-top-container\"><div class=\"sk-text-repr-fallback\"><pre>DecisionTreeClassifier(max_depth=10, random_state=42)</pre><b>In a Jupyter environment, please rerun this cell to show the HTML representation or trust the notebook. <br />On GitHub, the HTML representation is unable to render, please try loading this page with nbviewer.org.</b></div><div class=\"sk-container\" hidden><div class=\"sk-item\"><div class=\"sk-estimator fitted sk-toggleable\"><input class=\"sk-toggleable__control sk-hidden--visually\" id=\"sk-estimator-id-1\" type=\"checkbox\" checked><label for=\"sk-estimator-id-1\" class=\"sk-toggleable__label fitted sk-toggleable__label-arrow\"><div><div>DecisionTreeClassifier</div></div><div><a class=\"sk-estimator-doc-link fitted\" rel=\"noreferrer\" target=\"_blank\" href=\"https://scikit-learn.org/1.6/modules/generated/sklearn.tree.DecisionTreeClassifier.html\">?<span>Documentation for DecisionTreeClassifier</span></a><span class=\"sk-estimator-doc-link fitted\">i<span>Fitted</span></span></div></label><div class=\"sk-toggleable__content fitted\"><pre>DecisionTreeClassifier(max_depth=10, random_state=42)</pre></div> </div></div></div></div>"
      ],
      "text/plain": [
       "DecisionTreeClassifier(max_depth=10, random_state=42)"
      ]
     },
     "execution_count": 11,
     "metadata": {},
     "output_type": "execute_result"
    }
   ],
   "source": [
    "from matplotlib import pyplot as plt\n",
    "from sklearn.tree import DecisionTreeClassifier, plot_tree\n",
    "import numpy as np\n",
    "\n",
    "tree_reg = DecisionTreeClassifier(max_depth=10, random_state=42)\n",
    "tree_reg.fit(X_train, y_train)\n",
    "\n",
    "\n",
    "# Visualize the decision tree\n",
    "# plt.figure(figsize=(14, 8))\n",
    "# plot_tree(tree_reg, feature_names=X.columns, filled=True, rounded=True, fontsize=8)\n",
    "# plt.title(\"Decision Tree for A321 TOFF runway\")\n",
    "# plt.show()\n",
    "# print the confustion matrix\n"
   ]
  },
  {
   "cell_type": "markdown",
   "metadata": {},
   "source": [
    "# Model Evaluation"
   ]
  },
  {
   "cell_type": "code",
   "execution_count": 12,
   "metadata": {},
   "outputs": [
    {
     "name": "stdout",
     "output_type": "stream",
     "text": [
      "Confusion Matrix:\n",
      "[[5700  663]\n",
      " [ 898 1213]]\n",
      "\n",
      "Classification Report:\n",
      "              precision    recall  f1-score   support\n",
      "\n",
      "           0       0.86      0.90      0.88      6363\n",
      "           1       0.65      0.57      0.61      2111\n",
      "\n",
      "    accuracy                           0.82      8474\n",
      "   macro avg       0.76      0.74      0.74      8474\n",
      "weighted avg       0.81      0.82      0.81      8474\n",
      "\n"
     ]
    }
   ],
   "source": [
    "from sklearn.metrics import confusion_matrix, classification_report\n",
    "\n",
    "# Predict on the test set\n",
    "y_pred = tree_reg.predict(X_test)\n",
    "\n",
    "# Compute the confusion matrix\n",
    "cm = confusion_matrix(y_test, y_pred)\n",
    "print(\"Confusion Matrix:\")\n",
    "print(cm)\n",
    "\n",
    "# Optionally, print a detailed classification report\n",
    "print(\"\\nClassification Report:\")\n",
    "print(classification_report(y_test, y_pred))"
   ]
  },
  {
   "cell_type": "markdown",
   "metadata": {},
   "source": [
    "# Implement Recall, Precision and F1 Score by yourself"
   ]
  },
  {
   "cell_type": "code",
   "execution_count": 13,
   "metadata": {},
   "outputs": [
    {
     "name": "stdout",
     "output_type": "stream",
     "text": [
      "Recall: 0.57, Precision: 0.65, F1 Score: 0.61\n"
     ]
    }
   ],
   "source": [
    "# true positives\n",
    "tp = y_test[y_test == y_pred].sum()\n",
    "# false positives\n",
    "fp = ((y_test == 0) & (y_pred == 1)).sum()\n",
    "# false negatives\n",
    "fn = ((y_test == 1) & (y_pred == 0)).sum()\n",
    "# true negatives\n",
    "tn = ((y_test == 0) & (y_pred == 0)).sum()\n",
    "# recall\n",
    "recall = tp / (tp + fn)\n",
    "# precision\n",
    "precision = tp / (tp + fp)\n",
    "# f1 score\n",
    "f1 = 2 * (precision * recall) / (precision + recall)\n",
    "print(f\"Recall: {recall:.2f}, Precision: {precision:.2f}, F1 Score: {f1:.2f}\")\n"
   ]
  },
  {
   "cell_type": "code",
   "execution_count": 15,
   "metadata": {},
   "outputs": [
    {
     "data": {
      "application/vnd.plotly.v1+json": {
       "config": {
        "plotlyServerURL": "https://plot.ly"
       },
       "data": [
        {
         "name": "False Positives",
         "opacity": 0.75,
         "type": "histogram",
         "x": {
          "bdata": "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",
          "dtype": "f8"
         }
        },
        {
         "name": "False Negatives",
         "opacity": 0.75,
         "type": "histogram",
         "x": {
          "bdata": "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",
          "dtype": "f8"
         }
        }
       ],
       "layout": {
        "template": {
         "data": {
          "bar": [
           {
            "error_x": {
             "color": "#2a3f5f"
            },
            "error_y": {
             "color": "#2a3f5f"
            },
            "marker": {
             "line": {
              "color": "#E5ECF6",
              "width": 0.5
             },
             "pattern": {
              "fillmode": "overlay",
              "size": 10,
              "solidity": 0.2
             }
            },
            "type": "bar"
           }
          ],
          "barpolar": [
           {
            "marker": {
             "line": {
              "color": "#E5ECF6",
              "width": 0.5
             },
             "pattern": {
              "fillmode": "overlay",
              "size": 10,
              "solidity": 0.2
             }
            },
            "type": "barpolar"
           }
          ],
          "carpet": [
           {
            "aaxis": {
             "endlinecolor": "#2a3f5f",
             "gridcolor": "white",
             "linecolor": "white",
             "minorgridcolor": "white",
             "startlinecolor": "#2a3f5f"
            },
            "baxis": {
             "endlinecolor": "#2a3f5f",
             "gridcolor": "white",
             "linecolor": "white",
             "minorgridcolor": "white",
             "startlinecolor": "#2a3f5f"
            },
            "type": "carpet"
           }
          ],
          "choropleth": [
           {
            "colorbar": {
             "outlinewidth": 0,
             "ticks": ""
            },
            "type": "choropleth"
           }
          ],
          "contour": [
           {
            "colorbar": {
             "outlinewidth": 0,
             "ticks": ""
            },
            "colorscale": [
             [
              0,
              "#0d0887"
             ],
             [
              0.1111111111111111,
              "#46039f"
             ],
             [
              0.2222222222222222,
              "#7201a8"
             ],
             [
              0.3333333333333333,
              "#9c179e"
             ],
             [
              0.4444444444444444,
              "#bd3786"
             ],
             [
              0.5555555555555556,
              "#d8576b"
             ],
             [
              0.6666666666666666,
              "#ed7953"
             ],
             [
              0.7777777777777778,
              "#fb9f3a"
             ],
             [
              0.8888888888888888,
              "#fdca26"
             ],
             [
              1,
              "#f0f921"
             ]
            ],
            "type": "contour"
           }
          ],
          "contourcarpet": [
           {
            "colorbar": {
             "outlinewidth": 0,
             "ticks": ""
            },
            "type": "contourcarpet"
           }
          ],
          "heatmap": [
           {
            "colorbar": {
             "outlinewidth": 0,
             "ticks": ""
            },
            "colorscale": [
             [
              0,
              "#0d0887"
             ],
             [
              0.1111111111111111,
              "#46039f"
             ],
             [
              0.2222222222222222,
              "#7201a8"
             ],
             [
              0.3333333333333333,
              "#9c179e"
             ],
             [
              0.4444444444444444,
              "#bd3786"
             ],
             [
              0.5555555555555556,
              "#d8576b"
             ],
             [
              0.6666666666666666,
              "#ed7953"
             ],
             [
              0.7777777777777778,
              "#fb9f3a"
             ],
             [
              0.8888888888888888,
              "#fdca26"
             ],
             [
              1,
              "#f0f921"
             ]
            ],
            "type": "heatmap"
           }
          ],
          "histogram": [
           {
            "marker": {
             "pattern": {
              "fillmode": "overlay",
              "size": 10,
              "solidity": 0.2
             }
            },
            "type": "histogram"
           }
          ],
          "histogram2d": [
           {
            "colorbar": {
             "outlinewidth": 0,
             "ticks": ""
            },
            "colorscale": [
             [
              0,
              "#0d0887"
             ],
             [
              0.1111111111111111,
              "#46039f"
             ],
             [
              0.2222222222222222,
              "#7201a8"
             ],
             [
              0.3333333333333333,
              "#9c179e"
             ],
             [
              0.4444444444444444,
              "#bd3786"
             ],
             [
              0.5555555555555556,
              "#d8576b"
             ],
             [
              0.6666666666666666,
              "#ed7953"
             ],
             [
              0.7777777777777778,
              "#fb9f3a"
             ],
             [
              0.8888888888888888,
              "#fdca26"
             ],
             [
              1,
              "#f0f921"
             ]
            ],
            "type": "histogram2d"
           }
          ],
          "histogram2dcontour": [
           {
            "colorbar": {
             "outlinewidth": 0,
             "ticks": ""
            },
            "colorscale": [
             [
              0,
              "#0d0887"
             ],
             [
              0.1111111111111111,
              "#46039f"
             ],
             [
              0.2222222222222222,
              "#7201a8"
             ],
             [
              0.3333333333333333,
              "#9c179e"
             ],
             [
              0.4444444444444444,
              "#bd3786"
             ],
             [
              0.5555555555555556,
              "#d8576b"
             ],
             [
              0.6666666666666666,
              "#ed7953"
             ],
             [
              0.7777777777777778,
              "#fb9f3a"
             ],
             [
              0.8888888888888888,
              "#fdca26"
             ],
             [
              1,
              "#f0f921"
             ]
            ],
            "type": "histogram2dcontour"
           }
          ],
          "mesh3d": [
           {
            "colorbar": {
             "outlinewidth": 0,
             "ticks": ""
            },
            "type": "mesh3d"
           }
          ],
          "parcoords": [
           {
            "line": {
             "colorbar": {
              "outlinewidth": 0,
              "ticks": ""
             }
            },
            "type": "parcoords"
           }
          ],
          "pie": [
           {
            "automargin": true,
            "type": "pie"
           }
          ],
          "scatter": [
           {
            "fillpattern": {
             "fillmode": "overlay",
             "size": 10,
             "solidity": 0.2
            },
            "type": "scatter"
           }
          ],
          "scatter3d": [
           {
            "line": {
             "colorbar": {
              "outlinewidth": 0,
              "ticks": ""
             }
            },
            "marker": {
             "colorbar": {
              "outlinewidth": 0,
              "ticks": ""
             }
            },
            "type": "scatter3d"
           }
          ],
          "scattercarpet": [
           {
            "marker": {
             "colorbar": {
              "outlinewidth": 0,
              "ticks": ""
             }
            },
            "type": "scattercarpet"
           }
          ],
          "scattergeo": [
           {
            "marker": {
             "colorbar": {
              "outlinewidth": 0,
              "ticks": ""
             }
            },
            "type": "scattergeo"
           }
          ],
          "scattergl": [
           {
            "marker": {
             "colorbar": {
              "outlinewidth": 0,
              "ticks": ""
             }
            },
            "type": "scattergl"
           }
          ],
          "scattermap": [
           {
            "marker": {
             "colorbar": {
              "outlinewidth": 0,
              "ticks": ""
             }
            },
            "type": "scattermap"
           }
          ],
          "scattermapbox": [
           {
            "marker": {
             "colorbar": {
              "outlinewidth": 0,
              "ticks": ""
             }
            },
            "type": "scattermapbox"
           }
          ],
          "scatterpolar": [
           {
            "marker": {
             "colorbar": {
              "outlinewidth": 0,
              "ticks": ""
             }
            },
            "type": "scatterpolar"
           }
          ],
          "scatterpolargl": [
           {
            "marker": {
             "colorbar": {
              "outlinewidth": 0,
              "ticks": ""
             }
            },
            "type": "scatterpolargl"
           }
          ],
          "scatterternary": [
           {
            "marker": {
             "colorbar": {
              "outlinewidth": 0,
              "ticks": ""
             }
            },
            "type": "scatterternary"
           }
          ],
          "surface": [
           {
            "colorbar": {
             "outlinewidth": 0,
             "ticks": ""
            },
            "colorscale": [
             [
              0,
              "#0d0887"
             ],
             [
              0.1111111111111111,
              "#46039f"
             ],
             [
              0.2222222222222222,
              "#7201a8"
             ],
             [
              0.3333333333333333,
              "#9c179e"
             ],
             [
              0.4444444444444444,
              "#bd3786"
             ],
             [
              0.5555555555555556,
              "#d8576b"
             ],
             [
              0.6666666666666666,
              "#ed7953"
             ],
             [
              0.7777777777777778,
              "#fb9f3a"
             ],
             [
              0.8888888888888888,
              "#fdca26"
             ],
             [
              1,
              "#f0f921"
             ]
            ],
            "type": "surface"
           }
          ],
          "table": [
           {
            "cells": {
             "fill": {
              "color": "#EBF0F8"
             },
             "line": {
              "color": "white"
             }
            },
            "header": {
             "fill": {
              "color": "#C8D4E3"
             },
             "line": {
              "color": "white"
             }
            },
            "type": "table"
           }
          ]
         },
         "layout": {
          "annotationdefaults": {
           "arrowcolor": "#2a3f5f",
           "arrowhead": 0,
           "arrowwidth": 1
          },
          "autotypenumbers": "strict",
          "coloraxis": {
           "colorbar": {
            "outlinewidth": 0,
            "ticks": ""
           }
          },
          "colorscale": {
           "diverging": [
            [
             0,
             "#8e0152"
            ],
            [
             0.1,
             "#c51b7d"
            ],
            [
             0.2,
             "#de77ae"
            ],
            [
             0.3,
             "#f1b6da"
            ],
            [
             0.4,
             "#fde0ef"
            ],
            [
             0.5,
             "#f7f7f7"
            ],
            [
             0.6,
             "#e6f5d0"
            ],
            [
             0.7,
             "#b8e186"
            ],
            [
             0.8,
             "#7fbc41"
            ],
            [
             0.9,
             "#4d9221"
            ],
            [
             1,
             "#276419"
            ]
           ],
           "sequential": [
            [
             0,
             "#0d0887"
            ],
            [
             0.1111111111111111,
             "#46039f"
            ],
            [
             0.2222222222222222,
             "#7201a8"
            ],
            [
             0.3333333333333333,
             "#9c179e"
            ],
            [
             0.4444444444444444,
             "#bd3786"
            ],
            [
             0.5555555555555556,
             "#d8576b"
            ],
            [
             0.6666666666666666,
             "#ed7953"
            ],
            [
             0.7777777777777778,
             "#fb9f3a"
            ],
            [
             0.8888888888888888,
             "#fdca26"
            ],
            [
             1,
             "#f0f921"
            ]
           ],
           "sequentialminus": [
            [
             0,
             "#0d0887"
            ],
            [
             0.1111111111111111,
             "#46039f"
            ],
            [
             0.2222222222222222,
             "#7201a8"
            ],
            [
             0.3333333333333333,
             "#9c179e"
            ],
            [
             0.4444444444444444,
             "#bd3786"
            ],
            [
             0.5555555555555556,
             "#d8576b"
            ],
            [
             0.6666666666666666,
             "#ed7953"
            ],
            [
             0.7777777777777778,
             "#fb9f3a"
            ],
            [
             0.8888888888888888,
             "#fdca26"
            ],
            [
             1,
             "#f0f921"
            ]
           ]
          },
          "colorway": [
           "#636efa",
           "#EF553B",
           "#00cc96",
           "#ab63fa",
           "#FFA15A",
           "#19d3f3",
           "#FF6692",
           "#B6E880",
           "#FF97FF",
           "#FECB52"
          ],
          "font": {
           "color": "#2a3f5f"
          },
          "geo": {
           "bgcolor": "white",
           "lakecolor": "white",
           "landcolor": "#E5ECF6",
           "showlakes": true,
           "showland": true,
           "subunitcolor": "white"
          },
          "hoverlabel": {
           "align": "left"
          },
          "hovermode": "closest",
          "mapbox": {
           "style": "light"
          },
          "paper_bgcolor": "white",
          "plot_bgcolor": "#E5ECF6",
          "polar": {
           "angularaxis": {
            "gridcolor": "white",
            "linecolor": "white",
            "ticks": ""
           },
           "bgcolor": "#E5ECF6",
           "radialaxis": {
            "gridcolor": "white",
            "linecolor": "white",
            "ticks": ""
           }
          },
          "scene": {
           "xaxis": {
            "backgroundcolor": "#E5ECF6",
            "gridcolor": "white",
            "gridwidth": 2,
            "linecolor": "white",
            "showbackground": true,
            "ticks": "",
            "zerolinecolor": "white"
           },
           "yaxis": {
            "backgroundcolor": "#E5ECF6",
            "gridcolor": "white",
            "gridwidth": 2,
            "linecolor": "white",
            "showbackground": true,
            "ticks": "",
            "zerolinecolor": "white"
           },
           "zaxis": {
            "backgroundcolor": "#E5ECF6",
            "gridcolor": "white",
            "gridwidth": 2,
            "linecolor": "white",
            "showbackground": true,
            "ticks": "",
            "zerolinecolor": "white"
           }
          },
          "shapedefaults": {
           "line": {
            "color": "#2a3f5f"
           }
          },
          "ternary": {
           "aaxis": {
            "gridcolor": "white",
            "linecolor": "white",
            "ticks": ""
           },
           "baxis": {
            "gridcolor": "white",
            "linecolor": "white",
            "ticks": ""
           },
           "bgcolor": "#E5ECF6",
           "caxis": {
            "gridcolor": "white",
            "linecolor": "white",
            "ticks": ""
           }
          },
          "title": {
           "x": 0.05
          },
          "xaxis": {
           "automargin": true,
           "gridcolor": "white",
           "linecolor": "white",
           "ticks": "",
           "title": {
            "standoff": 15
           },
           "zerolinecolor": "white",
           "zerolinewidth": 2
          },
          "yaxis": {
           "automargin": true,
           "gridcolor": "white",
           "linecolor": "white",
           "ticks": "",
           "title": {
            "standoff": 15
           },
           "zerolinecolor": "white",
           "zerolinewidth": 2
          }
         }
        },
        "title": {
         "text": "Distribution of False Positives and Negatives"
        },
        "xaxis": {
         "title": {
          "text": "Probability"
         }
        },
        "yaxis": {
         "title": {
          "text": "Frequency"
         }
        }
       }
      }
     },
     "metadata": {},
     "output_type": "display_data"
    }
   ],
   "source": [
    "y_pred = tree_reg.predict(X_test)\n",
    "y_proba = tree_reg.predict_proba(X_test)[:, 1]  # probability of 'from_16' = 1\n",
    "\n",
    "probas_false_positives = y_proba[(y_test == 0) & (y_pred == 1)]\n",
    "probas_false_negatives = y_proba[(y_test == 1) & (y_pred == 0)]\n",
    "\n",
    "\n",
    "import plotly.graph_objects as go\n",
    "fig=go.Figure()\n",
    "fig.add_trace(go.Histogram(x=probas_false_positives, name='False Positives', opacity=0.75))\n",
    "fig.add_trace(go.Histogram(x=probas_false_negatives, name='False Negatives', opacity=0.75))\n",
    "fig.update_layout(title='Distribution of False Positives and Negatives',\n",
    "                  xaxis_title='Probability',\n",
    "                  yaxis_title='Frequency')\n",
    "fig.show()\n"
   ]
  },
  {
   "cell_type": "markdown",
   "metadata": {},
   "source": [
    "# Now it's your turn to train a model!\n",
    "\n",
    "Tips:\n",
    "- Build some new relevant feature\n",
    "- Fine tune the ML model\n",
    "- Best F1 score wins!\n"
   ]
  },
  {
   "cell_type": "markdown",
   "metadata": {},
   "source": []
  }
 ],
 "metadata": {
  "kernelspec": {
   "display_name": ".venv",
   "language": "python",
   "name": "python3"
  },
  "language_info": {
   "codemirror_mode": {
    "name": "ipython",
    "version": 3
   },
   "file_extension": ".py",
   "mimetype": "text/x-python",
   "name": "python",
   "nbconvert_exporter": "python",
   "pygments_lexer": "ipython3",
   "version": "3.13.0"
  }
 },
 "nbformat": 4,
 "nbformat_minor": 2
}
