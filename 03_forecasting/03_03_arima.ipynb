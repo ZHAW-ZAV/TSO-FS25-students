{
 "cells": [
  {
   "cell_type": "code",
   "execution_count": null,
   "metadata": {},
   "outputs": [],
   "source": [
    "import pandas as pd\n",
    "import numpy as np\n",
    "import matplotlib.pyplot as plt \n",
    "import statsmodels.api as sm\n",
    "\n",
    "import sys\n",
    "import os\n",
    "\n",
    "IN_COLAB = \"google.colab\" in sys.modules"
   ]
  },
  {
   "cell_type": "markdown",
   "metadata": {},
   "source": [
    "The code above loads the data, do not modify.\n",
    "\n",
    "***\n",
    "\n",
    "# TSO Semester Week 4: ARIMA Models\n",
    "\n",
    "In this exercise, we will focus on all topics mentioned in the **TSO forecasting script**, Sections *\"ARIMA Models\"*. Consequently, this exercise focuses on working with time series data, handling processing, and explore fit *ARIMA* and *SARIMA* models for prediction.\n",
    "\n",
    "This exercise consists of the following eight parts:\n",
    "1. Importing and Processing Time Series Data\n",
    "2. Time Series Visualization\n",
    "3. Autocorrelation Plot (ACF)\n",
    "4. ARIMA model\n",
    "5. SARIMA model"
   ]
  },
  {
   "cell_type": "markdown",
   "metadata": {},
   "source": [
    "***\n",
    "## PART 1: Importing and Processing Time Series Data\n",
    "\n",
    "\n",
    "### Tasks:\n",
    "1. Import the *CO2* data set available in the *statsmodels* library, which represent monthly observations of CO2 levels starting from 1959-01.\n",
    "2. Transform the *pandas* dataframe such that:\n",
    "- Create a *Month* column that is a datetime describing the timestamp of the time series. Declare it as index.\n",
    "- Drop the initial time column that is a float object and not a datetime object.\n",
    "\n",
    "### Import CO2 dataset"
   ]
  },
  {
   "cell_type": "code",
   "execution_count": null,
   "metadata": {},
   "outputs": [],
   "source": [
    "# Load the CO2 dataset\n",
    "data = sm.datasets.get_rdataset('co2', 'datasets').data\n",
    "data.head()"
   ]
  },
  {
   "cell_type": "markdown",
   "metadata": {},
   "source": [
    "### Transform the dataframe"
   ]
  },
  {
   "cell_type": "code",
   "execution_count": null,
   "metadata": {},
   "outputs": [],
   "source": [
    "# Transform the time column to timestamp and declare it as index\n",
    "\n",
    "#Visualize the data"
   ]
  },
  {
   "cell_type": "markdown",
   "metadata": {},
   "source": [
    "***\n",
    "## PART 2: Time Series Visualization\n",
    "\n",
    "### Tasks:\n",
    "1. Add a column to the data for the *rolling mean* over 12 months.\n",
    "2. Add a column to the data for the *rolling standard deviation* over 12 months.\n",
    "3. Plot the original time series and the rolling mean.\n",
    "4. Add the standard deviation using matplotlib *fill_between* function.\n",
    "5. Add appropriate labels and grid lines to enhance readability of your plots."
   ]
  },
  {
   "cell_type": "code",
   "execution_count": null,
   "metadata": {},
   "outputs": [],
   "source": [
    "# Calculate the rolling mean and rolling standard deviation over 12 months\n",
    "\n",
    "# Plot the original time series, the rolling mean and the rolling standard deviation"
   ]
  },
  {
   "cell_type": "markdown",
   "metadata": {},
   "source": [
    "### Questions:\n",
    "1. Does the time series has a trend?\n",
    "2. Does the time series has a seasonal component?\n",
    "3. Does the variance depends on the time of observation?\n",
    "4. Is the time series stationary?"
   ]
  },
  {
   "cell_type": "markdown",
   "metadata": {},
   "source": [
    "*** \n",
    "## PART 3: Autocorrelation Plot (ACF)\n",
    "\n",
    "### Tasks:\n",
    "1. Use the *statsmodels* function called *plot_acf* to plot the autocorrelation plot of the time series.\n",
    "2. Add appropriate labels and grid lines to enhance readability of your plots.\n"
   ]
  },
  {
   "cell_type": "code",
   "execution_count": null,
   "metadata": {},
   "outputs": [],
   "source": [
    "# import the autocorrelation function plot\n",
    "from statsmodels.graphics.tsaplots import plot_acf\n",
    "\n",
    "# Plot the autocorrelogram"
   ]
  },
  {
   "cell_type": "markdown",
   "metadata": {},
   "source": [
    "### Questions - Can you conlcude about:\n",
    "- The Trend?\n",
    "- The Seasonality?\n",
    "- The Stationarity?\n",
    "\n",
    "### Make assumptions about the ype of model to use:\n",
    "- AR models / ARMA models (without the integrate part) / ARIMA models / SARIMA models?"
   ]
  },
  {
   "cell_type": "markdown",
   "metadata": {},
   "source": [
    "*** \n",
    "## PART 4: ARIMA Model\n",
    "\n",
    "### Tasks:\n",
    "1. Use the *auto_arima* function form the *pmdarima* library to fit an ARIMA model on the time series.\n",
    "2. Print the summary of the fitting.\n",
    "3. Plot the initial time series, the fitted model, the prediction for the next 48 months and the 95% confidence interval for the prediction.\n",
    "4. Use the *plot_diagnostic* method to evaluate the residuals of the fitted model."
   ]
  },
  {
   "cell_type": "code",
   "execution_count": null,
   "metadata": {},
   "outputs": [],
   "source": [
    "import pmdarima as pm\n",
    "\n",
    "# Automatically select the best ARIMA model\n",
    "\n",
    "#Print the results of the fitting\n",
    "print(model_arima.summary())"
   ]
  },
  {
   "cell_type": "code",
   "execution_count": null,
   "metadata": {},
   "outputs": [],
   "source": [
    "forecast_steps = 48\n",
    "#Make a prediction\n",
    "\n",
    "# Extend the index for plotting\n",
    "forecast_index = pd.date_range(start=data.index[-1] + pd.Timedelta(days=30),\n",
    "                               periods=forecast_steps, freq='M')\n",
    "\n",
    "# Plot the original data and forecasted data"
   ]
  },
  {
   "cell_type": "code",
   "execution_count": null,
   "metadata": {},
   "outputs": [],
   "source": [
    "# Evaluate the residuals of the model with plot_diagnostic"
   ]
  },
  {
   "cell_type": "markdown",
   "metadata": {},
   "source": [
    "### Questions:\n",
    "- Which ARIMA order are found? Does it makes sense? Do you think the model is suitable?\n",
    "- What can you say about the fit of the model regarding the true time series? What can you say about the prediction?\n",
    "- What can you say about the white noise nature of the residuals? Should we explore a more complex model?"
   ]
  },
  {
   "cell_type": "markdown",
   "metadata": {},
   "source": [
    "***\n",
    "## PART 5: SARIMA Model\n",
    "\n",
    "### Tasks:\n",
    "1. Use the *auto_arima* function form the *pmdarima* library to fit a SARIMA model on the time series.\n",
    "2. Print the summary of the fitting.\n",
    "3. Plot the initial time series, the fitted model, the prediction for the next 48 months and the 95% confidence interval for the prediction.\n",
    "4. Use the *plot_diagnostic* method to evaluate the residuals of the fitted model."
   ]
  },
  {
   "cell_type": "code",
   "execution_count": null,
   "metadata": {},
   "outputs": [],
   "source": [
    "# Fit the best SARIMA model\n",
    "\n",
    "# Print the results of the fitting\n",
    "print(model_sarima.summary())\n"
   ]
  },
  {
   "cell_type": "code",
   "execution_count": null,
   "metadata": {},
   "outputs": [],
   "source": [
    "forecast_steps = 48\n",
    "# Make a prediction\n",
    "\n",
    "# Extend the index for plotting\n",
    "forecast_index = pd.date_range(start=data.index[-1] + pd.Timedelta(days=30),\n",
    "                               periods=forecast_steps, freq='M')\n",
    "\n",
    "# Plot the original data and forecast"
   ]
  },
  {
   "cell_type": "code",
   "execution_count": null,
   "metadata": {},
   "outputs": [],
   "source": [
    "# Analyse the residuals of the model with plot_diagnostic"
   ]
  },
  {
   "cell_type": "markdown",
   "metadata": {},
   "source": [
    "### Questions:\n",
    "- What are the orders for the non-seasonal and the seasonal part of the SARIMA? How do they compare to the fitted ARIMA?\n",
    "- What can you say about the fitted model and the prediction? How do you compare the results with the non-seasonal ARIMA?\n",
    "- What can you say about the residuals?"
   ]
  }
 ],
 "metadata": {
  "kernelspec": {
   "display_name": ".venv",
   "language": "python",
   "name": "python3"
  },
  "language_info": {
   "codemirror_mode": {
    "name": "ipython",
    "version": 3
   },
   "file_extension": ".py",
   "mimetype": "text/x-python",
   "name": "python",
   "nbconvert_exporter": "python",
   "pygments_lexer": "ipython3",
   "version": "3.13.2"
  }
 },
 "nbformat": 4,
 "nbformat_minor": 2
}
