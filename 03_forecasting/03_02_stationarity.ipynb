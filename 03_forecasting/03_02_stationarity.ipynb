{
 "cells": [
  {
   "cell_type": "markdown",
   "metadata": {},
   "source": [
    "<a target=\"_blank\" href=\"https://colab.research.google.com/github/ZHAW-ZAV/TSO-FS25-students/blob/main/03_forecasting/03_02_stationarity.ipynb\">\n",
    "  <img src=\"https://colab.research.google.com/assets/colab-badge.svg\" alt=\"Open In Colab\"/>\n",
    "</a>"
   ]
  },
  {
   "cell_type": "code",
   "execution_count": null,
   "metadata": {},
   "outputs": [],
   "source": [
    "import pandas as pd\n",
    "import numpy as np\n",
    "import matplotlib.pyplot as plt \n",
    "import statsmodels.api as sm\n",
    "\n",
    "import sys\n",
    "import os\n",
    "\n",
    "IN_COLAB = \"google.colab\" in sys.modules"
   ]
  },
  {
   "cell_type": "markdown",
   "metadata": {},
   "source": [
    "The code above loads the data, do not modify.\n",
    "\n",
    "***\n",
    "\n",
    "# TSO Semester Week 4: Stationarity\n",
    "\n",
    "In this exercise, we will focus on all topics mentioned in the **TSO forecasting script**, Sections *\"Stationarity, Autocorrelation, and Differencing\"*. Consequently, this exercise focuses on working with time series data, handling processing, and explore the stationarity property.\n",
    "\n",
    "This exercise consists of the following eight parts:\n",
    "1. Importing and Processing Time Series Data\n",
    "2. Time Series Visualization\n",
    "3. Autocorrelation Plot (ACF)\n",
    "4. Differencing\n",
    "5. Seasonal Differencing\n",
    "6. Transforming into Stationary Time Series\n",
    "7. Testing Stationarity"
   ]
  },
  {
   "cell_type": "markdown",
   "metadata": {},
   "source": [
    "***\n",
    "## PART 1: Importing and Processing Time Series Data\n",
    "\n",
    "\n",
    "### Tasks:\n",
    "1. Import the *El Nino - Sea Surface Temperatures* data set available in the *statsmodels* library.\n",
    "2. Transform the *pandas* dataframe such that:\n",
    "- Transform the *YEAR* column to a datetime object\n",
    "- Set the dataframe index to be the *YEAR* column\n",
    "- Stack the data to have on single columns for the Time Series values\n",
    "- Transform the multi-index to a single index by aggregating year and month\n",
    "- The final form of the dataframe should be one index column descrbibing the year and month, and one column describing the associated values.\n",
    "3. Display the first few rows of each data set to verify the transformation.\n",
    "\n",
    "### Import El Nino Dataset"
   ]
  },
  {
   "cell_type": "code",
   "execution_count": null,
   "metadata": {},
   "outputs": [],
   "source": [
    "data = sm.datasets.elnino.load_pandas().datadf_GOOG.head()\n",
    "data.head()"
   ]
  },
  {
   "cell_type": "markdown",
   "metadata": {},
   "source": [
    "### Transform the El Nino dataframe"
   ]
  },
  {
   "cell_type": "code",
   "execution_count": null,
   "metadata": {},
   "outputs": [],
   "source": [
    "#Transform YEAR column to datetime\n",
    "\n",
    "#Set the index to the YEAR column\n",
    "\n",
    "#Stack the data to have one single column of values\n",
    "\n",
    "#Transform the multi-index to a single index by aggregating year and month\n",
    "\n",
    "#Rename the index to Month and the column to Temp\n",
    "\n",
    "#Visualize the data"
   ]
  },
  {
   "cell_type": "markdown",
   "metadata": {},
   "source": [
    "***\n",
    "## PART 2: Time Series Visualization\n",
    "\n",
    "### Tasks:\n",
    "1. Add a column to the data for the *rolling mean* over 12 months.\n",
    "2. Add a column to the data for the *rolling standard deviation* over 12 months.\n",
    "3. Plot the original time series and the rolling mean.\n",
    "4. Add the standard deviation using matplotlib *fill_between* function.\n",
    "5. Add appropriate labels and grid lines to enhance readability of your plots."
   ]
  },
  {
   "cell_type": "code",
   "execution_count": null,
   "metadata": {},
   "outputs": [],
   "source": [
    "# Calculate the rolling mean and rolling standard deviation over 12 months\n",
    "\n",
    "# Plot the time series, the rolling mean and the rolling standard deviation"
   ]
  },
  {
   "cell_type": "markdown",
   "metadata": {},
   "source": [
    "### Questions:\n",
    "1. Does the time series has a trend?\n",
    "2. Does the time series has a seasonal component?\n",
    "3. Does the variance depends on the time of observation?\n",
    "4. Is the time series stationary?"
   ]
  },
  {
   "cell_type": "markdown",
   "metadata": {},
   "source": [
    "*** \n",
    "## PART 3: Autocorrelation Plot (ACF)\n",
    "\n",
    "### Tasks:\n",
    "1. Use the *statsmodels* function called *plot_acf* to plot the autocorrelation plot of the time series.\n",
    "2. Add appropriate labels and grid lines to enhance readability of your plots.\n"
   ]
  },
  {
   "cell_type": "code",
   "execution_count": null,
   "metadata": {},
   "outputs": [],
   "source": [
    "# import the autocorrelation function plot\n",
    "from statsmodels.graphics.tsaplots import plot_acf\n",
    "\n",
    "# Plot the autocorrelogram"
   ]
  },
  {
   "cell_type": "markdown",
   "metadata": {},
   "source": [
    "### Questions:Can you conlcude about:\n",
    "1. The Trend?\n",
    "3. The Seasonality?\n",
    "4. The Stationarity?"
   ]
  },
  {
   "cell_type": "markdown",
   "metadata": {},
   "source": [
    "*** \n",
    "## PART 4: Differencing\n",
    "\n",
    "### Tasks:\n",
    "1. Difference to the first order the time series.\n",
    "2. Plot the differenced time series and its rolling average over 12 months.\n",
    "3. Plot the ACF plot of the differenced time series.\n"
   ]
  },
  {
   "cell_type": "code",
   "execution_count": null,
   "metadata": {},
   "outputs": [],
   "source": [
    "# Difference the Time Series\n",
    "\n",
    "# Plot the differenced time series and its rolling mean"
   ]
  },
  {
   "cell_type": "code",
   "execution_count": null,
   "metadata": {},
   "outputs": [],
   "source": [
    "# Plot the autocorrelogram of the differenced time series"
   ]
  },
  {
   "cell_type": "markdown",
   "metadata": {},
   "source": [
    "### Questions:\n",
    "- Is the Trend removed? The Seasonality?\n",
    "\n",
    "### Task:\n",
    "1. Difference again until the trend is removed. Use the ACF plot."
   ]
  },
  {
   "cell_type": "code",
   "execution_count": null,
   "metadata": {},
   "outputs": [],
   "source": [
    "# Difference multiple times the data again until the trend is removed\n",
    "\n",
    "# Plot the autocorrelogram of the differenced time series"
   ]
  },
  {
   "cell_type": "markdown",
   "metadata": {},
   "source": [
    "### Questions:\n",
    "- How many order of differencing is needed to remove the trend?\n",
    "- Is the data stationary?"
   ]
  },
  {
   "cell_type": "markdown",
   "metadata": {},
   "source": [
    "***\n",
    "## PART 5: Seasonal Differencing\n",
    "\n",
    "### Tasks:\n",
    "1. Perfrom a seasonal differencing to remove the seasonality.\n",
    "2. Plot the transformed time series.\n",
    "3. Plot the ACF."
   ]
  },
  {
   "cell_type": "code",
   "execution_count": null,
   "metadata": {},
   "outputs": [],
   "source": [
    "# Difference the original data get rid of seasonality\n",
    "\n",
    "# Plot the seasonally differenced time series and its rolling mean"
   ]
  },
  {
   "cell_type": "code",
   "execution_count": null,
   "metadata": {},
   "outputs": [],
   "source": [
    "# Plot the autocorrelogram of the seasonally differenced time series"
   ]
  },
  {
   "cell_type": "markdown",
   "metadata": {},
   "source": [
    "### Questions:\n",
    "- Is the seasonality removed?\n",
    "\n",
    "### Tasks:\n",
    "1. Perform several seasonal differencings until the seasonality is removed. Plot the ACF."
   ]
  },
  {
   "cell_type": "code",
   "execution_count": null,
   "metadata": {},
   "outputs": [],
   "source": [
    "# Seasonally difference the data again until the seasonality seems removed\n",
    "\n",
    "# Plot the autocorrelogram of the seasonally differenced time series"
   ]
  },
  {
   "cell_type": "markdown",
   "metadata": {},
   "source": [
    "### Questions:\n",
    "- What phenomenon do you observe?\n",
    "- Which seasonal difference order do you select?"
   ]
  },
  {
   "cell_type": "markdown",
   "metadata": {},
   "source": [
    "***\n",
    "## PART 6: Make the time series stationary\n",
    "\n",
    "### Tasks:\n",
    "1. Combine the differencing and the sesonal differencing to remove both the trend and de seasonality to make the data stationary.\n",
    "2. Plot the stationarized Time Series and its rolling mean over 12 months.\n",
    "3. Plot the ACF.\n"
   ]
  },
  {
   "cell_type": "code",
   "execution_count": null,
   "metadata": {},
   "outputs": [],
   "source": [
    "# Combine the differencing and seasonally differencing to remove both trend and seasonality and make the data stationary\n",
    "\n",
    "# Plot the stationarized time series and its rolling mean"
   ]
  },
  {
   "cell_type": "markdown",
   "metadata": {},
   "source": [
    "### Questions:\n",
    "- Does it look stationary? "
   ]
  },
  {
   "cell_type": "markdown",
   "metadata": {},
   "source": [
    "***\n",
    "## PART 7: Test for Stationarity\n",
    "\n",
    "### Tasks:\n",
    "1. Use the KPSS test from *statsmodels* to test check stationarity of the transformed time series."
   ]
  },
  {
   "cell_type": "code",
   "execution_count": null,
   "metadata": {},
   "outputs": [],
   "source": [
    "#Import KPSS test\n",
    "from statsmodels.tsa.stattools import kpss\n",
    "\n",
    "#Run KPSS test on the stationarized data\n",
    "\n",
    "print(f\"KPSS Statistic: {stat}\")\n",
    "print(f\"p-value: {p_value}\")\n",
    "\n",
    "# Interpret the p-value\n",
    "if p_value < 0.05:\n",
    "    print(\"The time series is likely non-stationary (reject null hypothesis).\")\n",
    "else:\n",
    "    print(\"The time series is likely stationary (fail to reject null hypothesis).\")"
   ]
  },
  {
   "cell_type": "markdown",
   "metadata": {},
   "source": [
    "### Questions:\n",
    "- What is the outcome?"
   ]
  }
 ],
 "metadata": {
  "kernelspec": {
   "display_name": ".venv",
   "language": "python",
   "name": "python3"
  },
  "language_info": {
   "codemirror_mode": {
    "name": "ipython",
    "version": 3
   },
   "file_extension": ".py",
   "mimetype": "text/x-python",
   "name": "python",
   "nbconvert_exporter": "python",
   "pygments_lexer": "ipython3",
   "version": "3.13.2"
  }
 },
 "nbformat": 4,
 "nbformat_minor": 2
}
