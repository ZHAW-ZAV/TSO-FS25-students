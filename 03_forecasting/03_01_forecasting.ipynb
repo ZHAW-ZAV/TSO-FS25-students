{
 "cells": [
  {
   "cell_type": "markdown",
   "metadata": {},
   "source": [
    "<a target=\"_blank\" href=\"https://colab.research.google.com/github/ZHAW-ZAV/TSO-FS25/blob/main/03_forecasting/03_01_forecasting.ipynb\">\n",
    "  <img src=\"https://colab.research.google.com/assets/colab-badge.svg\" alt=\"Open In Colab\"/>\n",
    "</a>"
   ]
  },
  {
   "cell_type": "code",
   "execution_count": 2,
   "metadata": {},
   "outputs": [
    {
     "name": "stderr",
     "output_type": "stream",
     "text": [
      "Downloading...\n",
      "From: https://drive.google.com/uc?id=1wfGsm4fDJx3iM930kWbHgDR-W2kdkEw5\n",
      "To: /Users/wate/Documents/GitHub/TSO-FS25-students/03_forecasting/data/GOOG_Closing.csv\n",
      "100%|██████████| 3.20k/3.20k [00:00<00:00, 5.01MB/s]\n"
     ]
    }
   ],
   "source": [
    "import pandas as pd\n",
    "import numpy as np\n",
    "import matplotlib.pyplot as plt \n",
    "import statsmodels.api as sm\n",
    "\n",
    "import sys\n",
    "import os\n",
    "\n",
    "IN_COLAB = \"google.colab\" in sys.modules\n",
    "\n",
    "file_id_GOOG = \"1wfGsm4fDJx3iM930kWbHgDR-W2kdkEw5\" # FIXME\n",
    "\n",
    "if IN_COLAB:\n",
    "    path_to_GOOG = \"/content/data/GOOG_Closing.csv\"\n",
    "    os.makedirs(os.path.dirname(path_to_GOOG), exist_ok=True)\n",
    "    !gdown \"https://drive.google.com/uc?id={file_id_GOOG}\" -O \"{path_to_GOOG}\"\n",
    "else:\n",
    "    import gdown\n",
    "\n",
    "    url = f\"https://drive.google.com/uc?id={file_id_GOOG}\"\n",
    "    path_to_GOOG = \"data/GOOG_Closing.csv\"\n",
    "    os.makedirs(os.path.dirname(path_to_GOOG), exist_ok=True)\n",
    "    gdown.download(url, path_to_GOOG, quiet=False)"
   ]
  },
  {
   "cell_type": "markdown",
   "metadata": {},
   "source": [
    "The code above loads the data, do not modify.\n",
    "\n",
    "***\n",
    "\n",
    "# TSO Semester Week 3: Forecasting\n",
    "\n",
    "In this exercise, we will focus on all topics mentioned in the **TSO forecasting script**, Sections *\"Introduction to Time Series\"* to and including *\"Exponential Smoothing\"*. Consequently, this exercise focuses on working with time series data, handling missing values, and applying forecasting models.\n",
    "\n",
    "This exercise consists of the following eight parts:\n",
    "1. Importing and Exploring Time Series Data\n",
    "2. Time Series Visualization\n",
    "3. Handling Missing Data in Time Series\n",
    "4. Decomposition\n",
    "5. Applying Basic Forecasting Methods\n",
    "6. Simple Exponential Smoothing (for time series without trend and seasonality)\n",
    "7. Exponential Smoothing with Additive Trend\n",
    "8. Exponential Smoothing with Additive Trend and Seasonality\n"
   ]
  },
  {
   "cell_type": "markdown",
   "metadata": {},
   "source": [
    "***\n",
    "## PART 1: Importing and Exploring Time Series Data\n",
    "\n",
    "\n",
    "### Tasks:\n",
    "1. Import the *Google closing price* data set, which is provided in file *GOOG_Closing.csv*. This time series contains the daily closing price of the Google stock from August 2024 to December 2024.\n",
    "2. Import the *air passenger* data set, which you can download from the *statsmodels* library using the code snippet provided below.\n",
    "3. Display the first few rows of each data set to verify the import.\n",
    "\n",
    "### Import Google Data Set"
   ]
  },
  {
   "cell_type": "code",
   "execution_count": null,
   "metadata": {},
   "outputs": [],
   "source": []
  },
  {
   "cell_type": "markdown",
   "metadata": {},
   "source": [
    "### Air Passenger Data Set (from Statsmodels)\n",
    "Import the Air Passenger Data Set, which is provided by the **statsmodels** library."
   ]
  },
  {
   "cell_type": "code",
   "execution_count": null,
   "metadata": {},
   "outputs": [],
   "source": []
  },
  {
   "cell_type": "markdown",
   "metadata": {},
   "source": [
    "***\n",
    "## PART 2: Time Series Visualization\n",
    "This part refers to Section *Introduction to Time Series* in the TSO forecasting script.\n",
    "\n",
    "### Tasks:\n",
    "1. Plot the *Google closing price* time series.\n",
    "2. Plot the *air passenger* data set.\n",
    "3. Add appropriate labels and grid lines to enhance readability of your plots."
   ]
  },
  {
   "cell_type": "code",
   "execution_count": null,
   "metadata": {},
   "outputs": [],
   "source": []
  },
  {
   "cell_type": "code",
   "execution_count": null,
   "metadata": {},
   "outputs": [],
   "source": []
  },
  {
   "cell_type": "markdown",
   "metadata": {},
   "source": [
    "*** \n",
    "## PART 3: Handling Missing Data\n",
    "This part refers to Section *Introduction to Time Series* in the TSO forecasting script.\n",
    "\n",
    "### Tasks:\n",
    "1. Check for missing values in the *Google closing price* data set.\n",
    "2. Apply an appropriate method to handle / fill the missing values.\n",
    "3. Plot the 'modified', i.e., interpolated, time series alongside the original one.\n"
   ]
  },
  {
   "cell_type": "code",
   "execution_count": null,
   "metadata": {},
   "outputs": [],
   "source": []
  },
  {
   "cell_type": "markdown",
   "metadata": {},
   "source": [
    "*** \n",
    "## PART 4: Decomposition\n",
    "This part refers to Section *Patterns in Time Series* in the TSO forecasting script.\n",
    "\n",
    "### Tasks:\n",
    "1. Decompose the air passengers data set in trend, seasonal component, and residual (i.e., cyclical & random component)\n"
   ]
  },
  {
   "cell_type": "code",
   "execution_count": null,
   "metadata": {},
   "outputs": [],
   "source": []
  },
  {
   "cell_type": "markdown",
   "metadata": {},
   "source": [
    "***\n",
    "## PART 5: Applying Basic Forecasting Methods\n",
    "This part refers to Section *Simple Forecasting Methods* in the TSO forecasting script.\n",
    "\n",
    "### Tasks:\n",
    "1. Apply the **naive forecasting** method to either the *Google closing price* or the *air passenger* data set (decide which data set is more appropriate for the usage of the na\\\"ive method). Plot your results (i.e., the observations and your forecast).\n",
    "2. Apply the **average forecasting method** to either the *Google closing price* or the *air passenger* data set (decide which data set is more appropriate for the usage of the na\\\"ive method). Plot your results (i.e., the observations and your forecast).\n",
    "3. Apply the **drift forecasting method** to either the *Google closing price* or the *air passenger* data set (decide which data set is more appropriate for the usage of the na\\\"ive method). Plot your results (i.e., the observations and your forecast).\n",
    "\n",
    "### Naive Method"
   ]
  },
  {
   "cell_type": "code",
   "execution_count": null,
   "metadata": {},
   "outputs": [],
   "source": [
    "forecast_horizon = 12\n",
    "\n"
   ]
  },
  {
   "cell_type": "markdown",
   "metadata": {},
   "source": [
    "### Average Method"
   ]
  },
  {
   "cell_type": "code",
   "execution_count": null,
   "metadata": {},
   "outputs": [],
   "source": [
    "forecast_horizon = 12\n"
   ]
  },
  {
   "cell_type": "markdown",
   "metadata": {},
   "source": [
    "### Drift Method"
   ]
  },
  {
   "cell_type": "code",
   "execution_count": null,
   "metadata": {},
   "outputs": [],
   "source": [
    "forecast_horizon = 12\n"
   ]
  },
  {
   "cell_type": "markdown",
   "metadata": {},
   "source": [
    "***\n",
    "## PART 6: Simple Exponential Smoothing (for time series without trend and seasonality)\n",
    "This part refers to Section *Exponential Smoothing* in the TSO forecasting script.\n",
    "\n",
    "### Tasks:\n",
    "1. Fit a simple exponential smoothing model (i.e., no trend, no seasonality) to the **daily** *Google stock closing price* **changes**.\n",
    "2. Forecast the next 12 days using the fitted model.\n",
    "3. Plot the observed data, fitted values, and forecast.\n"
   ]
  },
  {
   "cell_type": "code",
   "execution_count": null,
   "metadata": {},
   "outputs": [],
   "source": [
    "\n"
   ]
  },
  {
   "cell_type": "code",
   "execution_count": null,
   "metadata": {},
   "outputs": [],
   "source": [
    "from statsmodels.tsa.holtwinters import SimpleExpSmoothing\n",
    "\n",
    "alpha = 0.3\n",
    "\n"
   ]
  },
  {
   "cell_type": "markdown",
   "metadata": {},
   "source": [
    "***\n",
    "## PART 7: Exponential Smoothing with Additive Trend\n",
    "This part refers to Section *Exponential Smoothing* in the TSO forecasting script.\n",
    "\n",
    "### Tasks:\n",
    "1. Fit an exponential smoothing model with an additive trend to the *air passenger* data set.\n",
    "2. Forecast the next 24 month using the fitted model.\n",
    "3. Plot the observed data, fitted values, and forecast."
   ]
  },
  {
   "cell_type": "code",
   "execution_count": null,
   "metadata": {},
   "outputs": [],
   "source": [
    "from statsmodels.tsa.holtwinters import ExponentialSmoothing\n",
    "\n",
    "alpha = 0.7\n",
    "beta = 0.005\n"
   ]
  },
  {
   "cell_type": "markdown",
   "metadata": {},
   "source": [
    "***\n",
    "## PART 8: Exponential Smoothing with Additive Trend and Seasonality\n",
    "This part refers to Section *Exponential Smoothing* in the TSO forecasting script.\n",
    "\n",
    "### Tasks:\n",
    "1. Fit an exponential smoothing model with an additive trend and seasonality to the *air passenger* data set.\n",
    "2. Forecast the next 24 month using the fitted model.\n",
    "3. Plot the observed data, fitted values, and forecast."
   ]
  },
  {
   "cell_type": "code",
   "execution_count": null,
   "metadata": {},
   "outputs": [],
   "source": [
    "from statsmodels.tsa.holtwinters import ExponentialSmoothing\n",
    "\n",
    "alpha = 0.31\n",
    "beta = 1.37e-09\n",
    "gamma = 0.60"
   ]
  }
 ],
 "metadata": {
  "kernelspec": {
   "display_name": ".venv",
   "language": "python",
   "name": "python3"
  },
  "language_info": {
   "codemirror_mode": {
    "name": "ipython",
    "version": 3
   },
   "file_extension": ".py",
   "mimetype": "text/x-python",
   "name": "python",
   "nbconvert_exporter": "python",
   "pygments_lexer": "ipython3",
   "version": "3.13.2"
  }
 },
 "nbformat": 4,
 "nbformat_minor": 2
}
