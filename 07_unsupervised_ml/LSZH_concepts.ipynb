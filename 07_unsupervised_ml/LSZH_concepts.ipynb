{
 "cells": [
  {
   "cell_type": "markdown",
   "metadata": {},
   "source": [
    "<a target=\"_blank\" href=\"https://colab.research.google.com/github/ZHAW-ZAV/TSO-FS25-students/blob/main/07_unsupervised_ml/LSZH_concepts.ipynb\">\n",
    "  <img src=\"https://colab.research.google.com/assets/colab-badge.svg\" alt=\"Open In Colab\"/>\n",
    "</a>"
   ]
  },
  {
   "cell_type": "markdown",
   "metadata": {},
   "source": [
    "## Zurich airport has three main operating concepts:\n",
    "\n",
    "**North Approach Concept**\n",
    "- Approaches from north on runway 14 or 16 \n",
    "- Departures heading west on runway 28 or heading south on runway 16\n",
    "- Departures partially heading east on runway 10\n",
    "\n",
    "General application:\n",
    "- Monday to Friday from 07:00 - 21:00\n",
    "- Saturday to Sunday from 09:00 - 20:00 and on public holiday in Baden-Württemberg\n",
    "\n",
    "**East Approach Concept**\n",
    "- Approaches form east on runway 28\n",
    "- Departures  heading north on runway 32 or 34\n",
    "\n",
    "General application:\n",
    "- Monday to Friday from 21:00 - 23:30\n",
    "- Saturday to Sunday from 20:00 - 23:30 and on public holidays in Baden-Württemberg\n",
    "\n",
    "**South Approach Concept**\n",
    "- Approaches from south on runway 34\n",
    "- Departures heading north on runway 32 or 34\n",
    "- Departures partially heading west on runway 28\n",
    "\n",
    "General application:\n",
    "- Monday to Friday from 06:00 - 07:00\n",
    "- Saturday to Sunday from 06:00 - 09:00 and on public holidays in Baden-Württemberg\n",
    "\n",
    "\n",
    "The goal is to cluster the operated concepts using data obtained ADS-B data in an unsupervised way."
   ]
  },
  {
   "cell_type": "markdown",
   "metadata": {},
   "source": [
    "### Import of required libraries\n"
   ]
  },
  {
   "cell_type": "code",
   "execution_count": 25,
   "metadata": {},
   "outputs": [],
   "source": [
    "import pandas as pd\n",
    "import plotly.express as px\n",
    "from sklearn.decomposition import PCA"
   ]
  },
  {
   "cell_type": "markdown",
   "metadata": {},
   "source": [
    "### Import datasets"
   ]
  },
  {
   "cell_type": "code",
   "execution_count": null,
   "metadata": {},
   "outputs": [],
   "source": [
    "lnd_df_url = 'https://raw.githubusercontent.com/ZHAW-ZAV/TSO-FS25-students/refs/heads/main/07_unsupervised_ml/lszh_lnd_df.csv'\n",
    "lnd_df = pd.read_csv(lnd_df_url)\n",
    "lnd_df['time'] = pd.to_datetime(lnd_df['time'])\n",
    "lnd_df"
   ]
  },
  {
   "cell_type": "code",
   "execution_count": null,
   "metadata": {},
   "outputs": [],
   "source": [
    "toff_df_url = 'https://raw.githubusercontent.com/ZHAW-ZAV/TSO-FS25-students/refs/heads/main/07_unsupervised_ml/lszh_toff_df.csv'\n",
    "toff_df = pd.read_csv(toff_df_url)\n",
    "toff_df['time'] = pd.to_datetime(toff_df['time'])\n",
    "toff_df"
   ]
  },
  {
   "cell_type": "markdown",
   "metadata": {},
   "source": [
    "---\n"
   ]
  },
  {
   "cell_type": "markdown",
   "metadata": {},
   "source": [
    "### Preparation of the dataset\n",
    "\n",
    "We want to create a dataset that for each hour contains the number of takeoffs and landings per runway.\n"
   ]
  },
  {
   "cell_type": "markdown",
   "metadata": {},
   "source": [
    "Identify takeoffs and generate overview dataframe\n"
   ]
  },
  {
   "cell_type": "code",
   "execution_count": null,
   "metadata": {},
   "outputs": [],
   "source": [
    "grouped = toff_df.groupby([pd.Grouper(key=\"time\", freq=\"h\"), \"rwy\"]).size()\n",
    "grouped"
   ]
  },
  {
   "cell_type": "code",
   "execution_count": null,
   "metadata": {},
   "outputs": [],
   "source": [
    "# Pivot to get one column per runway\n",
    "toff_df = grouped.unstack(fill_value=0)\n",
    "# Rename columns\n",
    "toff_df = toff_df.rename(\n",
    "    columns={\n",
    "        14: \"toff_14\",\n",
    "        32: \"toff_32\",\n",
    "        16: \"toff_16\",\n",
    "        34: \"toff_34\",\n",
    "        10: \"toff_10\",\n",
    "        28: \"toff_28\",\n",
    "    }\n",
    ")\n",
    "toff_df"
   ]
  },
  {
   "cell_type": "code",
   "execution_count": null,
   "metadata": {},
   "outputs": [],
   "source": [
    "# same for landings\n",
    "grouped = lnd_df.groupby([pd.Grouper(key=\"time\", freq=\"h\"), \"rwy\"]).size()\n",
    "lnd_df = grouped.unstack(fill_value=0)\n",
    "lnd_df = lnd_df.rename(\n",
    "    columns={\n",
    "        14: \"lnd_14\",\n",
    "        32: \"lnd_32\",\n",
    "        16: \"lnd_16\",\n",
    "        34: \"lnd_34\",\n",
    "        10: \"lnd_10\",\n",
    "        28: \"lnd_28\",\n",
    "    }\n",
    ")\n",
    "lnd_df\n"
   ]
  },
  {
   "cell_type": "code",
   "execution_count": null,
   "metadata": {},
   "outputs": [],
   "source": [
    "# let's merge the two dataframes\n",
    "df = pd.concat([toff_df, lnd_df], axis=1)\n",
    "# Let's filter a bit by only keep rows where at least 5 takeoffs and landings occurred\n",
    "df['total_takeoffs'] = df.filter(like='toff').sum(axis=1)\n",
    "df['total_landings'] = df.filter(like='lnd').sum(axis=1)\n",
    "df = df.query('total_takeoffs >= 5 and total_landings >= 5').dropna()\n",
    "\n",
    "df['main_lnd_rwy'] = df.filter(like='lnd').idxmax(axis=1)\n",
    "df['main_toff_rwy'] = df.filter(like='toff').idxmax(axis=1)\n",
    "\n",
    "df\n",
    "\n"
   ]
  },
  {
   "cell_type": "code",
   "execution_count": null,
   "metadata": {},
   "outputs": [],
   "source": [
    "# instead of standardizing, we can also compute the percentage of takeoffs and landings per runway and add it as new columns\n",
    "df['pct_toff_14'] = df['toff_14'] / df['total_takeoffs']\n",
    "df['pct_toff_16'] = df['toff_16'] / df['total_takeoffs']\n",
    "df['pct_toff_28'] = df['toff_28'] / df['total_takeoffs']\n",
    "df['pct_toff_32'] = df['toff_32'] / df['total_takeoffs']\n",
    "df['pct_toff_34'] = df['toff_34'] / df['total_takeoffs']\n",
    "df['pct_lnd_14'] = df['lnd_14'] / df['total_landings']\n",
    "df['pct_lnd_16'] = df['lnd_16'] / df['total_landings']\n",
    "df['pct_lnd_28'] = df['lnd_28'] / df['total_landings']\n",
    "df['pct_lnd_32'] = df['lnd_32'] / df['total_landings']\n",
    "df['pct_lnd_34'] = df['lnd_34'] / df['total_landings']\n",
    "\n",
    "df"
   ]
  },
  {
   "cell_type": "code",
   "execution_count": null,
   "metadata": {},
   "outputs": [],
   "source": [
    "## PCA for visualization\n",
    "# we will use a PCA on the pct columns\n",
    "df_pca = df.copy().filter(like='pct')\n",
    "pca = PCA(n_components=2)\n",
    "df_pca = pd.DataFrame(pca.fit_transform(df_pca), columns=['PC1', 'PC2'])\n",
    "px.scatter(df_pca, x='PC1', y='PC2')\n",
    "\n",
    "# # in 3d\n",
    "df_pca = df.copy().filter(like='pct')\n",
    "pca = PCA(n_components=3)\n",
    "df_pca = pd.DataFrame(pca.fit_transform(df_pca), columns=['PC1', 'PC2', 'PC3'])\n",
    "px.scatter_3d(df_pca, x='PC1', y='PC2', z='PC3')\n"
   ]
  },
  {
   "cell_type": "markdown",
   "metadata": {},
   "source": [
    "**Task**: Play with the parameters of the DBSCAN algorithm to find the best clustering and identify one anomaly (e.g. lots of landings on 16)"
   ]
  },
  {
   "cell_type": "code",
   "execution_count": null,
   "metadata": {},
   "outputs": [],
   "source": [
    "# apply DBSCAN\n",
    "from sklearn.cluster import DBSCAN\n",
    "dbscan = DBSCAN(eps=X, min_samples=X)\n",
    "cluster_labels = dbscan.fit_predict(df.filter(like='pct')).astype(str)\n",
    "df_pca['cluster'] = cluster_labels\n",
    "# px.scatter(df_pca, x='PC1', y='PC2', color='cluster')\n",
    "px.scatter_3d(df_pca, x='PC1', y='PC2', z='PC3', color='cluster')\n",
    "\n"
   ]
  },
  {
   "cell_type": "code",
   "execution_count": null,
   "metadata": {},
   "outputs": [],
   "source": [
    "df['cluster'] = df_pca['cluster'].values\n",
    "\n",
    "px.scatter(\n",
    "    df,\n",
    "    y=['main_lnd_rwy', 'main_toff_rwy'],\n",
    "    color='cluster',\n",
    "    hover_data=df.filter(like='pct').columns.tolist() + ['total_landings', 'total_takeoffs'],\n",
    ")\n",
    "\n"
   ]
  },
  {
   "cell_type": "markdown",
   "metadata": {},
   "source": [
    "### K-means\n"
   ]
  },
  {
   "cell_type": "markdown",
   "metadata": {},
   "source": [
    "**Task**: Play with the number of clusters and visualize the results in 2D or 3D with plotly\n"
   ]
  },
  {
   "cell_type": "code",
   "execution_count": null,
   "metadata": {},
   "outputs": [],
   "source": [
    "# k-means with 3 clusters\n",
    "from sklearn.cluster import KMeans\n",
    "kmeans = KMeans(n_clusters=6, random_state=42)\n",
    "kmeans.fit(df.filter(like='pct'))\n",
    "df_pca['cluster'] = kmeans.labels_.astype(str)\n",
    "px.scatter_3d(df_pca, x='PC1', y='PC2', z='PC3', color='cluster')\n"
   ]
  },
  {
   "cell_type": "code",
   "execution_count": null,
   "metadata": {},
   "outputs": [],
   "source": [
    "df['cluster'] = df_pca['cluster'].values.astype(str)\n",
    "\n",
    "px.scatter(\n",
    "    df,\n",
    "    y=['main_lnd_rwy', 'main_toff_rwy'],\n",
    "    color='cluster',\n",
    "    hover_data=df.filter(like='pct').columns.tolist() + ['total_landings', 'total_takeoffs'],\n",
    ")\n"
   ]
  }
 ],
 "metadata": {
  "kernelspec": {
   "display_name": ".venv",
   "language": "python",
   "name": "python3"
  },
  "language_info": {
   "codemirror_mode": {
    "name": "ipython",
    "version": 3
   },
   "file_extension": ".py",
   "mimetype": "text/x-python",
   "name": "python",
   "nbconvert_exporter": "python",
   "pygments_lexer": "ipython3",
   "version": "3.13.0"
  }
 },
 "nbformat": 4,
 "nbformat_minor": 2
}
