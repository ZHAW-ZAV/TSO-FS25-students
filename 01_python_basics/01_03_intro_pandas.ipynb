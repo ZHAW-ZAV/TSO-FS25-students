{
 "cells": [
  {
   "cell_type": "markdown",
   "metadata": {},
   "source": [
    "<a target=\"_blank\" href=\"https://colab.research.google.com/github/ZHAW-ZAV/TSO-FS25-students/blob/main/01_python_basics/01_03_intro_pandas.ipynb\">\n",
    "  <img src=\"https://colab.research.google.com/assets/colab-badge.svg\" alt=\"Open In Colab\"/>\n",
    "</a>"
   ]
  },
  {
   "cell_type": "code",
   "execution_count": null,
   "metadata": {},
   "outputs": [],
   "source": [
    "import sys\n",
    "import os\n",
    "\n",
    "IN_COLAB = \"google.colab\" in sys.modules\n",
    "\n",
    "file_id_co2 = \"1XsuqMub8M3SdP50X1MIwAci-lsYS0X9t\"\n",
    "file_id_countries = \"17CMqyq43tBbMJ-TId4TH_GF2KskyIUPP\"\n",
    "\n",
    "if IN_COLAB:\n",
    "    path_to_co2 = \"/content/data/co2_emmissions_by_state_2023.csv\"\n",
    "    os.makedirs(os.path.dirname(path_to_co2), exist_ok=True)\n",
    "    !gdown \"https://drive.google.com/uc?id={file_id_co2}\" -O \"{path_to_co2}\"\n",
    "\n",
    "    path_to_countries = \"/content/data/icao_country.json\"\n",
    "    os.makedirs(os.path.dirname(path_to_countries), exist_ok=True)\n",
    "    !gdown \"https://drive.google.com/uc?id={file_id_countries}\" -O \"{path_to_countries}\"\n",
    "else:\n",
    "    import gdown\n",
    "\n",
    "    url = f\"https://drive.google.com/uc?id={file_id_co2}\"\n",
    "    path_to_co2 = \"data/co2_emmissions_by_state_2023.csv\"\n",
    "    os.makedirs(os.path.dirname(path_to_co2), exist_ok=True)\n",
    "    gdown.download(url, path_to_co2, quiet=False)\n",
    "\n",
    "    url = f\"https://drive.google.com/uc?id={file_id_countries}\"\n",
    "    path_to_countries = \"data/icao_country.json\"\n",
    "    os.makedirs(os.path.dirname(path_to_countries), exist_ok=True)\n",
    "    gdown.download(url, path_to_countries, quiet=False)\n"
   ]
  },
  {
   "cell_type": "markdown",
   "metadata": {},
   "source": [
    "The code above loads the data, don't modify.\n",
    "\n",
    "---------------\n",
    "\n",
    "***Notebook starts here***"
   ]
  },
  {
   "cell_type": "markdown",
   "metadata": {},
   "source": [
    "# Introduction to Pandas\n",
    "\n",
    "\n",
    "## Importing Pandas"
   ]
  },
  {
   "cell_type": "code",
   "execution_count": 74,
   "metadata": {},
   "outputs": [],
   "source": [
    "import pandas as pd"
   ]
  },
  {
   "cell_type": "markdown",
   "metadata": {},
   "source": [
    "## Reading Data"
   ]
  },
  {
   "cell_type": "code",
   "execution_count": 75,
   "metadata": {},
   "outputs": [],
   "source": [
    "# You can read all kinds of files with pandas, not just csv,\n",
    "# but also excel, json, etc. with pd.read_excel, pd.read_json\n",
    "co2 = pd.read_csv(path_to_co2)"
   ]
  },
  {
   "cell_type": "markdown",
   "metadata": {},
   "source": [
    "## Exploring Data"
   ]
  },
  {
   "cell_type": "code",
   "execution_count": null,
   "metadata": {},
   "outputs": [],
   "source": [
    "print(f\"The DataFrame has {len(co2)} rows.\")\n",
    "print(f\"The columns in the DataFrame are: {co2.columns}\")"
   ]
  },
  {
   "cell_type": "code",
   "execution_count": null,
   "metadata": {},
   "outputs": [],
   "source": [
    "# Let's take a look at the first few rows\n",
    "co2.head()"
   ]
  },
  {
   "cell_type": "code",
   "execution_count": null,
   "metadata": {},
   "outputs": [],
   "source": [
    "# Let's take a look at the last few rows\n",
    "co2.tail()"
   ]
  },
  {
   "cell_type": "code",
   "execution_count": null,
   "metadata": {},
   "outputs": [],
   "source": [
    "# data types of the columns\n",
    "co2.info()"
   ]
  },
  {
   "cell_type": "code",
   "execution_count": null,
   "metadata": {},
   "outputs": [],
   "source": [
    "# Some descriptive statistics\n",
    "co2.describe()"
   ]
  },
  {
   "cell_type": "code",
   "execution_count": null,
   "metadata": {},
   "outputs": [],
   "source": [
    "# Let's see the unique values in the \"STATE_NAME\" column\n",
    "co2[\"STATE_NAME\"].unique()"
   ]
  },
  {
   "cell_type": "code",
   "execution_count": null,
   "metadata": {},
   "outputs": [],
   "source": [
    "# How many unique values are there in the \"STATE_NAME\" column?\n",
    "len(co2[\"STATE_NAME\"].unique())"
   ]
  },
  {
   "cell_type": "code",
   "execution_count": null,
   "metadata": {},
   "outputs": [],
   "source": [
    "# How many values are there per \"STATE_NAME\"?\n",
    "co2[\"STATE_NAME\"].value_counts()"
   ]
  },
  {
   "cell_type": "markdown",
   "metadata": {},
   "source": [
    "## Filtering and Slicing Data"
   ]
  },
  {
   "cell_type": "code",
   "execution_count": null,
   "metadata": {},
   "outputs": [],
   "source": [
    "# classical approach\n",
    "co2_ch = co2[co2[\"STATE_NAME\"] == \"SWITZERLAND\"]\n",
    "co2_ch"
   ]
  },
  {
   "cell_type": "code",
   "execution_count": null,
   "metadata": {},
   "outputs": [],
   "source": [
    "# using query()\n",
    "co2_country = co2.query(\"STATE_NAME == 'SWITZERLAND'\")\n",
    "co2_country"
   ]
  },
  {
   "cell_type": "code",
   "execution_count": null,
   "metadata": {},
   "outputs": [],
   "source": [
    "# with query, you can use variables and complex expressions\n",
    "country = \"ESTONIA\"\n",
    "co2_country = co2.query(\"STATE_NAME == @country and MONTH <= 6\")\n",
    "co2_country"
   ]
  },
  {
   "cell_type": "code",
   "execution_count": null,
   "metadata": {},
   "outputs": [],
   "source": [
    "# show only the columns we are interested in\n",
    "#\n",
    "# note the nested square brackets. The first one is to\n",
    "# access the columns of the dataframe, e.g. co2[\"STATE_NAME\"].\n",
    "# The second one creates a list, e.g. [\"STATE_NAME\", \"MONTH\", \"CO2_QTY_TONNES\"].\n",
    "co2[[\"STATE_NAME\", \"MONTH\", \"CO2_QTY_TONNES\"]]"
   ]
  },
  {
   "cell_type": "markdown",
   "metadata": {},
   "source": [
    "## Aggregating and Sorting Data"
   ]
  },
  {
   "cell_type": "code",
   "execution_count": null,
   "metadata": {},
   "outputs": [],
   "source": [
    "print(f\"Total CO2 emissions: {co2['CO2_QTY_TONNES'].sum()}\")\n",
    "print(f\"Mean CO2 emissions: {co2['CO2_QTY_TONNES'].mean()}\")\n",
    "\n",
    "# let's display this neatly\n",
    "print(f\"Total CO2 emissions: {co2['CO2_QTY_TONNES'].sum():.0f}\")\n",
    "print(f\"Mean CO2 emissions: {co2['CO2_QTY_TONNES'].mean():.1f}\")\n"
   ]
  },
  {
   "cell_type": "markdown",
   "metadata": {},
   "source": [
    "### Grouping data, single aggregation"
   ]
  },
  {
   "cell_type": "code",
   "execution_count": null,
   "metadata": {},
   "outputs": [],
   "source": [
    "# group by country and sum the CO2 emissions\n",
    "\n",
    "# this is a bit more advanced, let's break it down\n",
    "# 1. group by country: co2.groupby(\"STATE_NAME\")\n",
    "# 2. select the column we are interested in: [\"CO2_QTY_TONNES\"]\n",
    "# 3. sum the values: .sum()\n",
    "\n",
    "co2_country = co2.groupby(\"STATE_NAME\")[\"CO2_QTY_TONNES\"].sum()\n",
    "co2_country"
   ]
  },
  {
   "cell_type": "code",
   "execution_count": null,
   "metadata": {},
   "outputs": [],
   "source": [
    "# same as above, but sorted\n",
    "#\n",
    "# Hint: you can split the code into multiple lines to make it more readable,\n",
    "#       just wrap the code in parentheses\n",
    "\n",
    "co2_country = (\n",
    "    co2.groupby(\"STATE_NAME\")[\"CO2_QTY_TONNES\"].sum().sort_values(ascending=False)\n",
    ")\n",
    "co2_country"
   ]
  },
  {
   "cell_type": "code",
   "execution_count": null,
   "metadata": {},
   "outputs": [],
   "source": [
    "# How many values are there per \"STATE_NAME\"?\n",
    "# We did this already with this:\n",
    "# co2[\"STATE_NAME\"].value_counts()\n",
    "#\n",
    "# An alternative approach is to use groupby and count the number of rows\n",
    "# in each group. This is done with the size() function.\n",
    "print(co2.groupby(\"STATE_NAME\").size())\n",
    "\n",
    "# or with groupby and count()\n",
    "print(co2.groupby(\"STATE_NAME\")[\"STATE_NAME\"].count())"
   ]
  },
  {
   "cell_type": "markdown",
   "metadata": {},
   "source": [
    "### Grouping data, multiple aggregations"
   ]
  },
  {
   "cell_type": "code",
   "execution_count": null,
   "metadata": {},
   "outputs": [],
   "source": [
    "# you can also use the .agg() method to apply multiple functions at once\n",
    "# for example, we want the sum of the total traffic (TF) and the sum and mean of the CO2 emissions\n",
    "#\n",
    "# 1. group by country: co2.groupby(\"STATE_NAME\")\n",
    "# 2. use the .agg() method to apply multiple functions at once\n",
    "#    it takes a dictionary as an argument, where the keys are the column names\n",
    "#    and the values are the functions to apply\n",
    "# 3. sort the values by the sum of the CO2 emissions\n",
    "co2_country = (\n",
    "    co2.groupby(\"STATE_NAME\")\n",
    "    .agg({\"TF\": \"sum\", \"CO2_QTY_TONNES\": [\"sum\", \"mean\"]})\n",
    "    .sort_values(by=(\"CO2_QTY_TONNES\", \"sum\"), ascending=False)\n",
    ")\n",
    "co2_country"
   ]
  },
  {
   "cell_type": "markdown",
   "metadata": {},
   "source": [
    "## Modifying and Merging DataFrames"
   ]
  },
  {
   "cell_type": "code",
   "execution_count": null,
   "metadata": {},
   "outputs": [],
   "source": [
    "# let's say we want to add a column with the CO2 emissions per movement\n",
    "# we can do this by dividing the CO2 emissions by the total traffic\n",
    "co2[\"CO2_PER_TF\"] = co2[\"CO2_QTY_TONNES\"] / co2[\"TF\"]\n",
    "co2.sort_values(\"CO2_PER_TF\", ascending=False)"
   ]
  },
  {
   "cell_type": "code",
   "execution_count": null,
   "metadata": {},
   "outputs": [],
   "source": [
    "# let's say we want to add some more information about the countries from another file\n",
    "# first, load the file. This time it's a json file, so we use pd.read_json\n",
    "# countries = pd.read_json(path_to_countries)\n",
    "countries = pd.read_json(\"data/icao_country.json\")\n",
    "countries.head()"
   ]
  },
  {
   "cell_type": "markdown",
   "metadata": {},
   "source": [
    "***See notes on join in the presentation***"
   ]
  },
  {
   "cell_type": "code",
   "execution_count": null,
   "metadata": {},
   "outputs": [],
   "source": [
    "# now we want to add ISO two character country code to our dataframe. Merging two datasets is a common\n",
    "# operation and is often called a \"join\" or \"merge\". For this to work, we need a common column in both\n",
    "# datasets. In our case, we have the ICAO code in both dataframes. It is the column \"STATE_CODE\" in\n",
    "# the co2 dataframe and \"icao_country\" in the countries dataframe.\n",
    "# We can use the .merge() method to join the two.\n",
    "co2_with_countries = co2.merge(\n",
    "    countries, left_on=\"STATE_CODE\", right_on=\"icao_country\", how=\"inner\"\n",
    ")\n",
    "print(\n",
    "    f\"The original dataframe has {len(co2)} rows, the new one has {len(co2_with_countries)}.\"\n",
    ")\n",
    "co2_with_countries.head()"
   ]
  },
  {
   "cell_type": "code",
   "execution_count": null,
   "metadata": {},
   "outputs": [],
   "source": [
    "# well, it seems that we have fewer rows in the new dataframe. Let's see which countries are missing.\n",
    "\n",
    "# get the countries in the co2 dataframe\n",
    "countries1 = co2[\"STATE_CODE\"].unique()\n",
    "\n",
    "# get the countries in the merged dataframe\n",
    "countries2 = co2_with_countries[\"icao_country\"].unique()\n",
    "\n",
    "# find the countries that are in the co2 dataframe but not in the countries dataframe\n",
    "# this can easily be done with sets, which are a data type in python\n",
    "missing_countries = set(countries1) - set(countries2)\n",
    "missing_countries\n",
    "\n",
    "# let's see the rows where the country is missing\n",
    "co2.query(\"STATE_CODE in @missing_countries\")"
   ]
  },
  {
   "cell_type": "code",
   "execution_count": null,
   "metadata": {},
   "outputs": [],
   "source": [
    "# let's try again, this time with a left join\n",
    "co2_with_countries = co2.merge(\n",
    "    countries, left_on=\"STATE_CODE\", right_on=\"icao_country\", how=\"left\"\n",
    ")\n",
    "print(\n",
    "    f\"The original dataframe has {len(co2)} rows, the new one has {len(co2_with_countries)}.\"\n",
    ")\n",
    "co2_with_countries.head()"
   ]
  }
 ],
 "metadata": {
  "kernelspec": {
   "display_name": "tso-fs25",
   "language": "python",
   "name": "python3"
  },
  "language_info": {
   "codemirror_mode": {
    "name": "ipython",
    "version": 3
   },
   "file_extension": ".py",
   "mimetype": "text/x-python",
   "name": "python",
   "nbconvert_exporter": "python",
   "pygments_lexer": "ipython3",
   "version": "3.12.8"
  }
 },
 "nbformat": 4,
 "nbformat_minor": 2
}
