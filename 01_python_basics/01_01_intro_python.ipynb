{
 "cells": [
  {
   "cell_type": "markdown",
   "metadata": {},
   "source": [
    "<a target=\"_blank\" href=\"https://colab.research.google.com/github/ZHAW-ZAV/TSO-FS25-students/blob/main/01_python_basics/01_01_intro_python.ipynb\">\n",
    "  <img src=\"https://colab.research.google.com/assets/colab-badge.svg\" alt=\"Open In Colab\"/>\n",
    "</a>"
   ]
  },
  {
   "cell_type": "markdown",
   "metadata": {},
   "source": [
    "# Introduction to Python\n",
    "\n",
    "\n",
    "## Importing libraries"
   ]
  },
  {
   "cell_type": "code",
   "execution_count": null,
   "metadata": {},
   "outputs": [],
   "source": [
    "# import the whole library\n",
    "import os\n",
    "\n",
    "# import a library and give it a specific name\n",
    "import numpy as np\n",
    "\n",
    "# import a specific function from a library\n",
    "from math import sqrt\n",
    "\n",
    "# How to use the libraries\n",
    "# example use: get the current working directory\n",
    "print(os.getcwd())\n",
    "\n",
    "# example use: create a numpy array\n",
    "a = np.array([1, 2, 3])\n",
    "\n",
    "# example use: calculate the square root of 2\n",
    "print(sqrt(2))"
   ]
  },
  {
   "cell_type": "markdown",
   "metadata": {},
   "source": [
    "## Printing"
   ]
  },
  {
   "cell_type": "code",
   "execution_count": null,
   "metadata": {},
   "outputs": [],
   "source": [
    "# simple print statement\n",
    "print(\"Hello World!\")\n",
    "\n",
    "# output variables\n",
    "a = \"Hello World!\"\n",
    "print(a)\n",
    "\n",
    "# formatted print\n",
    "age = 10\n",
    "name = \"Peter\"\n",
    "print(f\"Hello, my name is {name} and I am {age} years old.\")\n",
    "\n",
    "print(f\"The data type of age is {type(age)}, and the data type of name is {type(name)}\")"
   ]
  },
  {
   "cell_type": "markdown",
   "metadata": {},
   "source": [
    "## Basic data types\n",
    "\n",
    "### Boolean"
   ]
  },
  {
   "cell_type": "code",
   "execution_count": null,
   "metadata": {},
   "outputs": [],
   "source": [
    "# create with \"True\" or \"False\", or as a result of a comparison or logical operation\n",
    "a = True\n",
    "b = False\n",
    "c = a and b\n",
    "\n",
    "\n",
    "print(a & b)\n",
    "print(a | b)\n",
    "print((a & b) | (not c))"
   ]
  },
  {
   "cell_type": "markdown",
   "metadata": {},
   "source": [
    "### String"
   ]
  },
  {
   "cell_type": "code",
   "execution_count": null,
   "metadata": {},
   "outputs": [],
   "source": [
    "# create with either \"\" or '', there is no difference\n",
    "my_string = \"Hello World!\"\n",
    "\n",
    "# length of string\n",
    "print(len(my_string))\n",
    "\n",
    "# access by index\n",
    "print(my_string[0])\n",
    "\n",
    "# access by slicing\n",
    "print(my_string[0:5])\n",
    "\n",
    "# make uppercase\n",
    "print(my_string.upper())\n",
    "\n",
    "# replace substring\n",
    "print(my_string.replace(\"World\", \"Peter\"))\n",
    "\n",
    "# find substring\n",
    "print(\"World\" in my_string)"
   ]
  },
  {
   "cell_type": "markdown",
   "metadata": {},
   "source": [
    "### List"
   ]
  },
  {
   "cell_type": "code",
   "execution_count": null,
   "metadata": {},
   "outputs": [],
   "source": [
    "# create with []\n",
    "my_list = [1, 2, 3, 4, 5]\n",
    "\n",
    "# length of list\n",
    "print(len(my_list))\n",
    "\n",
    "# access by index\n",
    "print(my_list[0])\n",
    "\n",
    "# append to list\n",
    "my_list.append(6)\n",
    "print(my_list)\n",
    "\n",
    "# mixed data types\n",
    "my_list.append(\"Hello\")\n",
    "print(my_list)"
   ]
  },
  {
   "cell_type": "markdown",
   "metadata": {},
   "source": [
    "### Dictionary (dict)"
   ]
  },
  {
   "cell_type": "code",
   "execution_count": null,
   "metadata": {},
   "outputs": [],
   "source": [
    "# create with {}\n",
    "my_dict = {\"name\": \"Peter\", \"age\": 10}\n",
    "\n",
    "# access by key\n",
    "print(my_dict[\"name\"])\n",
    "\n",
    "# add new key-value pair\n",
    "my_dict[\"height\"] = 150\n",
    "print(my_dict)\n",
    "\n",
    "# length of dictionary\n",
    "print(len(my_dict))\n",
    "\n",
    "# dict of dicts\n",
    "my_dict = {\n",
    "    \"person1\": {\"name\": \"Peter\", \"age\": 10},\n",
    "    \"person2\": {\"name\": \"John\", \"age\": 20},\n",
    "}\n",
    "print(my_dict)\n",
    "print(my_dict[\"person1\"][\"name\"])"
   ]
  },
  {
   "cell_type": "markdown",
   "metadata": {},
   "source": [
    "### None type"
   ]
  },
  {
   "cell_type": "code",
   "execution_count": null,
   "metadata": {},
   "outputs": [],
   "source": [
    "var = None\n",
    "print(var)\n",
    "\n",
    "# check if a variable is None\n",
    "var is None"
   ]
  },
  {
   "cell_type": "markdown",
   "metadata": {},
   "source": [
    "## Flow control\n",
    "### if-elif-else"
   ]
  },
  {
   "cell_type": "code",
   "execution_count": null,
   "metadata": {},
   "outputs": [],
   "source": [
    "var = 10\n",
    "\n",
    "# simple if-else statement\n",
    "if var is None:\n",
    "    print(\"Variable is None\")\n",
    "else:\n",
    "    print(\"Variable is not None\")\n",
    "\n",
    "# if-elif-else statement\n",
    "if var is None:\n",
    "    print(\"Variable is None\")\n",
    "elif var == 10:\n",
    "    print(\"Variable is 10\")\n",
    "else:\n",
    "    print(\"Variable is not None and not 10\")"
   ]
  },
  {
   "cell_type": "markdown",
   "metadata": {},
   "source": [
    "### for loop"
   ]
  },
  {
   "cell_type": "code",
   "execution_count": null,
   "metadata": {},
   "outputs": [],
   "source": [
    "# iterate over range\n",
    "for i in range(5):\n",
    "    print(i)\n",
    "\n",
    "# iterate over list\n",
    "var = [\"Peter\", \"John\", \"Mary\"]\n",
    "for name in var:\n",
    "    print(f\"Hello {name}\")\n",
    "\n",
    "# iterate over dictionary: by items\n",
    "var = {\"Peter\": 10, \"John\": 20, \"Mary\": 30}\n",
    "for name, age in var.items():\n",
    "    print(f\"{name} is {age} years old\")\n",
    "\n",
    "# iterate over dictionary: by keys\n",
    "for name in var.keys():\n",
    "    print(name)"
   ]
  }
 ],
 "metadata": {
  "kernelspec": {
   "display_name": "tso-fs25",
   "language": "python",
   "name": "python3"
  },
  "language_info": {
   "codemirror_mode": {
    "name": "ipython",
    "version": 3
   },
   "file_extension": ".py",
   "mimetype": "text/x-python",
   "name": "python",
   "nbconvert_exporter": "python",
   "pygments_lexer": "ipython3",
   "version": "3.12.8"
  }
 },
 "nbformat": 4,
 "nbformat_minor": 2
}
