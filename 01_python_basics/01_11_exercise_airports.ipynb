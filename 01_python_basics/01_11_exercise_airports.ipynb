{
 "cells": [
  {
   "cell_type": "markdown",
   "metadata": {},
   "source": [
    "<a target=\"_blank\" href=\"https://colab.research.google.com/github/ZHAW-ZAV/TSO-FS25-students/blob/main/01_python_basics/01_11_exercise_airports.ipynb\">\n",
    "  <img src=\"https://colab.research.google.com/assets/colab-badge.svg\" alt=\"Open In Colab\"/>\n",
    "</a>"
   ]
  },
  {
   "cell_type": "code",
   "execution_count": null,
   "metadata": {},
   "outputs": [],
   "source": [
    "import sys\n",
    "import os\n",
    "\n",
    "IN_COLAB = \"google.colab\" in sys.modules\n",
    "\n",
    "file_id_airports = \"1htJ9M2E6uiJSyQq0vvxIvUqIefwa-L73\"\n",
    "file_id_countries = \"1me9ab-d8k1H0RVIq72U85Lr0p4Q1yhWn\"\n",
    "file_id_population = \"1eWJVsEqM52xG-pLffdvkEy880oRsaTyz\"\n",
    "\n",
    "if IN_COLAB:\n",
    "    path_to_airports = \"/content/data/airports_europe.csv\"\n",
    "    os.makedirs(os.path.dirname(path_to_airports), exist_ok=True)\n",
    "    !gdown \"https://drive.google.com/uc?id={file_id_airports}\" -O \"{path_to_airports}\"\n",
    "\n",
    "    path_to_countries = \"/content/data/iso_country_codes.json\"\n",
    "    os.makedirs(os.path.dirname(path_to_countries), exist_ok=True)\n",
    "    !gdown \"https://drive.google.com/uc?id={file_id_countries}\" -O \"{path_to_countries}\"\n",
    "\n",
    "    path_to_population = \"/content/data/world_population.csv\"\n",
    "    os.makedirs(os.path.dirname(path_to_population), exist_ok=True)\n",
    "    !gdown \"https://drive.google.com/uc?id={file_id_population}\" -O \"{path_to_population}\"\n",
    "else:\n",
    "    import gdown\n",
    "\n",
    "    url = f\"https://drive.google.com/uc?id={file_id_airports}\"\n",
    "    path_to_airports = \"data/airports_europe.csv\"\n",
    "    os.makedirs(os.path.dirname(path_to_airports), exist_ok=True)\n",
    "    gdown.download(url, path_to_airports, quiet=False)\n",
    "\n",
    "    url = f\"https://drive.google.com/uc?id={file_id_countries}\"\n",
    "    path_to_countries = \"data/iso_country_codes.json\"\n",
    "    os.makedirs(os.path.dirname(path_to_countries), exist_ok=True)\n",
    "    gdown.download(url, path_to_countries, quiet=False)\n",
    "\n",
    "    url = f\"https://drive.google.com/uc?id={file_id_population}\"\n",
    "    path_to_population = \"data/world_population.csv\"\n",
    "    os.makedirs(os.path.dirname(path_to_population), exist_ok=True)\n",
    "    gdown.download(url, path_to_population, quiet=False)\n"
   ]
  },
  {
   "cell_type": "markdown",
   "metadata": {},
   "source": [
    "The code above loads the data, don't modify.\n",
    "\n",
    "---------------\n",
    "\n",
    "***Notebook starts here***"
   ]
  },
  {
   "cell_type": "markdown",
   "metadata": {},
   "source": [
    "# Analyzing European Airports\n",
    "\n",
    "In this exercise we use three publicly available datasets:\n",
    "- **airports_europe.csv**: A dataset containing information about European airports. The data is provided by [OurAirports](https://ourairports.com/data/) and limited to European airports.\n",
    "- **iso_country_codes.json**: Mapping of ISO 2 and 3 character country codes to country names and other information. The data is provided by [a user on GitHub](https://github.com/lukes/ISO-3166-Countries-with-Regional-Codes/tree/master).\n",
    "- **world_population.csv**: World population by country and year provided by the [World Bank](https://data.worldbank.org/indicator/SP.POP.TOTL).\n",
    "\n",
    "## Tasks\n",
    "This exercise is guided and you will be asked to implement the analysis step by step. The tasks are:\n",
    "1. Load the data\n",
    "2. Familiarize yourself with the data\n",
    "3. Analyze the types of airports per region\n",
    "4. Analyze the airports per resident in each country"
   ]
  },
  {
   "cell_type": "markdown",
   "metadata": {},
   "source": [
    "## Reading Data"
   ]
  },
  {
   "cell_type": "code",
   "execution_count": null,
   "metadata": {},
   "outputs": [],
   "source": [
    "# Import the pandas library\n"
   ]
  },
  {
   "cell_type": "code",
   "execution_count": null,
   "metadata": {},
   "outputs": [],
   "source": [
    "# Read the airport CSV file into a pandas dataframe.\n",
    "# The variable 'path_to_airports' contains the path to the data file, use this variable to read the data\n",
    "airports = []"
   ]
  },
  {
   "cell_type": "code",
   "execution_count": null,
   "metadata": {},
   "outputs": [],
   "source": [
    "# We also need a dataframe for the countries (.json file), read that file into a pandas dataframe.\n",
    "# The variable 'path_to_countries' contains the path to the data file, use this variable to read the data\n",
    "countries = []"
   ]
  },
  {
   "cell_type": "markdown",
   "metadata": {},
   "source": [
    "## Familiarize yourself with the data"
   ]
  },
  {
   "cell_type": "code",
   "execution_count": null,
   "metadata": {},
   "outputs": [],
   "source": [
    "# How many airports are in the dataframe?\n"
   ]
  },
  {
   "cell_type": "code",
   "execution_count": null,
   "metadata": {},
   "outputs": [],
   "source": [
    "# Display the first 5 rows in the airports dataframe\n"
   ]
  },
  {
   "cell_type": "code",
   "execution_count": null,
   "metadata": {},
   "outputs": [],
   "source": [
    "# Display the last 5 rows in the airports dataframe\n"
   ]
  },
  {
   "cell_type": "code",
   "execution_count": null,
   "metadata": {},
   "outputs": [],
   "source": [
    "# What are the unique ISO country codes in the airports dataframe?\n"
   ]
  },
  {
   "cell_type": "code",
   "execution_count": null,
   "metadata": {},
   "outputs": [],
   "source": [
    "# How many countries are in the airports dataframe?\n"
   ]
  },
  {
   "cell_type": "code",
   "execution_count": null,
   "metadata": {},
   "outputs": [],
   "source": [
    "# What are the different \"type\" of airports in the dataframe?\n"
   ]
  },
  {
   "cell_type": "code",
   "execution_count": null,
   "metadata": {},
   "outputs": [],
   "source": [
    "# Let's check out something a bit niche:\n",
    "# - How many 'balloonport' exist in which country?\n",
    "# - How many 'seaplane_base' exist in which country?\n",
    "\n"
   ]
  },
  {
   "cell_type": "markdown",
   "metadata": {},
   "source": [
    "## Analysis of airports per region"
   ]
  },
  {
   "cell_type": "code",
   "execution_count": null,
   "metadata": {},
   "outputs": [],
   "source": [
    "# Let's have a brief look into the countries dataframe.\n",
    "# Display the first 5 rows in the countries dataframe\n"
   ]
  },
  {
   "cell_type": "code",
   "execution_count": null,
   "metadata": {},
   "outputs": [],
   "source": [
    "# Join the airports and countries dataframes so we can do some analysis on the region of the airports.\n",
    "# Two notes:\n",
    "# - Make sure that the resulting dataframe has the same number of columns as the airports dataframe. You can\n",
    "#   specify the join type (with the function argument 'how'), choose the type that keeps all the airports in the\n",
    "#   resulting dataframe.\n",
    "# - We only want to add the columns 'sub-region' and 'alpha-3' from the countries dataframe to the airports dataframe. Make sure\n",
    "#   you select only that column.\n",
    "#   You can drop the column 'alpha-2' from the resulting dataframe with the function 'drop'.\n"
   ]
  },
  {
   "cell_type": "code",
   "execution_count": null,
   "metadata": {},
   "outputs": [],
   "source": [
    "# How many airports are in each region?\n"
   ]
  },
  {
   "cell_type": "code",
   "execution_count": null,
   "metadata": {},
   "outputs": [],
   "source": [
    "# How many airports are in each region of each type?\n",
    "#\n",
    "# Hint: You can use the groupby function to group by multiple columns, for example:\n",
    "# df.groupby([\"col1\", \"col2\"]).count()\n",
    "\n"
   ]
  },
  {
   "cell_type": "markdown",
   "metadata": {},
   "source": [
    "## Airports per resident in each country"
   ]
  },
  {
   "cell_type": "code",
   "execution_count": null,
   "metadata": {},
   "outputs": [],
   "source": [
    "# Now for a different task: We want to make an analysis of the number of airports per resident in each country.\n",
    "#\n",
    "# For that, we need to do a couple of steps. First, we need to load a new dataset with the population of each country.\n",
    "#\n",
    "# Read the world population CSV file into a pandas dataframe.\n",
    "# The variable 'path_to_population' contains the path to the data file, use this variable to read the data\n",
    "#\n",
    "# Hint: Before you load the file, have a look at it. You can see that the first couple of rows are not part of the data.\n",
    "# You can provide the argument 'header' to read_csv() to skip the first n of rows.\n",
    "\n",
    "pop = []"
   ]
  },
  {
   "cell_type": "code",
   "execution_count": null,
   "metadata": {},
   "outputs": [],
   "source": [
    "# Display the first 5 rows in the population dataframe\n"
   ]
  },
  {
   "cell_type": "code",
   "execution_count": null,
   "metadata": {},
   "outputs": [],
   "source": [
    "# Looks like there are a lot of columns in the population dataframe that we don't need.\n",
    "# Keep only the columns 'Country Name', 'Country Code', and the year 2023.\n",
    "\n"
   ]
  },
  {
   "cell_type": "code",
   "execution_count": null,
   "metadata": {},
   "outputs": [],
   "source": [
    "# Next, we need to aggregate the number of airports per country in a new dataframe.\n",
    "# Do the following:\n",
    "# 1. Group the 'airports_with_country' dataframe by 'alpha-3' and count the number of airports.\n",
    "# 2. Call 'reset_index()' on the resulting dataframe to get a new dataframe.\n",
    "# 3. Rename the column with the number of airports per country to 'n_airports'. You can do that with the function\n",
    "#    'rename(columns={\"old_name\": \"new_name\"})', where 'old_name' is the current column name and 'new_name' is the new\n",
    "#    column name.\n",
    "\n"
   ]
  },
  {
   "cell_type": "code",
   "execution_count": null,
   "metadata": {},
   "outputs": [],
   "source": [
    "# Display the first 5 rows in the new dataframe\n"
   ]
  },
  {
   "cell_type": "code",
   "execution_count": null,
   "metadata": {},
   "outputs": [],
   "source": [
    "# Now, we need to merge the population dataframe with the number of airports dataframe.\n",
    "# Do the following:\n",
    "# 1. Merge the population dataframe with the number of airports dataframe.\n",
    "# 2. Drop the column 'alpha-3' from the resulting dataframe.\n",
    "# 3. Rename the column '2023' to 'population'.\n",
    "\n"
   ]
  },
  {
   "cell_type": "code",
   "execution_count": null,
   "metadata": {},
   "outputs": [],
   "source": [
    "# Display the first 5 rows in the new dataframe\n"
   ]
  },
  {
   "cell_type": "code",
   "execution_count": null,
   "metadata": {},
   "outputs": [],
   "source": [
    "# Add a new column to the dataframe that contains the number of airports per resident.\n",
    "# Since number of airports per resident is a very small number, you might want to multiply it by 1,000,000 to get a more\n",
    "# readable number.\n",
    "\n"
   ]
  },
  {
   "cell_type": "code",
   "execution_count": null,
   "metadata": {},
   "outputs": [],
   "source": [
    "# Nice, almost done.\n",
    "# As a last step, sort the dataframe by the number of airports per resident in descending order and display it.\n",
    "#\n",
    "# Hint: You can use the function 'sort_values()' to sort the dataframe by a specific column and specify the argument\n",
    "# 'ascending=False' to sort in descending order.\n",
    "\n"
   ]
  }
 ],
 "metadata": {
  "kernelspec": {
   "display_name": "tso-fs25",
   "language": "python",
   "name": "python3"
  },
  "language_info": {
   "codemirror_mode": {
    "name": "ipython",
    "version": 3
   },
   "file_extension": ".py",
   "mimetype": "text/x-python",
   "name": "python",
   "nbconvert_exporter": "python",
   "pygments_lexer": "ipython3",
   "version": "3.12.8"
  }
 },
 "nbformat": 4,
 "nbformat_minor": 2
}
