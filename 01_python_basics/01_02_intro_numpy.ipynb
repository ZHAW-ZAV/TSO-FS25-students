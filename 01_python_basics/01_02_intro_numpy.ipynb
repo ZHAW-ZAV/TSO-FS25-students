{
 "cells": [
  {
   "cell_type": "markdown",
   "metadata": {},
   "source": [
    "<a target=\"_blank\" href=\"https://colab.research.google.com/github/ZHAW-ZAV/TSO-FS25-students/blob/main/01_python_basics/01_02_intro_numpy.ipynb\">\n",
    "  <img src=\"https://colab.research.google.com/assets/colab-badge.svg\" alt=\"Open In Colab\"/>\n",
    "</a>"
   ]
  },
  {
   "cell_type": "markdown",
   "metadata": {},
   "source": [
    "# Introduction to NumPy\n",
    "\n",
    "\n",
    "## Importing NumPy"
   ]
  },
  {
   "cell_type": "code",
   "execution_count": 1,
   "metadata": {},
   "outputs": [],
   "source": [
    "import numpy as np"
   ]
  },
  {
   "cell_type": "markdown",
   "metadata": {},
   "source": [
    "## Creating arrays\n",
    "\n",
    "### Creating a 1D array"
   ]
  },
  {
   "cell_type": "code",
   "execution_count": null,
   "metadata": {},
   "outputs": [],
   "source": [
    "a = np.array([43, 56, 35, 3])\n",
    "print(a)\n",
    "print(f\"The shape is {a.shape}\")\n",
    "print(f\"The size is {a.size}\")\n",
    "print(f\"The type is {type(a)}\")"
   ]
  },
  {
   "cell_type": "markdown",
   "metadata": {},
   "source": [
    "### Creating a 2D array"
   ]
  },
  {
   "cell_type": "code",
   "execution_count": null,
   "metadata": {},
   "outputs": [],
   "source": [
    "a = np.array([[1, 2, 3], [4, 5, 6], [7, 8, 9]])\n",
    "print(a)\n",
    "print(f\"The shape is {a.shape}\")\n",
    "print(f\"The size is {a.size}\")"
   ]
  },
  {
   "cell_type": "markdown",
   "metadata": {},
   "source": [
    "### Creating a filled array"
   ]
  },
  {
   "cell_type": "code",
   "execution_count": null,
   "metadata": {},
   "outputs": [],
   "source": [
    "# create a 3x3 array of zeros\n",
    "a = np.zeros((3, 3))\n",
    "print(a)\n",
    "\n",
    "# create a 3x3 array of 5s\n",
    "a = np.ones((3, 3)) * 5\n",
    "print(a)\n",
    "\n",
    "# create a 3x3 identity matrix\n",
    "a = np.eye(3)\n",
    "print(a)\n",
    "\n",
    "# create a 3x3 array of random numbers between 0 and 1\n",
    "a = np.random.random((3, 3))\n",
    "print(a)"
   ]
  },
  {
   "cell_type": "markdown",
   "metadata": {},
   "source": [
    "## Accessing elements\n",
    "Remember that indices in Python start at 0."
   ]
  },
  {
   "cell_type": "code",
   "execution_count": null,
   "metadata": {},
   "outputs": [],
   "source": [
    "a = np.array([10, 20, 30, 40])\n",
    "\n",
    "print(f\"The first element is {a[0]}\")\n",
    "print(f\"The last element is {a[-1]}\")\n",
    "print(f\"The first two elements are {a[0:2]}\")\n",
    "print(f\"The last two elements are {a[-2:]}\")"
   ]
  },
  {
   "cell_type": "code",
   "execution_count": null,
   "metadata": {},
   "outputs": [],
   "source": [
    "a = np.array([[1, 2, 3], [4, 5, 6], [7, 8, 9]])\n",
    "\n",
    "print(f\"The element in the second row and third column is {a[1, 2]}\")\n",
    "print(f\"The first row is {a[0, :]}\")\n",
    "print(f\"The second column is {a[:, 1]}\")\n",
    "print(f\"The first two rows are {a[:2, :]}\")"
   ]
  },
  {
   "cell_type": "markdown",
   "metadata": {},
   "source": [
    "## Array operations"
   ]
  },
  {
   "cell_type": "code",
   "execution_count": null,
   "metadata": {},
   "outputs": [],
   "source": [
    "a = np.array([10, 20, 30, 40])\n",
    "b = np.array([1, 2, 3, 4])\n",
    "c = np.array([[1, 2, 3, 4], [5, 6, 7, 8], [9, 10, 11, 12]])\n",
    "\n",
    "# addition/subtraction\n",
    "print(a - 10)\n",
    "print(a + b)\n",
    "\n",
    "# element-wise multiplication/division\n",
    "print(a * 2)\n",
    "print(a / 2)\n",
    "\n",
    "# matrix multiplication\n",
    "print(np.matmul(a, b))\n",
    "print(np.matmul(c, b))"
   ]
  },
  {
   "cell_type": "code",
   "execution_count": null,
   "metadata": {},
   "outputs": [],
   "source": [
    "a = np.array([10, 20, 30, 40])\n",
    "\n",
    "# aggregation functions\n",
    "print(a.sum())\n",
    "print(a.mean())\n",
    "print(a.std())\n",
    "print(a.min())\n",
    "print(a.max())"
   ]
  }
 ],
 "metadata": {
  "kernelspec": {
   "display_name": "tso-fs25",
   "language": "python",
   "name": "python3"
  },
  "language_info": {
   "codemirror_mode": {
    "name": "ipython",
    "version": 3
   },
   "file_extension": ".py",
   "mimetype": "text/x-python",
   "name": "python",
   "nbconvert_exporter": "python",
   "pygments_lexer": "ipython3",
   "version": "3.12.8"
  }
 },
 "nbformat": 4,
 "nbformat_minor": 2
}
