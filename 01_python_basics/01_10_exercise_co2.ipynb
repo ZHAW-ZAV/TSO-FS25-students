{
 "cells": [
  {
   "cell_type": "markdown",
   "metadata": {},
   "source": [
    "<a target=\"_blank\" href=\"https://colab.research.google.com/github/ZHAW-ZAV/TSO-FS25-students/blob/main/01_python_basics/01_10_exercise_co2.ipynb\">\n",
    "  <img src=\"https://colab.research.google.com/assets/colab-badge.svg\" alt=\"Open In Colab\"/>\n",
    "</a>"
   ]
  },
  {
   "cell_type": "code",
   "execution_count": null,
   "metadata": {},
   "outputs": [],
   "source": [
    "import sys\n",
    "import os\n",
    "\n",
    "IN_COLAB = \"google.colab\" in sys.modules\n",
    "\n",
    "file_id_co2 = \"1-FxcOXUXMrXZzDzeLgarKoQfa2QN_sXO\"\n",
    "\n",
    "if IN_COLAB:\n",
    "    path_to_co2 = \"/content/data/co2_emmissions_by_state.csv\"\n",
    "    os.makedirs(os.path.dirname(path_to_co2), exist_ok=True)\n",
    "    !gdown \"https://drive.google.com/uc?id={file_id_co2}\" -O \"{path_to_co2}\"\n",
    "else:\n",
    "    import gdown\n",
    "\n",
    "    url = f\"https://drive.google.com/uc?id={file_id_co2}\"\n",
    "    path_to_co2 = \"data/co2_emmissions_by_state.csv\"\n",
    "    os.makedirs(os.path.dirname(path_to_co2), exist_ok=True)\n",
    "    gdown.download(url, path_to_co2, quiet=False)\n"
   ]
  },
  {
   "cell_type": "markdown",
   "metadata": {},
   "source": [
    "The code above loads the data, don't modify.\n",
    "\n",
    "---------------\n",
    "\n",
    "***Notebook starts here***"
   ]
  },
  {
   "cell_type": "markdown",
   "metadata": {},
   "source": [
    "# Analyzing CO2 emissions\n",
    "\n",
    "In this exercise, we will analyze the CO2 emissions of different countries. The data is provided in the file `co2_emmissions_by_state.csv`, starting from the year 2010. The data contains the following columns:\n",
    "- `YEAR`: Year of the data\n",
    "- `MONTH`: Month of the data, from 1 to 12\n",
    "- `STATE_NAME`: Name of the country\n",
    "- `STATE_CODE`: Two letter code of the country\n",
    "- `CO2_QTY_TONNES`: CO2 emissions in metric tons\n",
    "- `TF`: Number of flights\n",
    "\n",
    "This dataset is provided by EUROCONTROL and publicly available [here](https://ansperformance.eu/data/) and the description [here](https://ansperformance.eu/reference/dataset/emissions/).\n",
    "\n",
    "The data contains the calculated emissions from all IFR flights departing from a EUROCONTROL member state. For instance, the total CO2 emissions for the full trajectory of a flight from Brussels to New York would be included in the results for Belgium. A flight from New York to Brussels would however NOT be included in the results for Belgium.\n",
    "\n",
    "## Tasks\n",
    "This exercise is guided and you will be asked to implement the analysis step by step. The tasks are:\n",
    "1. Load the data\n",
    "2. Familiarize yourself with the data\n",
    "3. Analyze the CO2 emissions of the countries"
   ]
  },
  {
   "cell_type": "markdown",
   "metadata": {},
   "source": [
    "## Reading Data"
   ]
  },
  {
   "cell_type": "code",
   "execution_count": null,
   "metadata": {},
   "outputs": [],
   "source": [
    "# Import the pandas library\n"
   ]
  },
  {
   "cell_type": "code",
   "execution_count": null,
   "metadata": {},
   "outputs": [],
   "source": [
    "# Read the CSV file into a pandas dataframe.\n",
    "# The variable 'path_to_co2' contains the path to the data file, use this variable to read the data\n",
    "co2 = []"
   ]
  },
  {
   "cell_type": "markdown",
   "metadata": {},
   "source": [
    "## Familiarize yourself with the data"
   ]
  },
  {
   "cell_type": "code",
   "execution_count": null,
   "metadata": {},
   "outputs": [],
   "source": [
    "# How many rows are in the dataframe?\n"
   ]
  },
  {
   "cell_type": "code",
   "execution_count": null,
   "metadata": {},
   "outputs": [],
   "source": [
    "# Display the first 5 rows in the dataframe\n",
    "# What is the first month and year in the dataset?\n"
   ]
  },
  {
   "cell_type": "code",
   "execution_count": null,
   "metadata": {},
   "outputs": [],
   "source": [
    "# Display the last 5 rows in the dataframe\n",
    "# What is the last month and year in the dataset?\n"
   ]
  },
  {
   "cell_type": "code",
   "execution_count": null,
   "metadata": {},
   "outputs": [],
   "source": [
    "# What are the names of the states in the dataframe?\n",
    "# Hint: Use the unique() function.\n"
   ]
  },
  {
   "cell_type": "code",
   "execution_count": null,
   "metadata": {},
   "outputs": [],
   "source": [
    "# How many states are in the dataframe?\n",
    "#\n",
    "# Hint: Use the unique() and len() functions.\n"
   ]
  },
  {
   "cell_type": "code",
   "execution_count": null,
   "metadata": {},
   "outputs": [],
   "source": [
    "# Let's have an overview of the CO2 emissions and the traffic per month.\n",
    "#\n",
    "# Hint: generate some descriptive statistics with 'describe()' on the two columns.\n",
    "#\n",
    "# Answer the following questions:\n",
    "# - How much CO2 is emitted on average per month?\n",
    "# - What is the minimum CO2 emission per month?\n",
    "# - What is the average traffic per month?\n",
    "# - What is the maximum traffic per month?\n",
    "# - Is this analysis meaningful? Why?\n",
    "\n"
   ]
  },
  {
   "cell_type": "code",
   "execution_count": null,
   "metadata": {},
   "outputs": [],
   "source": [
    "# How many data points do we have for \"LIECHTENSTEIN\"?\n",
    "#\n",
    "# Hint: you can either use the value_counts() function and find the entry for Lichtenstein, or you can filter\n",
    "# (with query()) the dataframe and use the len() function.\n",
    "\n"
   ]
  },
  {
   "cell_type": "markdown",
   "metadata": {},
   "source": [
    "## Analysis of CO2 emissions"
   ]
  },
  {
   "cell_type": "code",
   "execution_count": null,
   "metadata": {},
   "outputs": [],
   "source": [
    "# Let's start by calculating the CO2 emissions per flight.\n",
    "# You can do this by dividing the CO2 emissions by the total traffic and add it as a new column to the\n",
    "# dataframe.\n"
   ]
  },
  {
   "cell_type": "code",
   "execution_count": null,
   "metadata": {},
   "outputs": [],
   "source": [
    "# What is the average, maximum and minimum CO2 emitted per month for flights from Switzerland?\n",
    "# Output the results with a print statement and format the numbers to 1 decimal place.\n",
    "#\n",
    "# Hint: Use the query() function to filter the dataframe and then use the min(), max() and mean() functions.\n"
   ]
  },
  {
   "cell_type": "code",
   "execution_count": null,
   "metadata": {},
   "outputs": [],
   "source": [
    "# What is the average, maximum and minimum CO2 emitted per flight for flights from Switzerland?\n",
    "# You can use the same approach as above.\n"
   ]
  },
  {
   "cell_type": "code",
   "execution_count": null,
   "metadata": {},
   "outputs": [],
   "source": [
    "# What is the total CO2 emitted by flights from Switzerland for each year?\n",
    "# Do you see any effect of the COVID-19 pandemic on the CO2 emissions?\n",
    "#\n",
    "# Hint: You can use the groupby() function to group the data by year and then sum() to calculate the total CO2\n",
    "# emitted per year.\n",
    "\n"
   ]
  },
  {
   "cell_type": "code",
   "execution_count": null,
   "metadata": {},
   "outputs": [],
   "source": [
    "# Interesting, there is a significant drop in CO2 emissions in 2020. But with the information we have so far, it's not\n",
    "# clear if this is due to the COVID-19 pandemic or if there are other reasons, for example extraordinarily efficient aircraft\n",
    "# that entered service in 2020. Let's investigate further.\n",
    "#\n",
    "# Expand the previous analysis by calculating the total number of flights and the average CO2 emitted per flight for each year.\n",
    "# Answer the following questions:\n",
    "# - Does the drop in the number of flights correlate with the COVID-19 pandemic? Why do you think so?\n",
    "# - There was a significant drop in the average CO2 emitted per flight in 2020. What could be the reason for this?\n",
    "\n"
   ]
  },
  {
   "cell_type": "code",
   "execution_count": null,
   "metadata": {},
   "outputs": [],
   "source": [
    "# Let's do a similar analysis for the difference between 2019 and 2020 for all the states.\n",
    "# Calculate the total CO2 emissions, the total number of flights, and the average CO2 emitted per flight for each state combined,\n",
    "# but only for the years after (and including) 2018.\n",
    "# How does this compare to the numbers from Switzerland?\n",
    "\n"
   ]
  }
 ],
 "metadata": {
  "kernelspec": {
   "display_name": "tso-fs25",
   "language": "python",
   "name": "python3"
  },
  "language_info": {
   "codemirror_mode": {
    "name": "ipython",
    "version": 3
   },
   "file_extension": ".py",
   "mimetype": "text/x-python",
   "name": "python",
   "nbconvert_exporter": "python",
   "pygments_lexer": "ipython3",
   "version": "3.12.8"
  }
 },
 "nbformat": 4,
 "nbformat_minor": 2
}
